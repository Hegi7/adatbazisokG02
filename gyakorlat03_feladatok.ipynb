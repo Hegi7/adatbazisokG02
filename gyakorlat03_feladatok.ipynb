{
    "metadata": {
        "kernelspec": {
            "name": "SQL",
            "display_name": "SQL",
            "language": "sql"
        },
        "language_info": {
            "name": "sql",
            "version": ""
        },
        "extensions": {
            "azuredatastudio": {
                "version": 1,
                "views": []
            }
        }
    },
    "nbformat_minor": 2,
    "nbformat": 4,
    "cells": [
        {
            "cell_type": "markdown",
            "source": [
                "**Az első 5 feladat ismétlés (többtáblás lekérdezések) a tanulmányi adatbázisból**\n",
                "\n",
                "1. Készítsünk listát arról, hogy melyik óra melyik teremben van!\n",
                "    \n",
                "    1. Jelenítsük meg az óra azonosítóját és a terem nevét!\n",
                "    2. A listát szűrjük a 3 karakter hosszú, \\[100;199\\] zárt intervallumba eső termekre! Feltesszük, hogy a 3 karakter hosszú terem nevek csak számjegyeket tartalmaznak."
            ],
            "metadata": {
                "azdata_cell_guid": "77f2d5b3-38e9-41cc-893f-f5afd02b97ef"
            },
            "attachments": {}
        },
        {
            "cell_type": "code",
            "source": [
                "SELECT ora.ora_id AS 'Óra azonosító',\r\n",
                "       ter.Terem AS 'Terem'\r\n",
                "FROM Orak ora JOIN Termek ter ON ora.terem = ter.Tkód"
            ],
            "metadata": {
                "azdata_cell_guid": "bd3cef1a-4e6e-4ece-9dc3-aaa9d2b5d66d",
                "language": "sql"
            },
            "outputs": [
                {
                    "output_type": "display_data",
                    "data": {
                        "text/html": "(67 rows affected)"
                    },
                    "metadata": {}
                },
                {
                    "output_type": "display_data",
                    "data": {
                        "text/html": "Total execution time: 00:00:00.007"
                    },
                    "metadata": {}
                },
                {
                    "output_type": "execute_result",
                    "metadata": {},
                    "execution_count": 3,
                    "data": {
                        "application/vnd.dataresource+json": {
                            "schema": {
                                "fields": [
                                    {
                                        "name": "ora_id"
                                    },
                                    {
                                        "name": "tanar"
                                    },
                                    {
                                        "name": "nap"
                                    },
                                    {
                                        "name": "Sav"
                                    },
                                    {
                                        "name": "targy"
                                    },
                                    {
                                        "name": "terem"
                                    },
                                    {
                                        "name": "Tkód"
                                    },
                                    {
                                        "name": "Terem"
                                    }
                                ]
                            },
                            "data": [
                                {
                                    "ora_id": "159",
                                    "tanar": "4",
                                    "nap": "3",
                                    "Sav": "1",
                                    "targy": "1",
                                    "terem": "1",
                                    "Tkód": "1",
                                    "Terem": "117"
                                },
                                {
                                    "ora_id": "160",
                                    "tanar": "8",
                                    "nap": "2",
                                    "Sav": "5",
                                    "targy": "1",
                                    "terem": "2",
                                    "Tkód": "2",
                                    "Terem": "118"
                                },
                                {
                                    "ora_id": "161",
                                    "tanar": "8",
                                    "nap": "1",
                                    "Sav": "2",
                                    "targy": "1",
                                    "terem": "2",
                                    "Tkód": "2",
                                    "Terem": "118"
                                },
                                {
                                    "ora_id": "162",
                                    "tanar": "20",
                                    "nap": "1",
                                    "Sav": "4",
                                    "targy": "1",
                                    "terem": "3",
                                    "Tkód": "3",
                                    "Terem": "119"
                                },
                                {
                                    "ora_id": "163",
                                    "tanar": "3",
                                    "nap": "3",
                                    "Sav": "2",
                                    "targy": "1",
                                    "terem": "4",
                                    "Tkód": "4",
                                    "Terem": "120"
                                },
                                {
                                    "ora_id": "164",
                                    "tanar": "7",
                                    "nap": "2",
                                    "Sav": "3",
                                    "targy": "1",
                                    "terem": "3",
                                    "Tkód": "3",
                                    "Terem": "119"
                                },
                                {
                                    "ora_id": "165",
                                    "tanar": "3",
                                    "nap": "2",
                                    "Sav": "3",
                                    "targy": "1",
                                    "terem": "3",
                                    "Tkód": "3",
                                    "Terem": "119"
                                },
                                {
                                    "ora_id": "166",
                                    "tanar": "3",
                                    "nap": "2",
                                    "Sav": "4",
                                    "targy": "1",
                                    "terem": "3",
                                    "Tkód": "3",
                                    "Terem": "119"
                                },
                                {
                                    "ora_id": "167",
                                    "tanar": "2",
                                    "nap": "1",
                                    "Sav": "4",
                                    "targy": "1",
                                    "terem": "4",
                                    "Tkód": "4",
                                    "Terem": "120"
                                },
                                {
                                    "ora_id": "168",
                                    "tanar": "4",
                                    "nap": "4",
                                    "Sav": "3",
                                    "targy": "1",
                                    "terem": "5",
                                    "Tkód": "5",
                                    "Terem": "217"
                                },
                                {
                                    "ora_id": "169",
                                    "tanar": "20",
                                    "nap": "1",
                                    "Sav": "2",
                                    "targy": "1",
                                    "terem": "6",
                                    "Tkód": "6",
                                    "Terem": "218"
                                },
                                {
                                    "ora_id": "170",
                                    "tanar": "104",
                                    "nap": "1",
                                    "Sav": "2",
                                    "targy": "1",
                                    "terem": "4",
                                    "Tkód": "4",
                                    "Terem": "120"
                                },
                                {
                                    "ora_id": "171",
                                    "tanar": "14",
                                    "nap": "2",
                                    "Sav": "2",
                                    "targy": "1",
                                    "terem": "8",
                                    "Tkód": "8",
                                    "Terem": "220"
                                },
                                {
                                    "ora_id": "172",
                                    "tanar": "7",
                                    "nap": "2",
                                    "Sav": "2",
                                    "targy": "1",
                                    "terem": "3",
                                    "Tkód": "3",
                                    "Terem": "119"
                                },
                                {
                                    "ora_id": "173",
                                    "tanar": "20",
                                    "nap": "4",
                                    "Sav": "3",
                                    "targy": "1",
                                    "terem": "3",
                                    "Tkód": "3",
                                    "Terem": "119"
                                },
                                {
                                    "ora_id": "174",
                                    "tanar": "104",
                                    "nap": "4",
                                    "Sav": "3",
                                    "targy": "1",
                                    "terem": "7",
                                    "Tkód": "7",
                                    "Terem": "219"
                                },
                                {
                                    "ora_id": "175",
                                    "tanar": "14",
                                    "nap": "4",
                                    "Sav": "4",
                                    "targy": "1",
                                    "terem": "4",
                                    "Tkód": "4",
                                    "Terem": "120"
                                },
                                {
                                    "ora_id": "176",
                                    "tanar": "20",
                                    "nap": "4",
                                    "Sav": "4",
                                    "targy": "1",
                                    "terem": "2",
                                    "Tkód": "2",
                                    "Terem": "118"
                                },
                                {
                                    "ora_id": "177",
                                    "tanar": "2",
                                    "nap": "4",
                                    "Sav": "5",
                                    "targy": "1",
                                    "terem": "3",
                                    "Tkód": "3",
                                    "Terem": "119"
                                },
                                {
                                    "ora_id": "178",
                                    "tanar": "111",
                                    "nap": "4",
                                    "Sav": "5",
                                    "targy": "1",
                                    "terem": "8",
                                    "Tkód": "8",
                                    "Terem": "220"
                                },
                                {
                                    "ora_id": "179",
                                    "tanar": "2",
                                    "nap": "4",
                                    "Sav": "7",
                                    "targy": "1",
                                    "terem": "4",
                                    "Tkód": "4",
                                    "Terem": "120"
                                },
                                {
                                    "ora_id": "180",
                                    "tanar": "111",
                                    "nap": "4",
                                    "Sav": "7",
                                    "targy": "1",
                                    "terem": "3",
                                    "Tkód": "3",
                                    "Terem": "119"
                                },
                                {
                                    "ora_id": "181",
                                    "tanar": "2",
                                    "nap": "5",
                                    "Sav": "1",
                                    "targy": "1",
                                    "terem": "2",
                                    "Tkód": "2",
                                    "Terem": "118"
                                },
                                {
                                    "ora_id": "182",
                                    "tanar": "111",
                                    "nap": "5",
                                    "Sav": "1",
                                    "targy": "1",
                                    "terem": "7",
                                    "Tkód": "7",
                                    "Terem": "219"
                                },
                                {
                                    "ora_id": "183",
                                    "tanar": "2",
                                    "nap": "5",
                                    "Sav": "2",
                                    "targy": "1",
                                    "terem": "8",
                                    "Tkód": "8",
                                    "Terem": "220"
                                },
                                {
                                    "ora_id": "184",
                                    "tanar": "111",
                                    "nap": "5",
                                    "Sav": "2",
                                    "targy": "1",
                                    "terem": "6",
                                    "Tkód": "6",
                                    "Terem": "218"
                                },
                                {
                                    "ora_id": "185",
                                    "tanar": "2",
                                    "nap": "4",
                                    "Sav": "3",
                                    "targy": "1",
                                    "terem": "4",
                                    "Tkód": "4",
                                    "Terem": "120"
                                },
                                {
                                    "ora_id": "186",
                                    "tanar": "18",
                                    "nap": "2",
                                    "Sav": "4",
                                    "targy": "16",
                                    "terem": "7",
                                    "Tkód": "7",
                                    "Terem": "219"
                                },
                                {
                                    "ora_id": "187",
                                    "tanar": "5",
                                    "nap": "3",
                                    "Sav": "2",
                                    "targy": "2",
                                    "terem": "5",
                                    "Tkód": "5",
                                    "Terem": "217"
                                },
                                {
                                    "ora_id": "188",
                                    "tanar": "9",
                                    "nap": "4",
                                    "Sav": "7",
                                    "targy": "2",
                                    "terem": "13",
                                    "Tkód": "13",
                                    "Terem": "VP 203."
                                },
                                {
                                    "ora_id": "189",
                                    "tanar": "9",
                                    "nap": "4",
                                    "Sav": "2",
                                    "targy": "2",
                                    "terem": "13",
                                    "Tkód": "13",
                                    "Terem": "VP 203."
                                },
                                {
                                    "ora_id": "190",
                                    "tanar": "9",
                                    "nap": "5",
                                    "Sav": "3",
                                    "targy": "2",
                                    "terem": "14",
                                    "Tkód": "14",
                                    "Terem": "E.2.238"
                                },
                                {
                                    "ora_id": "191",
                                    "tanar": "12",
                                    "nap": "1",
                                    "Sav": "5",
                                    "targy": "5",
                                    "terem": "8",
                                    "Tkód": "8",
                                    "Terem": "220"
                                },
                                {
                                    "ora_id": "192",
                                    "tanar": "12",
                                    "nap": "1",
                                    "Sav": "7",
                                    "targy": "5",
                                    "terem": "3",
                                    "Tkód": "3",
                                    "Terem": "119"
                                },
                                {
                                    "ora_id": "193",
                                    "tanar": "9",
                                    "nap": "1",
                                    "Sav": "5",
                                    "targy": "5",
                                    "terem": "5",
                                    "Tkód": "5",
                                    "Terem": "217"
                                },
                                {
                                    "ora_id": "194",
                                    "tanar": "9",
                                    "nap": "1",
                                    "Sav": "7",
                                    "targy": "5",
                                    "terem": "11",
                                    "Tkód": "11",
                                    "Terem": "E.fsz.I"
                                },
                                {
                                    "ora_id": "195",
                                    "tanar": "5",
                                    "nap": "1",
                                    "Sav": "5",
                                    "targy": "5",
                                    "terem": "12",
                                    "Tkód": "12",
                                    "Terem": "116"
                                },
                                {
                                    "ora_id": "196",
                                    "tanar": "5",
                                    "nap": "1",
                                    "Sav": "7",
                                    "targy": "5",
                                    "terem": "6",
                                    "Tkód": "6",
                                    "Terem": "218"
                                },
                                {
                                    "ora_id": "197",
                                    "tanar": "9",
                                    "nap": "4",
                                    "Sav": "1",
                                    "targy": "5",
                                    "terem": "16",
                                    "Tkód": "16",
                                    "Terem": "116"
                                },
                                {
                                    "ora_id": "198",
                                    "tanar": "9",
                                    "nap": "3",
                                    "Sav": "2",
                                    "targy": "5",
                                    "terem": "3",
                                    "Tkód": "3",
                                    "Terem": "119"
                                },
                                {
                                    "ora_id": "199",
                                    "tanar": "300",
                                    "nap": "4",
                                    "Sav": "1",
                                    "targy": "5",
                                    "terem": "6",
                                    "Tkód": "6",
                                    "Terem": "218"
                                },
                                {
                                    "ora_id": "200",
                                    "tanar": "300",
                                    "nap": "4",
                                    "Sav": "2",
                                    "targy": "5",
                                    "terem": "8",
                                    "Tkód": "8",
                                    "Terem": "220"
                                },
                                {
                                    "ora_id": "201",
                                    "tanar": "301",
                                    "nap": "4",
                                    "Sav": "4",
                                    "targy": "17",
                                    "terem": "14",
                                    "Tkód": "14",
                                    "Terem": "E.2.238"
                                },
                                {
                                    "ora_id": "202",
                                    "tanar": "301",
                                    "nap": "4",
                                    "Sav": "5",
                                    "targy": "17",
                                    "terem": "15",
                                    "Tkód": "15",
                                    "Terem": "E.3.332"
                                },
                                {
                                    "ora_id": "203",
                                    "tanar": "200",
                                    "nap": "1",
                                    "Sav": "4",
                                    "targy": "4",
                                    "terem": "10",
                                    "Tkód": "10",
                                    "Terem": "S.Asor.S3"
                                },
                                {
                                    "ora_id": "204",
                                    "tanar": "108",
                                    "nap": "2",
                                    "Sav": "5",
                                    "targy": "4",
                                    "terem": "4",
                                    "Tkód": "4",
                                    "Terem": "120"
                                },
                                {
                                    "ora_id": "205",
                                    "tanar": "4",
                                    "nap": "1",
                                    "Sav": "4",
                                    "targy": "18",
                                    "terem": "8",
                                    "Tkód": "8",
                                    "Terem": "220"
                                },
                                {
                                    "ora_id": "206",
                                    "tanar": "12",
                                    "nap": "2",
                                    "Sav": "1",
                                    "targy": "18",
                                    "terem": "10",
                                    "Tkód": "10",
                                    "Terem": "S.Asor.S3"
                                },
                                {
                                    "ora_id": "207",
                                    "tanar": "12",
                                    "nap": "4",
                                    "Sav": "4",
                                    "targy": "18",
                                    "terem": "7",
                                    "Tkód": "7",
                                    "Terem": "219"
                                },
                                {
                                    "ora_id": "208",
                                    "tanar": "10",
                                    "nap": "1",
                                    "Sav": "1",
                                    "targy": "13",
                                    "terem": "13",
                                    "Tkód": "13",
                                    "Terem": "VP 203."
                                },
                                {
                                    "ora_id": "209",
                                    "tanar": "10",
                                    "nap": "1",
                                    "Sav": "2",
                                    "targy": "13",
                                    "terem": "13",
                                    "Tkód": "13",
                                    "Terem": "VP 203."
                                },
                                {
                                    "ora_id": "210",
                                    "tanar": "6",
                                    "nap": "1",
                                    "Sav": "7",
                                    "targy": "8",
                                    "terem": "14",
                                    "Tkód": "14",
                                    "Terem": "E.2.238"
                                },
                                {
                                    "ora_id": "211",
                                    "tanar": "6",
                                    "nap": "1",
                                    "Sav": "8",
                                    "targy": "8",
                                    "terem": "5",
                                    "Tkód": "5",
                                    "Terem": "217"
                                },
                                {
                                    "ora_id": "212",
                                    "tanar": "7",
                                    "nap": "1",
                                    "Sav": "9",
                                    "targy": "8",
                                    "terem": "4",
                                    "Tkód": "4",
                                    "Terem": "120"
                                },
                                {
                                    "ora_id": "213",
                                    "tanar": "7",
                                    "nap": "1",
                                    "Sav": "10",
                                    "targy": "8",
                                    "terem": "6",
                                    "Tkód": "6",
                                    "Terem": "218"
                                },
                                {
                                    "ora_id": "214",
                                    "tanar": "8",
                                    "nap": "1",
                                    "Sav": "3",
                                    "targy": "3",
                                    "terem": "7",
                                    "Tkód": "7",
                                    "Terem": "219"
                                },
                                {
                                    "ora_id": "215",
                                    "tanar": "8",
                                    "nap": "1",
                                    "Sav": "4",
                                    "targy": "3",
                                    "terem": "9",
                                    "Tkód": "9",
                                    "Terem": "E.fsz.IV."
                                },
                                {
                                    "ora_id": "216",
                                    "tanar": "6",
                                    "nap": "1",
                                    "Sav": "3",
                                    "targy": "3",
                                    "terem": "6",
                                    "Tkód": "6",
                                    "Terem": "218"
                                },
                                {
                                    "ora_id": "217",
                                    "tanar": "6",
                                    "nap": "1",
                                    "Sav": "4",
                                    "targy": "3",
                                    "terem": "5",
                                    "Tkód": "5",
                                    "Terem": "217"
                                },
                                {
                                    "ora_id": "218",
                                    "tanar": "8",
                                    "nap": "2",
                                    "Sav": "7",
                                    "targy": "3",
                                    "terem": "2",
                                    "Tkód": "2",
                                    "Terem": "118"
                                },
                                {
                                    "ora_id": "219",
                                    "tanar": "8",
                                    "nap": "2",
                                    "Sav": "8",
                                    "targy": "3",
                                    "terem": "7",
                                    "Tkód": "7",
                                    "Terem": "219"
                                },
                                {
                                    "ora_id": "220",
                                    "tanar": "1",
                                    "nap": "2",
                                    "Sav": "3",
                                    "targy": "10",
                                    "terem": "3",
                                    "Tkód": "3",
                                    "Terem": "119"
                                },
                                {
                                    "ora_id": "221",
                                    "tanar": "1",
                                    "nap": "3",
                                    "Sav": "3",
                                    "targy": "10",
                                    "terem": "13",
                                    "Tkód": "13",
                                    "Terem": "VP 203."
                                },
                                {
                                    "ora_id": "222",
                                    "tanar": "1",
                                    "nap": "4",
                                    "Sav": "5",
                                    "targy": "10",
                                    "terem": "12",
                                    "Tkód": "12",
                                    "Terem": "116"
                                },
                                {
                                    "ora_id": "223",
                                    "tanar": "1",
                                    "nap": "5",
                                    "Sav": "1",
                                    "targy": "10",
                                    "terem": "10",
                                    "Tkód": "10",
                                    "Terem": "S.Asor.S3"
                                },
                                {
                                    "ora_id": "226",
                                    "tanar": "2",
                                    "nap": "3",
                                    "Sav": "3",
                                    "targy": "19",
                                    "terem": "1",
                                    "Tkód": "1",
                                    "Terem": "117"
                                },
                                {
                                    "ora_id": "227",
                                    "tanar": "2",
                                    "nap": "2",
                                    "Sav": "5",
                                    "targy": "4",
                                    "terem": "12",
                                    "Tkód": "12",
                                    "Terem": "116"
                                }
                            ]
                        },
                        "text/html": [
                            "<table>",
                            "<tr><th>ora_id</th><th>tanar</th><th>nap</th><th>Sav</th><th>targy</th><th>terem</th><th>Tkód</th><th>Terem</th></tr>",
                            "<tr><td>159</td><td>4</td><td>3</td><td>1</td><td>1</td><td>1</td><td>1</td><td>117</td></tr>",
                            "<tr><td>160</td><td>8</td><td>2</td><td>5</td><td>1</td><td>2</td><td>2</td><td>118</td></tr>",
                            "<tr><td>161</td><td>8</td><td>1</td><td>2</td><td>1</td><td>2</td><td>2</td><td>118</td></tr>",
                            "<tr><td>162</td><td>20</td><td>1</td><td>4</td><td>1</td><td>3</td><td>3</td><td>119</td></tr>",
                            "<tr><td>163</td><td>3</td><td>3</td><td>2</td><td>1</td><td>4</td><td>4</td><td>120</td></tr>",
                            "<tr><td>164</td><td>7</td><td>2</td><td>3</td><td>1</td><td>3</td><td>3</td><td>119</td></tr>",
                            "<tr><td>165</td><td>3</td><td>2</td><td>3</td><td>1</td><td>3</td><td>3</td><td>119</td></tr>",
                            "<tr><td>166</td><td>3</td><td>2</td><td>4</td><td>1</td><td>3</td><td>3</td><td>119</td></tr>",
                            "<tr><td>167</td><td>2</td><td>1</td><td>4</td><td>1</td><td>4</td><td>4</td><td>120</td></tr>",
                            "<tr><td>168</td><td>4</td><td>4</td><td>3</td><td>1</td><td>5</td><td>5</td><td>217</td></tr>",
                            "<tr><td>169</td><td>20</td><td>1</td><td>2</td><td>1</td><td>6</td><td>6</td><td>218</td></tr>",
                            "<tr><td>170</td><td>104</td><td>1</td><td>2</td><td>1</td><td>4</td><td>4</td><td>120</td></tr>",
                            "<tr><td>171</td><td>14</td><td>2</td><td>2</td><td>1</td><td>8</td><td>8</td><td>220</td></tr>",
                            "<tr><td>172</td><td>7</td><td>2</td><td>2</td><td>1</td><td>3</td><td>3</td><td>119</td></tr>",
                            "<tr><td>173</td><td>20</td><td>4</td><td>3</td><td>1</td><td>3</td><td>3</td><td>119</td></tr>",
                            "<tr><td>174</td><td>104</td><td>4</td><td>3</td><td>1</td><td>7</td><td>7</td><td>219</td></tr>",
                            "<tr><td>175</td><td>14</td><td>4</td><td>4</td><td>1</td><td>4</td><td>4</td><td>120</td></tr>",
                            "<tr><td>176</td><td>20</td><td>4</td><td>4</td><td>1</td><td>2</td><td>2</td><td>118</td></tr>",
                            "<tr><td>177</td><td>2</td><td>4</td><td>5</td><td>1</td><td>3</td><td>3</td><td>119</td></tr>",
                            "<tr><td>178</td><td>111</td><td>4</td><td>5</td><td>1</td><td>8</td><td>8</td><td>220</td></tr>",
                            "<tr><td>179</td><td>2</td><td>4</td><td>7</td><td>1</td><td>4</td><td>4</td><td>120</td></tr>",
                            "<tr><td>180</td><td>111</td><td>4</td><td>7</td><td>1</td><td>3</td><td>3</td><td>119</td></tr>",
                            "<tr><td>181</td><td>2</td><td>5</td><td>1</td><td>1</td><td>2</td><td>2</td><td>118</td></tr>",
                            "<tr><td>182</td><td>111</td><td>5</td><td>1</td><td>1</td><td>7</td><td>7</td><td>219</td></tr>",
                            "<tr><td>183</td><td>2</td><td>5</td><td>2</td><td>1</td><td>8</td><td>8</td><td>220</td></tr>",
                            "<tr><td>184</td><td>111</td><td>5</td><td>2</td><td>1</td><td>6</td><td>6</td><td>218</td></tr>",
                            "<tr><td>185</td><td>2</td><td>4</td><td>3</td><td>1</td><td>4</td><td>4</td><td>120</td></tr>",
                            "<tr><td>186</td><td>18</td><td>2</td><td>4</td><td>16</td><td>7</td><td>7</td><td>219</td></tr>",
                            "<tr><td>187</td><td>5</td><td>3</td><td>2</td><td>2</td><td>5</td><td>5</td><td>217</td></tr>",
                            "<tr><td>188</td><td>9</td><td>4</td><td>7</td><td>2</td><td>13</td><td>13</td><td>VP 203.</td></tr>",
                            "<tr><td>189</td><td>9</td><td>4</td><td>2</td><td>2</td><td>13</td><td>13</td><td>VP 203.</td></tr>",
                            "<tr><td>190</td><td>9</td><td>5</td><td>3</td><td>2</td><td>14</td><td>14</td><td>E.2.238</td></tr>",
                            "<tr><td>191</td><td>12</td><td>1</td><td>5</td><td>5</td><td>8</td><td>8</td><td>220</td></tr>",
                            "<tr><td>192</td><td>12</td><td>1</td><td>7</td><td>5</td><td>3</td><td>3</td><td>119</td></tr>",
                            "<tr><td>193</td><td>9</td><td>1</td><td>5</td><td>5</td><td>5</td><td>5</td><td>217</td></tr>",
                            "<tr><td>194</td><td>9</td><td>1</td><td>7</td><td>5</td><td>11</td><td>11</td><td>E.fsz.I</td></tr>",
                            "<tr><td>195</td><td>5</td><td>1</td><td>5</td><td>5</td><td>12</td><td>12</td><td>116</td></tr>",
                            "<tr><td>196</td><td>5</td><td>1</td><td>7</td><td>5</td><td>6</td><td>6</td><td>218</td></tr>",
                            "<tr><td>197</td><td>9</td><td>4</td><td>1</td><td>5</td><td>16</td><td>16</td><td>116</td></tr>",
                            "<tr><td>198</td><td>9</td><td>3</td><td>2</td><td>5</td><td>3</td><td>3</td><td>119</td></tr>",
                            "<tr><td>199</td><td>300</td><td>4</td><td>1</td><td>5</td><td>6</td><td>6</td><td>218</td></tr>",
                            "<tr><td>200</td><td>300</td><td>4</td><td>2</td><td>5</td><td>8</td><td>8</td><td>220</td></tr>",
                            "<tr><td>201</td><td>301</td><td>4</td><td>4</td><td>17</td><td>14</td><td>14</td><td>E.2.238</td></tr>",
                            "<tr><td>202</td><td>301</td><td>4</td><td>5</td><td>17</td><td>15</td><td>15</td><td>E.3.332</td></tr>",
                            "<tr><td>203</td><td>200</td><td>1</td><td>4</td><td>4</td><td>10</td><td>10</td><td>S.Asor.S3</td></tr>",
                            "<tr><td>204</td><td>108</td><td>2</td><td>5</td><td>4</td><td>4</td><td>4</td><td>120</td></tr>",
                            "<tr><td>205</td><td>4</td><td>1</td><td>4</td><td>18</td><td>8</td><td>8</td><td>220</td></tr>",
                            "<tr><td>206</td><td>12</td><td>2</td><td>1</td><td>18</td><td>10</td><td>10</td><td>S.Asor.S3</td></tr>",
                            "<tr><td>207</td><td>12</td><td>4</td><td>4</td><td>18</td><td>7</td><td>7</td><td>219</td></tr>",
                            "<tr><td>208</td><td>10</td><td>1</td><td>1</td><td>13</td><td>13</td><td>13</td><td>VP 203.</td></tr>",
                            "<tr><td>209</td><td>10</td><td>1</td><td>2</td><td>13</td><td>13</td><td>13</td><td>VP 203.</td></tr>",
                            "<tr><td>210</td><td>6</td><td>1</td><td>7</td><td>8</td><td>14</td><td>14</td><td>E.2.238</td></tr>",
                            "<tr><td>211</td><td>6</td><td>1</td><td>8</td><td>8</td><td>5</td><td>5</td><td>217</td></tr>",
                            "<tr><td>212</td><td>7</td><td>1</td><td>9</td><td>8</td><td>4</td><td>4</td><td>120</td></tr>",
                            "<tr><td>213</td><td>7</td><td>1</td><td>10</td><td>8</td><td>6</td><td>6</td><td>218</td></tr>",
                            "<tr><td>214</td><td>8</td><td>1</td><td>3</td><td>3</td><td>7</td><td>7</td><td>219</td></tr>",
                            "<tr><td>215</td><td>8</td><td>1</td><td>4</td><td>3</td><td>9</td><td>9</td><td>E.fsz.IV.</td></tr>",
                            "<tr><td>216</td><td>6</td><td>1</td><td>3</td><td>3</td><td>6</td><td>6</td><td>218</td></tr>",
                            "<tr><td>217</td><td>6</td><td>1</td><td>4</td><td>3</td><td>5</td><td>5</td><td>217</td></tr>",
                            "<tr><td>218</td><td>8</td><td>2</td><td>7</td><td>3</td><td>2</td><td>2</td><td>118</td></tr>",
                            "<tr><td>219</td><td>8</td><td>2</td><td>8</td><td>3</td><td>7</td><td>7</td><td>219</td></tr>",
                            "<tr><td>220</td><td>1</td><td>2</td><td>3</td><td>10</td><td>3</td><td>3</td><td>119</td></tr>",
                            "<tr><td>221</td><td>1</td><td>3</td><td>3</td><td>10</td><td>13</td><td>13</td><td>VP 203.</td></tr>",
                            "<tr><td>222</td><td>1</td><td>4</td><td>5</td><td>10</td><td>12</td><td>12</td><td>116</td></tr>",
                            "<tr><td>223</td><td>1</td><td>5</td><td>1</td><td>10</td><td>10</td><td>10</td><td>S.Asor.S3</td></tr>",
                            "<tr><td>226</td><td>2</td><td>3</td><td>3</td><td>19</td><td>1</td><td>1</td><td>117</td></tr>",
                            "<tr><td>227</td><td>2</td><td>2</td><td>5</td><td>4</td><td>12</td><td>12</td><td>116</td></tr>",
                            "</table>"
                        ]
                    }
                }
            ],
            "execution_count": 3
        },
        {
            "cell_type": "markdown",
            "source": [
                "2. <span style=\"font-weight: 600; color: rgb(36, 41, 47); font-family: -apple-system, BlinkMacSystemFont, &quot;Segoe UI&quot;, Helvetica, Arial, sans-serif, &quot;Apple Color Emoji&quot;, &quot;Segoe UI Emoji&quot;; font-size: 16px;\">Hány óra van összesen az egyes napokon?</span>\n",
                "\n",
                "1. Jelenítsük meg a napok nevét és az órák számát az adott napon!\n",
                "2. Az oszlopokat nevezzük el értelemszerűen!\n",
                "3. A listát rendezzük óraszám szerint növekvő sorrendbe!"
            ],
            "metadata": {
                "azdata_cell_guid": "88f5b4bb-f4c1-4bad-a0c7-b2592687b422"
            },
            "attachments": {}
        },
        {
            "cell_type": "code",
            "source": [
                "SELECT nap.nap AS 'Nap neve',\r\n",
                "       COUNT(ora.ora_id) AS 'Órák száma'\r\n",
                "FROM Orak ora JOIN Napok nap ON ora.nap = nap.nap_id\r\n",
                "GROUP BY nap.nap\r\n",
                "ORDER BY 2"
            ],
            "metadata": {
                "azdata_cell_guid": "e9de5726-f036-4fb9-8c33-a873955ed886",
                "language": "sql"
            },
            "outputs": [
                {
                    "output_type": "display_data",
                    "data": {
                        "text/html": "(5 rows affected)"
                    },
                    "metadata": {}
                },
                {
                    "output_type": "display_data",
                    "data": {
                        "text/html": "Total execution time: 00:00:00.014"
                    },
                    "metadata": {}
                },
                {
                    "output_type": "execute_result",
                    "metadata": {},
                    "execution_count": 8,
                    "data": {
                        "application/vnd.dataresource+json": {
                            "schema": {
                                "fields": [
                                    {
                                        "name": "Nap neve"
                                    },
                                    {
                                        "name": "Órák száma"
                                    }
                                ]
                            },
                            "data": [
                                {
                                    "Nap neve": "Péntek",
                                    "Órák száma": "6"
                                },
                                {
                                    "Nap neve": "Szerda",
                                    "Órák száma": "6"
                                },
                                {
                                    "Nap neve": "Kedd",
                                    "Órák száma": "13"
                                },
                                {
                                    "Nap neve": "Csütörtök",
                                    "Órák száma": "19"
                                },
                                {
                                    "Nap neve": "Hétfő",
                                    "Órák száma": "23"
                                }
                            ]
                        },
                        "text/html": [
                            "<table>",
                            "<tr><th>Nap neve</th><th>Órák száma</th></tr>",
                            "<tr><td>Péntek</td><td>6</td></tr>",
                            "<tr><td>Szerda</td><td>6</td></tr>",
                            "<tr><td>Kedd</td><td>13</td></tr>",
                            "<tr><td>Csütörtök</td><td>19</td></tr>",
                            "<tr><td>Hétfő</td><td>23</td></tr>",
                            "</table>"
                        ]
                    }
                }
            ],
            "execution_count": 8
        },
        {
            "cell_type": "markdown",
            "source": [
                "3. <span style=\"font-weight: 600; color: rgb(36, 41, 47); font-family: -apple-system, BlinkMacSystemFont, &quot;Segoe UI&quot;, Helvetica, Arial, sans-serif, &quot;Apple Color Emoji&quot;, &quot;Segoe UI Emoji&quot;; font-size: 16px;\">Készítsünk listát arról, hogy melyik oktatónak hány órája van az Órák táblában!</span>\n",
                "\n",
                "1. A lista jelenítse meg az oktatók nevét, és az órák számát!\n",
                "2. Az oszlopokat nevezzük el értelemszerűen!\n",
                "3. A listából hagyjuk ki az óraadókat!"
            ],
            "metadata": {
                "azdata_cell_guid": "9e7249de-1b59-43d8-84b1-26fa7d81fc5a"
            },
            "attachments": {}
        },
        {
            "cell_type": "code",
            "source": [
                "SELECT *\r\n",
                "FROM Orak ora JOIN Oktatok okt ON ora.tanar = okt.oktato_id"
            ],
            "metadata": {
                "azdata_cell_guid": "6405d3e8-a9b1-45d7-aa76-3b1e785ef6cc",
                "language": "sql"
            },
            "outputs": [
                {
                    "output_type": "display_data",
                    "data": {
                        "text/html": "(67 rows affected)"
                    },
                    "metadata": {}
                },
                {
                    "output_type": "display_data",
                    "data": {
                        "text/html": "Total execution time: 00:00:00.008"
                    },
                    "metadata": {}
                },
                {
                    "output_type": "execute_result",
                    "metadata": {},
                    "execution_count": 11,
                    "data": {
                        "application/vnd.dataresource+json": {
                            "schema": {
                                "fields": [
                                    {
                                        "name": "ora_id"
                                    },
                                    {
                                        "name": "tanar"
                                    },
                                    {
                                        "name": "nap"
                                    },
                                    {
                                        "name": "Sav"
                                    },
                                    {
                                        "name": "targy"
                                    },
                                    {
                                        "name": "terem"
                                    },
                                    {
                                        "name": "oktato_id"
                                    },
                                    {
                                        "name": "nev"
                                    },
                                    {
                                        "name": "titulus"
                                    },
                                    {
                                        "name": "beosztás"
                                    },
                                    {
                                        "name": "status"
                                    }
                                ]
                            },
                            "data": [
                                {
                                    "ora_id": "159",
                                    "tanar": "4",
                                    "nap": "3",
                                    "Sav": "1",
                                    "targy": "1",
                                    "terem": "1",
                                    "oktato_id": "4",
                                    "nev": "Ujfalussi István",
                                    "titulus": "Prof, tanszékvezető",
                                    "beosztás": "6",
                                    "status": "2"
                                },
                                {
                                    "ora_id": "160",
                                    "tanar": "8",
                                    "nap": "2",
                                    "Sav": "5",
                                    "targy": "1",
                                    "terem": "2",
                                    "oktato_id": "8",
                                    "nev": "Pelikán József",
                                    "titulus": "NULL",
                                    "beosztás": "2",
                                    "status": "3"
                                },
                                {
                                    "ora_id": "161",
                                    "tanar": "8",
                                    "nap": "1",
                                    "Sav": "2",
                                    "targy": "1",
                                    "terem": "2",
                                    "oktato_id": "8",
                                    "nev": "Pelikán József",
                                    "titulus": "NULL",
                                    "beosztás": "2",
                                    "status": "3"
                                },
                                {
                                    "ora_id": "162",
                                    "tanar": "20",
                                    "nap": "1",
                                    "Sav": "4",
                                    "targy": "1",
                                    "terem": "3",
                                    "oktato_id": "20",
                                    "nev": "Kovács András",
                                    "titulus": "NULL",
                                    "beosztás": "1",
                                    "status": "1"
                                },
                                {
                                    "ora_id": "163",
                                    "tanar": "3",
                                    "nap": "3",
                                    "Sav": "2",
                                    "targy": "1",
                                    "terem": "4",
                                    "oktato_id": "3",
                                    "nev": "Szerb László",
                                    "titulus": "NULL",
                                    "beosztás": "4",
                                    "status": "1"
                                },
                                {
                                    "ora_id": "164",
                                    "tanar": "7",
                                    "nap": "2",
                                    "Sav": "3",
                                    "targy": "1",
                                    "terem": "3",
                                    "oktato_id": "7",
                                    "nev": "Kiss János",
                                    "titulus": "NULL",
                                    "beosztás": "2",
                                    "status": "1"
                                },
                                {
                                    "ora_id": "165",
                                    "tanar": "3",
                                    "nap": "2",
                                    "Sav": "3",
                                    "targy": "1",
                                    "terem": "3",
                                    "oktato_id": "3",
                                    "nev": "Szerb László",
                                    "titulus": "NULL",
                                    "beosztás": "4",
                                    "status": "1"
                                },
                                {
                                    "ora_id": "166",
                                    "tanar": "3",
                                    "nap": "2",
                                    "Sav": "4",
                                    "targy": "1",
                                    "terem": "3",
                                    "oktato_id": "3",
                                    "nev": "Szerb László",
                                    "titulus": "NULL",
                                    "beosztás": "4",
                                    "status": "1"
                                },
                                {
                                    "ora_id": "167",
                                    "tanar": "2",
                                    "nap": "1",
                                    "Sav": "4",
                                    "targy": "1",
                                    "terem": "4",
                                    "oktato_id": "2",
                                    "nev": "Szentágotai Istvás",
                                    "titulus": "Dr.",
                                    "beosztás": "3",
                                    "status": "2"
                                },
                                {
                                    "ora_id": "168",
                                    "tanar": "4",
                                    "nap": "4",
                                    "Sav": "3",
                                    "targy": "1",
                                    "terem": "5",
                                    "oktato_id": "4",
                                    "nev": "Ujfalussi István",
                                    "titulus": "Prof, tanszékvezető",
                                    "beosztás": "6",
                                    "status": "2"
                                },
                                {
                                    "ora_id": "169",
                                    "tanar": "20",
                                    "nap": "1",
                                    "Sav": "2",
                                    "targy": "1",
                                    "terem": "6",
                                    "oktato_id": "20",
                                    "nev": "Kovács András",
                                    "titulus": "NULL",
                                    "beosztás": "1",
                                    "status": "1"
                                },
                                {
                                    "ora_id": "170",
                                    "tanar": "104",
                                    "nap": "1",
                                    "Sav": "2",
                                    "targy": "1",
                                    "terem": "4",
                                    "oktato_id": "104",
                                    "nev": "Ludas Mátyás",
                                    "titulus": "NULL",
                                    "beosztás": "1",
                                    "status": "1"
                                },
                                {
                                    "ora_id": "171",
                                    "tanar": "14",
                                    "nap": "2",
                                    "Sav": "2",
                                    "targy": "1",
                                    "terem": "8",
                                    "oktato_id": "14",
                                    "nev": "Szénási ászló",
                                    "titulus": "NULL",
                                    "beosztás": "3",
                                    "status": "1"
                                },
                                {
                                    "ora_id": "172",
                                    "tanar": "7",
                                    "nap": "2",
                                    "Sav": "2",
                                    "targy": "1",
                                    "terem": "3",
                                    "oktato_id": "7",
                                    "nev": "Kiss János",
                                    "titulus": "NULL",
                                    "beosztás": "2",
                                    "status": "1"
                                },
                                {
                                    "ora_id": "173",
                                    "tanar": "20",
                                    "nap": "4",
                                    "Sav": "3",
                                    "targy": "1",
                                    "terem": "3",
                                    "oktato_id": "20",
                                    "nev": "Kovács András",
                                    "titulus": "NULL",
                                    "beosztás": "1",
                                    "status": "1"
                                },
                                {
                                    "ora_id": "174",
                                    "tanar": "104",
                                    "nap": "4",
                                    "Sav": "3",
                                    "targy": "1",
                                    "terem": "7",
                                    "oktato_id": "104",
                                    "nev": "Ludas Mátyás",
                                    "titulus": "NULL",
                                    "beosztás": "1",
                                    "status": "1"
                                },
                                {
                                    "ora_id": "175",
                                    "tanar": "14",
                                    "nap": "4",
                                    "Sav": "4",
                                    "targy": "1",
                                    "terem": "4",
                                    "oktato_id": "14",
                                    "nev": "Szénási ászló",
                                    "titulus": "NULL",
                                    "beosztás": "3",
                                    "status": "1"
                                },
                                {
                                    "ora_id": "176",
                                    "tanar": "20",
                                    "nap": "4",
                                    "Sav": "4",
                                    "targy": "1",
                                    "terem": "2",
                                    "oktato_id": "20",
                                    "nev": "Kovács András",
                                    "titulus": "NULL",
                                    "beosztás": "1",
                                    "status": "1"
                                },
                                {
                                    "ora_id": "177",
                                    "tanar": "2",
                                    "nap": "4",
                                    "Sav": "5",
                                    "targy": "1",
                                    "terem": "3",
                                    "oktato_id": "2",
                                    "nev": "Szentágotai Istvás",
                                    "titulus": "Dr.",
                                    "beosztás": "3",
                                    "status": "2"
                                },
                                {
                                    "ora_id": "178",
                                    "tanar": "111",
                                    "nap": "4",
                                    "Sav": "5",
                                    "targy": "1",
                                    "terem": "8",
                                    "oktato_id": "111",
                                    "nev": "Vitéz János",
                                    "titulus": "NULL",
                                    "beosztás": "2",
                                    "status": "1"
                                },
                                {
                                    "ora_id": "179",
                                    "tanar": "2",
                                    "nap": "4",
                                    "Sav": "7",
                                    "targy": "1",
                                    "terem": "4",
                                    "oktato_id": "2",
                                    "nev": "Szentágotai Istvás",
                                    "titulus": "Dr.",
                                    "beosztás": "3",
                                    "status": "2"
                                },
                                {
                                    "ora_id": "180",
                                    "tanar": "111",
                                    "nap": "4",
                                    "Sav": "7",
                                    "targy": "1",
                                    "terem": "3",
                                    "oktato_id": "111",
                                    "nev": "Vitéz János",
                                    "titulus": "NULL",
                                    "beosztás": "2",
                                    "status": "1"
                                },
                                {
                                    "ora_id": "181",
                                    "tanar": "2",
                                    "nap": "5",
                                    "Sav": "1",
                                    "targy": "1",
                                    "terem": "2",
                                    "oktato_id": "2",
                                    "nev": "Szentágotai Istvás",
                                    "titulus": "Dr.",
                                    "beosztás": "3",
                                    "status": "2"
                                },
                                {
                                    "ora_id": "182",
                                    "tanar": "111",
                                    "nap": "5",
                                    "Sav": "1",
                                    "targy": "1",
                                    "terem": "7",
                                    "oktato_id": "111",
                                    "nev": "Vitéz János",
                                    "titulus": "NULL",
                                    "beosztás": "2",
                                    "status": "1"
                                },
                                {
                                    "ora_id": "183",
                                    "tanar": "2",
                                    "nap": "5",
                                    "Sav": "2",
                                    "targy": "1",
                                    "terem": "8",
                                    "oktato_id": "2",
                                    "nev": "Szentágotai Istvás",
                                    "titulus": "Dr.",
                                    "beosztás": "3",
                                    "status": "2"
                                },
                                {
                                    "ora_id": "184",
                                    "tanar": "111",
                                    "nap": "5",
                                    "Sav": "2",
                                    "targy": "1",
                                    "terem": "6",
                                    "oktato_id": "111",
                                    "nev": "Vitéz János",
                                    "titulus": "NULL",
                                    "beosztás": "2",
                                    "status": "1"
                                },
                                {
                                    "ora_id": "185",
                                    "tanar": "2",
                                    "nap": "4",
                                    "Sav": "3",
                                    "targy": "1",
                                    "terem": "4",
                                    "oktato_id": "2",
                                    "nev": "Szentágotai Istvás",
                                    "titulus": "Dr.",
                                    "beosztás": "3",
                                    "status": "2"
                                },
                                {
                                    "ora_id": "186",
                                    "tanar": "18",
                                    "nap": "2",
                                    "Sav": "4",
                                    "targy": "16",
                                    "terem": "7",
                                    "oktato_id": "18",
                                    "nev": "Nógrádi Kata",
                                    "titulus": "NULL",
                                    "beosztás": "1",
                                    "status": "1"
                                },
                                {
                                    "ora_id": "187",
                                    "tanar": "5",
                                    "nap": "3",
                                    "Sav": "2",
                                    "targy": "2",
                                    "terem": "5",
                                    "oktato_id": "5",
                                    "nev": "Balkán András",
                                    "titulus": "Dr.",
                                    "beosztás": "4",
                                    "status": "2"
                                },
                                {
                                    "ora_id": "188",
                                    "tanar": "9",
                                    "nap": "4",
                                    "Sav": "7",
                                    "targy": "2",
                                    "terem": "13",
                                    "oktato_id": "9",
                                    "nev": "Farkasos Piroska",
                                    "titulus": "NULL",
                                    "beosztás": "2",
                                    "status": "3"
                                },
                                {
                                    "ora_id": "189",
                                    "tanar": "9",
                                    "nap": "4",
                                    "Sav": "2",
                                    "targy": "2",
                                    "terem": "13",
                                    "oktato_id": "9",
                                    "nev": "Farkasos Piroska",
                                    "titulus": "NULL",
                                    "beosztás": "2",
                                    "status": "3"
                                },
                                {
                                    "ora_id": "190",
                                    "tanar": "9",
                                    "nap": "5",
                                    "Sav": "3",
                                    "targy": "2",
                                    "terem": "14",
                                    "oktato_id": "9",
                                    "nev": "Farkasos Piroska",
                                    "titulus": "NULL",
                                    "beosztás": "2",
                                    "status": "3"
                                },
                                {
                                    "ora_id": "191",
                                    "tanar": "12",
                                    "nap": "1",
                                    "Sav": "5",
                                    "targy": "5",
                                    "terem": "8",
                                    "oktato_id": "12",
                                    "nev": "Varga Kata",
                                    "titulus": "Dr.",
                                    "beosztás": "4",
                                    "status": "1"
                                },
                                {
                                    "ora_id": "192",
                                    "tanar": "12",
                                    "nap": "1",
                                    "Sav": "7",
                                    "targy": "5",
                                    "terem": "3",
                                    "oktato_id": "12",
                                    "nev": "Varga Kata",
                                    "titulus": "Dr.",
                                    "beosztás": "4",
                                    "status": "1"
                                },
                                {
                                    "ora_id": "193",
                                    "tanar": "9",
                                    "nap": "1",
                                    "Sav": "5",
                                    "targy": "5",
                                    "terem": "5",
                                    "oktato_id": "9",
                                    "nev": "Farkasos Piroska",
                                    "titulus": "NULL",
                                    "beosztás": "2",
                                    "status": "3"
                                },
                                {
                                    "ora_id": "194",
                                    "tanar": "9",
                                    "nap": "1",
                                    "Sav": "7",
                                    "targy": "5",
                                    "terem": "11",
                                    "oktato_id": "9",
                                    "nev": "Farkasos Piroska",
                                    "titulus": "NULL",
                                    "beosztás": "2",
                                    "status": "3"
                                },
                                {
                                    "ora_id": "195",
                                    "tanar": "5",
                                    "nap": "1",
                                    "Sav": "5",
                                    "targy": "5",
                                    "terem": "12",
                                    "oktato_id": "5",
                                    "nev": "Balkán András",
                                    "titulus": "Dr.",
                                    "beosztás": "4",
                                    "status": "2"
                                },
                                {
                                    "ora_id": "196",
                                    "tanar": "5",
                                    "nap": "1",
                                    "Sav": "7",
                                    "targy": "5",
                                    "terem": "6",
                                    "oktato_id": "5",
                                    "nev": "Balkán András",
                                    "titulus": "Dr.",
                                    "beosztás": "4",
                                    "status": "2"
                                },
                                {
                                    "ora_id": "197",
                                    "tanar": "9",
                                    "nap": "4",
                                    "Sav": "1",
                                    "targy": "5",
                                    "terem": "16",
                                    "oktato_id": "9",
                                    "nev": "Farkasos Piroska",
                                    "titulus": "NULL",
                                    "beosztás": "2",
                                    "status": "3"
                                },
                                {
                                    "ora_id": "198",
                                    "tanar": "9",
                                    "nap": "3",
                                    "Sav": "2",
                                    "targy": "5",
                                    "terem": "3",
                                    "oktato_id": "9",
                                    "nev": "Farkasos Piroska",
                                    "titulus": "NULL",
                                    "beosztás": "2",
                                    "status": "3"
                                },
                                {
                                    "ora_id": "199",
                                    "tanar": "300",
                                    "nap": "4",
                                    "Sav": "1",
                                    "targy": "5",
                                    "terem": "6",
                                    "oktato_id": "300",
                                    "nev": "Szabó Andrera",
                                    "titulus": "NULL",
                                    "beosztás": "1",
                                    "status": "1"
                                },
                                {
                                    "ora_id": "200",
                                    "tanar": "300",
                                    "nap": "4",
                                    "Sav": "2",
                                    "targy": "5",
                                    "terem": "8",
                                    "oktato_id": "300",
                                    "nev": "Szabó Andrera",
                                    "titulus": "NULL",
                                    "beosztás": "1",
                                    "status": "1"
                                },
                                {
                                    "ora_id": "201",
                                    "tanar": "301",
                                    "nap": "4",
                                    "Sav": "4",
                                    "targy": "17",
                                    "terem": "14",
                                    "oktato_id": "301",
                                    "nev": "Juhász András",
                                    "titulus": "Dr.",
                                    "beosztás": "6",
                                    "status": "1"
                                },
                                {
                                    "ora_id": "202",
                                    "tanar": "301",
                                    "nap": "4",
                                    "Sav": "5",
                                    "targy": "17",
                                    "terem": "15",
                                    "oktato_id": "301",
                                    "nev": "Juhász András",
                                    "titulus": "Dr.",
                                    "beosztás": "6",
                                    "status": "1"
                                },
                                {
                                    "ora_id": "203",
                                    "tanar": "200",
                                    "nap": "1",
                                    "Sav": "4",
                                    "targy": "4",
                                    "terem": "10",
                                    "oktato_id": "200",
                                    "nev": "Aranyi Mária",
                                    "titulus": "NULL",
                                    "beosztás": "1",
                                    "status": "1"
                                },
                                {
                                    "ora_id": "204",
                                    "tanar": "108",
                                    "nap": "2",
                                    "Sav": "5",
                                    "targy": "4",
                                    "terem": "4",
                                    "oktato_id": "108",
                                    "nev": "Róbert Gida",
                                    "titulus": "NULL",
                                    "beosztás": "2",
                                    "status": "1"
                                },
                                {
                                    "ora_id": "205",
                                    "tanar": "4",
                                    "nap": "1",
                                    "Sav": "4",
                                    "targy": "18",
                                    "terem": "8",
                                    "oktato_id": "4",
                                    "nev": "Ujfalussi István",
                                    "titulus": "Prof, tanszékvezető",
                                    "beosztás": "6",
                                    "status": "2"
                                },
                                {
                                    "ora_id": "206",
                                    "tanar": "12",
                                    "nap": "2",
                                    "Sav": "1",
                                    "targy": "18",
                                    "terem": "10",
                                    "oktato_id": "12",
                                    "nev": "Varga Kata",
                                    "titulus": "Dr.",
                                    "beosztás": "4",
                                    "status": "1"
                                },
                                {
                                    "ora_id": "207",
                                    "tanar": "12",
                                    "nap": "4",
                                    "Sav": "4",
                                    "targy": "18",
                                    "terem": "7",
                                    "oktato_id": "12",
                                    "nev": "Varga Kata",
                                    "titulus": "Dr.",
                                    "beosztás": "4",
                                    "status": "1"
                                },
                                {
                                    "ora_id": "208",
                                    "tanar": "10",
                                    "nap": "1",
                                    "Sav": "1",
                                    "targy": "13",
                                    "terem": "13",
                                    "oktato_id": "10",
                                    "nev": "Jogrerős Pál",
                                    "titulus": "Prof.",
                                    "beosztás": "6",
                                    "status": "1"
                                },
                                {
                                    "ora_id": "209",
                                    "tanar": "10",
                                    "nap": "1",
                                    "Sav": "2",
                                    "targy": "13",
                                    "terem": "13",
                                    "oktato_id": "10",
                                    "nev": "Jogrerős Pál",
                                    "titulus": "Prof.",
                                    "beosztás": "6",
                                    "status": "1"
                                },
                                {
                                    "ora_id": "210",
                                    "tanar": "6",
                                    "nap": "1",
                                    "Sav": "7",
                                    "targy": "8",
                                    "terem": "14",
                                    "oktato_id": "6",
                                    "nev": "Szép llonka",
                                    "titulus": "Dr.",
                                    "beosztás": "3",
                                    "status": "1"
                                },
                                {
                                    "ora_id": "211",
                                    "tanar": "6",
                                    "nap": "1",
                                    "Sav": "8",
                                    "targy": "8",
                                    "terem": "5",
                                    "oktato_id": "6",
                                    "nev": "Szép llonka",
                                    "titulus": "Dr.",
                                    "beosztás": "3",
                                    "status": "1"
                                },
                                {
                                    "ora_id": "212",
                                    "tanar": "7",
                                    "nap": "1",
                                    "Sav": "9",
                                    "targy": "8",
                                    "terem": "4",
                                    "oktato_id": "7",
                                    "nev": "Kiss János",
                                    "titulus": "NULL",
                                    "beosztás": "2",
                                    "status": "1"
                                },
                                {
                                    "ora_id": "213",
                                    "tanar": "7",
                                    "nap": "1",
                                    "Sav": "10",
                                    "targy": "8",
                                    "terem": "6",
                                    "oktato_id": "7",
                                    "nev": "Kiss János",
                                    "titulus": "NULL",
                                    "beosztás": "2",
                                    "status": "1"
                                },
                                {
                                    "ora_id": "214",
                                    "tanar": "8",
                                    "nap": "1",
                                    "Sav": "3",
                                    "targy": "3",
                                    "terem": "7",
                                    "oktato_id": "8",
                                    "nev": "Pelikán József",
                                    "titulus": "NULL",
                                    "beosztás": "2",
                                    "status": "3"
                                },
                                {
                                    "ora_id": "215",
                                    "tanar": "8",
                                    "nap": "1",
                                    "Sav": "4",
                                    "targy": "3",
                                    "terem": "9",
                                    "oktato_id": "8",
                                    "nev": "Pelikán József",
                                    "titulus": "NULL",
                                    "beosztás": "2",
                                    "status": "3"
                                },
                                {
                                    "ora_id": "216",
                                    "tanar": "6",
                                    "nap": "1",
                                    "Sav": "3",
                                    "targy": "3",
                                    "terem": "6",
                                    "oktato_id": "6",
                                    "nev": "Szép llonka",
                                    "titulus": "Dr.",
                                    "beosztás": "3",
                                    "status": "1"
                                },
                                {
                                    "ora_id": "217",
                                    "tanar": "6",
                                    "nap": "1",
                                    "Sav": "4",
                                    "targy": "3",
                                    "terem": "5",
                                    "oktato_id": "6",
                                    "nev": "Szép llonka",
                                    "titulus": "Dr.",
                                    "beosztás": "3",
                                    "status": "1"
                                },
                                {
                                    "ora_id": "218",
                                    "tanar": "8",
                                    "nap": "2",
                                    "Sav": "7",
                                    "targy": "3",
                                    "terem": "2",
                                    "oktato_id": "8",
                                    "nev": "Pelikán József",
                                    "titulus": "NULL",
                                    "beosztás": "2",
                                    "status": "3"
                                },
                                {
                                    "ora_id": "219",
                                    "tanar": "8",
                                    "nap": "2",
                                    "Sav": "8",
                                    "targy": "3",
                                    "terem": "7",
                                    "oktato_id": "8",
                                    "nev": "Pelikán József",
                                    "titulus": "NULL",
                                    "beosztás": "2",
                                    "status": "3"
                                },
                                {
                                    "ora_id": "220",
                                    "tanar": "1",
                                    "nap": "2",
                                    "Sav": "3",
                                    "targy": "10",
                                    "terem": "3",
                                    "oktato_id": "1",
                                    "nev": "Kovács László",
                                    "titulus": "Dr.",
                                    "beosztás": "6",
                                    "status": "2"
                                },
                                {
                                    "ora_id": "221",
                                    "tanar": "1",
                                    "nap": "3",
                                    "Sav": "3",
                                    "targy": "10",
                                    "terem": "13",
                                    "oktato_id": "1",
                                    "nev": "Kovács László",
                                    "titulus": "Dr.",
                                    "beosztás": "6",
                                    "status": "2"
                                },
                                {
                                    "ora_id": "222",
                                    "tanar": "1",
                                    "nap": "4",
                                    "Sav": "5",
                                    "targy": "10",
                                    "terem": "12",
                                    "oktato_id": "1",
                                    "nev": "Kovács László",
                                    "titulus": "Dr.",
                                    "beosztás": "6",
                                    "status": "2"
                                },
                                {
                                    "ora_id": "223",
                                    "tanar": "1",
                                    "nap": "5",
                                    "Sav": "1",
                                    "targy": "10",
                                    "terem": "10",
                                    "oktato_id": "1",
                                    "nev": "Kovács László",
                                    "titulus": "Dr.",
                                    "beosztás": "6",
                                    "status": "2"
                                },
                                {
                                    "ora_id": "226",
                                    "tanar": "2",
                                    "nap": "3",
                                    "Sav": "3",
                                    "targy": "19",
                                    "terem": "1",
                                    "oktato_id": "2",
                                    "nev": "Szentágotai Istvás",
                                    "titulus": "Dr.",
                                    "beosztás": "3",
                                    "status": "2"
                                },
                                {
                                    "ora_id": "227",
                                    "tanar": "2",
                                    "nap": "2",
                                    "Sav": "5",
                                    "targy": "4",
                                    "terem": "12",
                                    "oktato_id": "2",
                                    "nev": "Szentágotai Istvás",
                                    "titulus": "Dr.",
                                    "beosztás": "3",
                                    "status": "2"
                                }
                            ]
                        },
                        "text/html": [
                            "<table>",
                            "<tr><th>ora_id</th><th>tanar</th><th>nap</th><th>Sav</th><th>targy</th><th>terem</th><th>oktato_id</th><th>nev</th><th>titulus</th><th>beosztás</th><th>status</th></tr>",
                            "<tr><td>159</td><td>4</td><td>3</td><td>1</td><td>1</td><td>1</td><td>4</td><td>Ujfalussi István</td><td>Prof, tanszékvezető</td><td>6</td><td>2</td></tr>",
                            "<tr><td>160</td><td>8</td><td>2</td><td>5</td><td>1</td><td>2</td><td>8</td><td>Pelikán József</td><td>NULL</td><td>2</td><td>3</td></tr>",
                            "<tr><td>161</td><td>8</td><td>1</td><td>2</td><td>1</td><td>2</td><td>8</td><td>Pelikán József</td><td>NULL</td><td>2</td><td>3</td></tr>",
                            "<tr><td>162</td><td>20</td><td>1</td><td>4</td><td>1</td><td>3</td><td>20</td><td>Kovács András</td><td>NULL</td><td>1</td><td>1</td></tr>",
                            "<tr><td>163</td><td>3</td><td>3</td><td>2</td><td>1</td><td>4</td><td>3</td><td>Szerb László</td><td>NULL</td><td>4</td><td>1</td></tr>",
                            "<tr><td>164</td><td>7</td><td>2</td><td>3</td><td>1</td><td>3</td><td>7</td><td>Kiss János</td><td>NULL</td><td>2</td><td>1</td></tr>",
                            "<tr><td>165</td><td>3</td><td>2</td><td>3</td><td>1</td><td>3</td><td>3</td><td>Szerb László</td><td>NULL</td><td>4</td><td>1</td></tr>",
                            "<tr><td>166</td><td>3</td><td>2</td><td>4</td><td>1</td><td>3</td><td>3</td><td>Szerb László</td><td>NULL</td><td>4</td><td>1</td></tr>",
                            "<tr><td>167</td><td>2</td><td>1</td><td>4</td><td>1</td><td>4</td><td>2</td><td>Szentágotai Istvás</td><td>Dr.</td><td>3</td><td>2</td></tr>",
                            "<tr><td>168</td><td>4</td><td>4</td><td>3</td><td>1</td><td>5</td><td>4</td><td>Ujfalussi István</td><td>Prof, tanszékvezető</td><td>6</td><td>2</td></tr>",
                            "<tr><td>169</td><td>20</td><td>1</td><td>2</td><td>1</td><td>6</td><td>20</td><td>Kovács András</td><td>NULL</td><td>1</td><td>1</td></tr>",
                            "<tr><td>170</td><td>104</td><td>1</td><td>2</td><td>1</td><td>4</td><td>104</td><td>Ludas Mátyás</td><td>NULL</td><td>1</td><td>1</td></tr>",
                            "<tr><td>171</td><td>14</td><td>2</td><td>2</td><td>1</td><td>8</td><td>14</td><td>Szénási ászló</td><td>NULL</td><td>3</td><td>1</td></tr>",
                            "<tr><td>172</td><td>7</td><td>2</td><td>2</td><td>1</td><td>3</td><td>7</td><td>Kiss János</td><td>NULL</td><td>2</td><td>1</td></tr>",
                            "<tr><td>173</td><td>20</td><td>4</td><td>3</td><td>1</td><td>3</td><td>20</td><td>Kovács András</td><td>NULL</td><td>1</td><td>1</td></tr>",
                            "<tr><td>174</td><td>104</td><td>4</td><td>3</td><td>1</td><td>7</td><td>104</td><td>Ludas Mátyás</td><td>NULL</td><td>1</td><td>1</td></tr>",
                            "<tr><td>175</td><td>14</td><td>4</td><td>4</td><td>1</td><td>4</td><td>14</td><td>Szénási ászló</td><td>NULL</td><td>3</td><td>1</td></tr>",
                            "<tr><td>176</td><td>20</td><td>4</td><td>4</td><td>1</td><td>2</td><td>20</td><td>Kovács András</td><td>NULL</td><td>1</td><td>1</td></tr>",
                            "<tr><td>177</td><td>2</td><td>4</td><td>5</td><td>1</td><td>3</td><td>2</td><td>Szentágotai Istvás</td><td>Dr.</td><td>3</td><td>2</td></tr>",
                            "<tr><td>178</td><td>111</td><td>4</td><td>5</td><td>1</td><td>8</td><td>111</td><td>Vitéz János</td><td>NULL</td><td>2</td><td>1</td></tr>",
                            "<tr><td>179</td><td>2</td><td>4</td><td>7</td><td>1</td><td>4</td><td>2</td><td>Szentágotai Istvás</td><td>Dr.</td><td>3</td><td>2</td></tr>",
                            "<tr><td>180</td><td>111</td><td>4</td><td>7</td><td>1</td><td>3</td><td>111</td><td>Vitéz János</td><td>NULL</td><td>2</td><td>1</td></tr>",
                            "<tr><td>181</td><td>2</td><td>5</td><td>1</td><td>1</td><td>2</td><td>2</td><td>Szentágotai Istvás</td><td>Dr.</td><td>3</td><td>2</td></tr>",
                            "<tr><td>182</td><td>111</td><td>5</td><td>1</td><td>1</td><td>7</td><td>111</td><td>Vitéz János</td><td>NULL</td><td>2</td><td>1</td></tr>",
                            "<tr><td>183</td><td>2</td><td>5</td><td>2</td><td>1</td><td>8</td><td>2</td><td>Szentágotai Istvás</td><td>Dr.</td><td>3</td><td>2</td></tr>",
                            "<tr><td>184</td><td>111</td><td>5</td><td>2</td><td>1</td><td>6</td><td>111</td><td>Vitéz János</td><td>NULL</td><td>2</td><td>1</td></tr>",
                            "<tr><td>185</td><td>2</td><td>4</td><td>3</td><td>1</td><td>4</td><td>2</td><td>Szentágotai Istvás</td><td>Dr.</td><td>3</td><td>2</td></tr>",
                            "<tr><td>186</td><td>18</td><td>2</td><td>4</td><td>16</td><td>7</td><td>18</td><td>Nógrádi Kata</td><td>NULL</td><td>1</td><td>1</td></tr>",
                            "<tr><td>187</td><td>5</td><td>3</td><td>2</td><td>2</td><td>5</td><td>5</td><td>Balkán András</td><td>Dr.</td><td>4</td><td>2</td></tr>",
                            "<tr><td>188</td><td>9</td><td>4</td><td>7</td><td>2</td><td>13</td><td>9</td><td>Farkasos Piroska</td><td>NULL</td><td>2</td><td>3</td></tr>",
                            "<tr><td>189</td><td>9</td><td>4</td><td>2</td><td>2</td><td>13</td><td>9</td><td>Farkasos Piroska</td><td>NULL</td><td>2</td><td>3</td></tr>",
                            "<tr><td>190</td><td>9</td><td>5</td><td>3</td><td>2</td><td>14</td><td>9</td><td>Farkasos Piroska</td><td>NULL</td><td>2</td><td>3</td></tr>",
                            "<tr><td>191</td><td>12</td><td>1</td><td>5</td><td>5</td><td>8</td><td>12</td><td>Varga Kata</td><td>Dr.</td><td>4</td><td>1</td></tr>",
                            "<tr><td>192</td><td>12</td><td>1</td><td>7</td><td>5</td><td>3</td><td>12</td><td>Varga Kata</td><td>Dr.</td><td>4</td><td>1</td></tr>",
                            "<tr><td>193</td><td>9</td><td>1</td><td>5</td><td>5</td><td>5</td><td>9</td><td>Farkasos Piroska</td><td>NULL</td><td>2</td><td>3</td></tr>",
                            "<tr><td>194</td><td>9</td><td>1</td><td>7</td><td>5</td><td>11</td><td>9</td><td>Farkasos Piroska</td><td>NULL</td><td>2</td><td>3</td></tr>",
                            "<tr><td>195</td><td>5</td><td>1</td><td>5</td><td>5</td><td>12</td><td>5</td><td>Balkán András</td><td>Dr.</td><td>4</td><td>2</td></tr>",
                            "<tr><td>196</td><td>5</td><td>1</td><td>7</td><td>5</td><td>6</td><td>5</td><td>Balkán András</td><td>Dr.</td><td>4</td><td>2</td></tr>",
                            "<tr><td>197</td><td>9</td><td>4</td><td>1</td><td>5</td><td>16</td><td>9</td><td>Farkasos Piroska</td><td>NULL</td><td>2</td><td>3</td></tr>",
                            "<tr><td>198</td><td>9</td><td>3</td><td>2</td><td>5</td><td>3</td><td>9</td><td>Farkasos Piroska</td><td>NULL</td><td>2</td><td>3</td></tr>",
                            "<tr><td>199</td><td>300</td><td>4</td><td>1</td><td>5</td><td>6</td><td>300</td><td>Szabó Andrera</td><td>NULL</td><td>1</td><td>1</td></tr>",
                            "<tr><td>200</td><td>300</td><td>4</td><td>2</td><td>5</td><td>8</td><td>300</td><td>Szabó Andrera</td><td>NULL</td><td>1</td><td>1</td></tr>",
                            "<tr><td>201</td><td>301</td><td>4</td><td>4</td><td>17</td><td>14</td><td>301</td><td>Juhász András</td><td>Dr.</td><td>6</td><td>1</td></tr>",
                            "<tr><td>202</td><td>301</td><td>4</td><td>5</td><td>17</td><td>15</td><td>301</td><td>Juhász András</td><td>Dr.</td><td>6</td><td>1</td></tr>",
                            "<tr><td>203</td><td>200</td><td>1</td><td>4</td><td>4</td><td>10</td><td>200</td><td>Aranyi Mária</td><td>NULL</td><td>1</td><td>1</td></tr>",
                            "<tr><td>204</td><td>108</td><td>2</td><td>5</td><td>4</td><td>4</td><td>108</td><td>Róbert Gida</td><td>NULL</td><td>2</td><td>1</td></tr>",
                            "<tr><td>205</td><td>4</td><td>1</td><td>4</td><td>18</td><td>8</td><td>4</td><td>Ujfalussi István</td><td>Prof, tanszékvezető</td><td>6</td><td>2</td></tr>",
                            "<tr><td>206</td><td>12</td><td>2</td><td>1</td><td>18</td><td>10</td><td>12</td><td>Varga Kata</td><td>Dr.</td><td>4</td><td>1</td></tr>",
                            "<tr><td>207</td><td>12</td><td>4</td><td>4</td><td>18</td><td>7</td><td>12</td><td>Varga Kata</td><td>Dr.</td><td>4</td><td>1</td></tr>",
                            "<tr><td>208</td><td>10</td><td>1</td><td>1</td><td>13</td><td>13</td><td>10</td><td>Jogrerős Pál</td><td>Prof.</td><td>6</td><td>1</td></tr>",
                            "<tr><td>209</td><td>10</td><td>1</td><td>2</td><td>13</td><td>13</td><td>10</td><td>Jogrerős Pál</td><td>Prof.</td><td>6</td><td>1</td></tr>",
                            "<tr><td>210</td><td>6</td><td>1</td><td>7</td><td>8</td><td>14</td><td>6</td><td>Szép llonka</td><td>Dr.</td><td>3</td><td>1</td></tr>",
                            "<tr><td>211</td><td>6</td><td>1</td><td>8</td><td>8</td><td>5</td><td>6</td><td>Szép llonka</td><td>Dr.</td><td>3</td><td>1</td></tr>",
                            "<tr><td>212</td><td>7</td><td>1</td><td>9</td><td>8</td><td>4</td><td>7</td><td>Kiss János</td><td>NULL</td><td>2</td><td>1</td></tr>",
                            "<tr><td>213</td><td>7</td><td>1</td><td>10</td><td>8</td><td>6</td><td>7</td><td>Kiss János</td><td>NULL</td><td>2</td><td>1</td></tr>",
                            "<tr><td>214</td><td>8</td><td>1</td><td>3</td><td>3</td><td>7</td><td>8</td><td>Pelikán József</td><td>NULL</td><td>2</td><td>3</td></tr>",
                            "<tr><td>215</td><td>8</td><td>1</td><td>4</td><td>3</td><td>9</td><td>8</td><td>Pelikán József</td><td>NULL</td><td>2</td><td>3</td></tr>",
                            "<tr><td>216</td><td>6</td><td>1</td><td>3</td><td>3</td><td>6</td><td>6</td><td>Szép llonka</td><td>Dr.</td><td>3</td><td>1</td></tr>",
                            "<tr><td>217</td><td>6</td><td>1</td><td>4</td><td>3</td><td>5</td><td>6</td><td>Szép llonka</td><td>Dr.</td><td>3</td><td>1</td></tr>",
                            "<tr><td>218</td><td>8</td><td>2</td><td>7</td><td>3</td><td>2</td><td>8</td><td>Pelikán József</td><td>NULL</td><td>2</td><td>3</td></tr>",
                            "<tr><td>219</td><td>8</td><td>2</td><td>8</td><td>3</td><td>7</td><td>8</td><td>Pelikán József</td><td>NULL</td><td>2</td><td>3</td></tr>",
                            "<tr><td>220</td><td>1</td><td>2</td><td>3</td><td>10</td><td>3</td><td>1</td><td>Kovács László</td><td>Dr.</td><td>6</td><td>2</td></tr>",
                            "<tr><td>221</td><td>1</td><td>3</td><td>3</td><td>10</td><td>13</td><td>1</td><td>Kovács László</td><td>Dr.</td><td>6</td><td>2</td></tr>",
                            "<tr><td>222</td><td>1</td><td>4</td><td>5</td><td>10</td><td>12</td><td>1</td><td>Kovács László</td><td>Dr.</td><td>6</td><td>2</td></tr>",
                            "<tr><td>223</td><td>1</td><td>5</td><td>1</td><td>10</td><td>10</td><td>1</td><td>Kovács László</td><td>Dr.</td><td>6</td><td>2</td></tr>",
                            "<tr><td>226</td><td>2</td><td>3</td><td>3</td><td>19</td><td>1</td><td>2</td><td>Szentágotai Istvás</td><td>Dr.</td><td>3</td><td>2</td></tr>",
                            "<tr><td>227</td><td>2</td><td>2</td><td>5</td><td>4</td><td>12</td><td>2</td><td>Szentágotai Istvás</td><td>Dr.</td><td>3</td><td>2</td></tr>",
                            "</table>"
                        ]
                    }
                }
            ],
            "execution_count": 11
        },
        {
            "cell_type": "markdown",
            "source": [
                "4. <span style=\"color: rgb(36, 41, 47); font-family: -apple-system, BlinkMacSystemFont, &quot;Segoe UI&quot;, Helvetica, Arial, sans-serif, &quot;Apple Color Emoji&quot;, &quot;Segoe UI Emoji&quot;; font-size: 16px;\">Van-e olyan tantárgy, amelyből nincs óra?</span>\n",
                "\n",
                "1. Jelentsük meg a tantárgy nevét és a tantárgyfelelős nevét!"
            ],
            "metadata": {
                "azdata_cell_guid": "6478e469-c094-472c-a772-ccd5b5c61516"
            },
            "attachments": {}
        },
        {
            "cell_type": "code",
            "source": [
                "SELECT tan.Tantárgynév,\r\n",
                "      -- okt.nev,\r\n",
                "       tan.Tkód,\r\n",
                "       ora.targy\r\n",
                "FROM Orak ora RIGHT JOIN Tantárgyak tan ON ora.targy = tan.Tkód\r\n",
                "              --JOIN Oktatok okt ON ora.tanar = okt.oktato_id"
            ],
            "metadata": {
                "azdata_cell_guid": "02031ea2-3838-458d-839c-228e3b362b61",
                "language": "sql"
            },
            "outputs": [
                {
                    "output_type": "display_data",
                    "data": {
                        "text/html": "(68 rows affected)"
                    },
                    "metadata": {}
                },
                {
                    "output_type": "display_data",
                    "data": {
                        "text/html": "Total execution time: 00:00:00.037"
                    },
                    "metadata": {}
                },
                {
                    "output_type": "execute_result",
                    "metadata": {},
                    "execution_count": 35,
                    "data": {
                        "application/vnd.dataresource+json": {
                            "schema": {
                                "fields": [
                                    {
                                        "name": "Tantárgynév"
                                    },
                                    {
                                        "name": "Tkód"
                                    },
                                    {
                                        "name": "targy"
                                    }
                                ]
                            },
                            "data": [
                                {
                                    "Tantárgynév": "Az ürgeöntés alapjai",
                                    "Tkód": "1",
                                    "targy": "1"
                                },
                                {
                                    "Tantárgynév": "Az ürgeöntés alapjai",
                                    "Tkód": "1",
                                    "targy": "1"
                                },
                                {
                                    "Tantárgynév": "Az ürgeöntés alapjai",
                                    "Tkód": "1",
                                    "targy": "1"
                                },
                                {
                                    "Tantárgynév": "Az ürgeöntés alapjai",
                                    "Tkód": "1",
                                    "targy": "1"
                                },
                                {
                                    "Tantárgynév": "Az ürgeöntés alapjai",
                                    "Tkód": "1",
                                    "targy": "1"
                                },
                                {
                                    "Tantárgynév": "Az ürgeöntés alapjai",
                                    "Tkód": "1",
                                    "targy": "1"
                                },
                                {
                                    "Tantárgynév": "Az ürgeöntés alapjai",
                                    "Tkód": "1",
                                    "targy": "1"
                                },
                                {
                                    "Tantárgynév": "Az ürgeöntés alapjai",
                                    "Tkód": "1",
                                    "targy": "1"
                                },
                                {
                                    "Tantárgynév": "Az ürgeöntés alapjai",
                                    "Tkód": "1",
                                    "targy": "1"
                                },
                                {
                                    "Tantárgynév": "Az ürgeöntés alapjai",
                                    "Tkód": "1",
                                    "targy": "1"
                                },
                                {
                                    "Tantárgynév": "Az ürgeöntés alapjai",
                                    "Tkód": "1",
                                    "targy": "1"
                                },
                                {
                                    "Tantárgynév": "Az ürgeöntés alapjai",
                                    "Tkód": "1",
                                    "targy": "1"
                                },
                                {
                                    "Tantárgynév": "Az ürgeöntés alapjai",
                                    "Tkód": "1",
                                    "targy": "1"
                                },
                                {
                                    "Tantárgynév": "Az ürgeöntés alapjai",
                                    "Tkód": "1",
                                    "targy": "1"
                                },
                                {
                                    "Tantárgynév": "Az ürgeöntés alapjai",
                                    "Tkód": "1",
                                    "targy": "1"
                                },
                                {
                                    "Tantárgynév": "Az ürgeöntés alapjai",
                                    "Tkód": "1",
                                    "targy": "1"
                                },
                                {
                                    "Tantárgynév": "Az ürgeöntés alapjai",
                                    "Tkód": "1",
                                    "targy": "1"
                                },
                                {
                                    "Tantárgynév": "Az ürgeöntés alapjai",
                                    "Tkód": "1",
                                    "targy": "1"
                                },
                                {
                                    "Tantárgynév": "Az ürgeöntés alapjai",
                                    "Tkód": "1",
                                    "targy": "1"
                                },
                                {
                                    "Tantárgynév": "Az ürgeöntés alapjai",
                                    "Tkód": "1",
                                    "targy": "1"
                                },
                                {
                                    "Tantárgynév": "Az ürgeöntés alapjai",
                                    "Tkód": "1",
                                    "targy": "1"
                                },
                                {
                                    "Tantárgynév": "Az ürgeöntés alapjai",
                                    "Tkód": "1",
                                    "targy": "1"
                                },
                                {
                                    "Tantárgynév": "Az ürgeöntés alapjai",
                                    "Tkód": "1",
                                    "targy": "1"
                                },
                                {
                                    "Tantárgynév": "Az ürgeöntés alapjai",
                                    "Tkód": "1",
                                    "targy": "1"
                                },
                                {
                                    "Tantárgynév": "Az ürgeöntés alapjai",
                                    "Tkód": "1",
                                    "targy": "1"
                                },
                                {
                                    "Tantárgynév": "Az ürgeöntés alapjai",
                                    "Tkód": "1",
                                    "targy": "1"
                                },
                                {
                                    "Tantárgynév": "Az ürgeöntés alapjai",
                                    "Tkód": "1",
                                    "targy": "1"
                                },
                                {
                                    "Tantárgynév": "Bevezetés az ürgeöntésbe",
                                    "Tkód": "2",
                                    "targy": "2"
                                },
                                {
                                    "Tantárgynév": "Bevezetés az ürgeöntésbe",
                                    "Tkód": "2",
                                    "targy": "2"
                                },
                                {
                                    "Tantárgynév": "Bevezetés az ürgeöntésbe",
                                    "Tkód": "2",
                                    "targy": "2"
                                },
                                {
                                    "Tantárgynév": "Bevezetés az ürgeöntésbe",
                                    "Tkód": "2",
                                    "targy": "2"
                                },
                                {
                                    "Tantárgynév": "Az ürge anatómiája",
                                    "Tkód": "3",
                                    "targy": "3"
                                },
                                {
                                    "Tantárgynév": "Az ürge anatómiája",
                                    "Tkód": "3",
                                    "targy": "3"
                                },
                                {
                                    "Tantárgynév": "Az ürge anatómiája",
                                    "Tkód": "3",
                                    "targy": "3"
                                },
                                {
                                    "Tantárgynév": "Az ürge anatómiája",
                                    "Tkód": "3",
                                    "targy": "3"
                                },
                                {
                                    "Tantárgynév": "Az ürge anatómiája",
                                    "Tkód": "3",
                                    "targy": "3"
                                },
                                {
                                    "Tantárgynév": "Az ürge anatómiája",
                                    "Tkód": "3",
                                    "targy": "3"
                                },
                                {
                                    "Tantárgynév": "Az ürgeöntés hydrológiai alapjai I.",
                                    "Tkód": "4",
                                    "targy": "4"
                                },
                                {
                                    "Tantárgynév": "Az ürgeöntés hydrológiai alapjai I.",
                                    "Tkód": "4",
                                    "targy": "4"
                                },
                                {
                                    "Tantárgynév": "Az ürgeöntés hydrológiai alapjai I.",
                                    "Tkód": "4",
                                    "targy": "4"
                                },
                                {
                                    "Tantárgynév": "Az ürgeöntés hydrológiai alapjai II.",
                                    "Tkód": "5",
                                    "targy": "5"
                                },
                                {
                                    "Tantárgynév": "Az ürgeöntés hydrológiai alapjai II.",
                                    "Tkód": "5",
                                    "targy": "5"
                                },
                                {
                                    "Tantárgynév": "Az ürgeöntés hydrológiai alapjai II.",
                                    "Tkód": "5",
                                    "targy": "5"
                                },
                                {
                                    "Tantárgynév": "Az ürgeöntés hydrológiai alapjai II.",
                                    "Tkód": "5",
                                    "targy": "5"
                                },
                                {
                                    "Tantárgynév": "Az ürgeöntés hydrológiai alapjai II.",
                                    "Tkód": "5",
                                    "targy": "5"
                                },
                                {
                                    "Tantárgynév": "Az ürgeöntés hydrológiai alapjai II.",
                                    "Tkód": "5",
                                    "targy": "5"
                                },
                                {
                                    "Tantárgynév": "Az ürgeöntés hydrológiai alapjai II.",
                                    "Tkód": "5",
                                    "targy": "5"
                                },
                                {
                                    "Tantárgynév": "Az ürgeöntés hydrológiai alapjai II.",
                                    "Tkód": "5",
                                    "targy": "5"
                                },
                                {
                                    "Tantárgynév": "Az ürgeöntés hydrológiai alapjai II.",
                                    "Tkód": "5",
                                    "targy": "5"
                                },
                                {
                                    "Tantárgynév": "Az ürgeöntés hydrológiai alapjai II.",
                                    "Tkód": "5",
                                    "targy": "5"
                                },
                                {
                                    "Tantárgynév": "Ürgeöntés az EU-ban",
                                    "Tkód": "8",
                                    "targy": "8"
                                },
                                {
                                    "Tantárgynév": "Ürgeöntés az EU-ban",
                                    "Tkód": "8",
                                    "targy": "8"
                                },
                                {
                                    "Tantárgynév": "Ürgeöntés az EU-ban",
                                    "Tkód": "8",
                                    "targy": "8"
                                },
                                {
                                    "Tantárgynév": "Ürgeöntés az EU-ban",
                                    "Tkód": "8",
                                    "targy": "8"
                                },
                                {
                                    "Tantárgynév": "Fejezetek az ürgék jogaiból",
                                    "Tkód": "10",
                                    "targy": "10"
                                },
                                {
                                    "Tantárgynév": "Fejezetek az ürgék jogaiból",
                                    "Tkód": "10",
                                    "targy": "10"
                                },
                                {
                                    "Tantárgynév": "Fejezetek az ürgék jogaiból",
                                    "Tkód": "10",
                                    "targy": "10"
                                },
                                {
                                    "Tantárgynév": "Fejezetek az ürgék jogaiból",
                                    "Tkód": "10",
                                    "targy": "10"
                                },
                                {
                                    "Tantárgynév": "Folyami gáttan",
                                    "Tkód": "11",
                                    "targy": "NULL"
                                },
                                {
                                    "Tantárgynév": "Ürgevitel",
                                    "Tkód": "13",
                                    "targy": "13"
                                },
                                {
                                    "Tantárgynév": "Ürgevitel",
                                    "Tkód": "13",
                                    "targy": "13"
                                },
                                {
                                    "Tantárgynév": "ü-business",
                                    "Tkód": "16",
                                    "targy": "16"
                                },
                                {
                                    "Tantárgynév": "Öntési gyakorlat",
                                    "Tkód": "17",
                                    "targy": "17"
                                },
                                {
                                    "Tantárgynév": "Öntési gyakorlat",
                                    "Tkód": "17",
                                    "targy": "17"
                                },
                                {
                                    "Tantárgynév": "Az öntés elmélete",
                                    "Tkód": "18",
                                    "targy": "18"
                                },
                                {
                                    "Tantárgynév": "Az öntés elmélete",
                                    "Tkód": "18",
                                    "targy": "18"
                                },
                                {
                                    "Tantárgynév": "Az öntés elmélete",
                                    "Tkód": "18",
                                    "targy": "18"
                                },
                                {
                                    "Tantárgynév": "ürgefőzés",
                                    "Tkód": "19",
                                    "targy": "19"
                                }
                            ]
                        },
                        "text/html": [
                            "<table>",
                            "<tr><th>Tantárgynév</th><th>Tkód</th><th>targy</th></tr>",
                            "<tr><td>Az ürgeöntés alapjai</td><td>1</td><td>1</td></tr>",
                            "<tr><td>Az ürgeöntés alapjai</td><td>1</td><td>1</td></tr>",
                            "<tr><td>Az ürgeöntés alapjai</td><td>1</td><td>1</td></tr>",
                            "<tr><td>Az ürgeöntés alapjai</td><td>1</td><td>1</td></tr>",
                            "<tr><td>Az ürgeöntés alapjai</td><td>1</td><td>1</td></tr>",
                            "<tr><td>Az ürgeöntés alapjai</td><td>1</td><td>1</td></tr>",
                            "<tr><td>Az ürgeöntés alapjai</td><td>1</td><td>1</td></tr>",
                            "<tr><td>Az ürgeöntés alapjai</td><td>1</td><td>1</td></tr>",
                            "<tr><td>Az ürgeöntés alapjai</td><td>1</td><td>1</td></tr>",
                            "<tr><td>Az ürgeöntés alapjai</td><td>1</td><td>1</td></tr>",
                            "<tr><td>Az ürgeöntés alapjai</td><td>1</td><td>1</td></tr>",
                            "<tr><td>Az ürgeöntés alapjai</td><td>1</td><td>1</td></tr>",
                            "<tr><td>Az ürgeöntés alapjai</td><td>1</td><td>1</td></tr>",
                            "<tr><td>Az ürgeöntés alapjai</td><td>1</td><td>1</td></tr>",
                            "<tr><td>Az ürgeöntés alapjai</td><td>1</td><td>1</td></tr>",
                            "<tr><td>Az ürgeöntés alapjai</td><td>1</td><td>1</td></tr>",
                            "<tr><td>Az ürgeöntés alapjai</td><td>1</td><td>1</td></tr>",
                            "<tr><td>Az ürgeöntés alapjai</td><td>1</td><td>1</td></tr>",
                            "<tr><td>Az ürgeöntés alapjai</td><td>1</td><td>1</td></tr>",
                            "<tr><td>Az ürgeöntés alapjai</td><td>1</td><td>1</td></tr>",
                            "<tr><td>Az ürgeöntés alapjai</td><td>1</td><td>1</td></tr>",
                            "<tr><td>Az ürgeöntés alapjai</td><td>1</td><td>1</td></tr>",
                            "<tr><td>Az ürgeöntés alapjai</td><td>1</td><td>1</td></tr>",
                            "<tr><td>Az ürgeöntés alapjai</td><td>1</td><td>1</td></tr>",
                            "<tr><td>Az ürgeöntés alapjai</td><td>1</td><td>1</td></tr>",
                            "<tr><td>Az ürgeöntés alapjai</td><td>1</td><td>1</td></tr>",
                            "<tr><td>Az ürgeöntés alapjai</td><td>1</td><td>1</td></tr>",
                            "<tr><td>Bevezetés az ürgeöntésbe</td><td>2</td><td>2</td></tr>",
                            "<tr><td>Bevezetés az ürgeöntésbe</td><td>2</td><td>2</td></tr>",
                            "<tr><td>Bevezetés az ürgeöntésbe</td><td>2</td><td>2</td></tr>",
                            "<tr><td>Bevezetés az ürgeöntésbe</td><td>2</td><td>2</td></tr>",
                            "<tr><td>Az ürge anatómiája</td><td>3</td><td>3</td></tr>",
                            "<tr><td>Az ürge anatómiája</td><td>3</td><td>3</td></tr>",
                            "<tr><td>Az ürge anatómiája</td><td>3</td><td>3</td></tr>",
                            "<tr><td>Az ürge anatómiája</td><td>3</td><td>3</td></tr>",
                            "<tr><td>Az ürge anatómiája</td><td>3</td><td>3</td></tr>",
                            "<tr><td>Az ürge anatómiája</td><td>3</td><td>3</td></tr>",
                            "<tr><td>Az ürgeöntés hydrológiai alapjai I.</td><td>4</td><td>4</td></tr>",
                            "<tr><td>Az ürgeöntés hydrológiai alapjai I.</td><td>4</td><td>4</td></tr>",
                            "<tr><td>Az ürgeöntés hydrológiai alapjai I.</td><td>4</td><td>4</td></tr>",
                            "<tr><td>Az ürgeöntés hydrológiai alapjai II.</td><td>5</td><td>5</td></tr>",
                            "<tr><td>Az ürgeöntés hydrológiai alapjai II.</td><td>5</td><td>5</td></tr>",
                            "<tr><td>Az ürgeöntés hydrológiai alapjai II.</td><td>5</td><td>5</td></tr>",
                            "<tr><td>Az ürgeöntés hydrológiai alapjai II.</td><td>5</td><td>5</td></tr>",
                            "<tr><td>Az ürgeöntés hydrológiai alapjai II.</td><td>5</td><td>5</td></tr>",
                            "<tr><td>Az ürgeöntés hydrológiai alapjai II.</td><td>5</td><td>5</td></tr>",
                            "<tr><td>Az ürgeöntés hydrológiai alapjai II.</td><td>5</td><td>5</td></tr>",
                            "<tr><td>Az ürgeöntés hydrológiai alapjai II.</td><td>5</td><td>5</td></tr>",
                            "<tr><td>Az ürgeöntés hydrológiai alapjai II.</td><td>5</td><td>5</td></tr>",
                            "<tr><td>Az ürgeöntés hydrológiai alapjai II.</td><td>5</td><td>5</td></tr>",
                            "<tr><td>Ürgeöntés az EU-ban</td><td>8</td><td>8</td></tr>",
                            "<tr><td>Ürgeöntés az EU-ban</td><td>8</td><td>8</td></tr>",
                            "<tr><td>Ürgeöntés az EU-ban</td><td>8</td><td>8</td></tr>",
                            "<tr><td>Ürgeöntés az EU-ban</td><td>8</td><td>8</td></tr>",
                            "<tr><td>Fejezetek az ürgék jogaiból</td><td>10</td><td>10</td></tr>",
                            "<tr><td>Fejezetek az ürgék jogaiból</td><td>10</td><td>10</td></tr>",
                            "<tr><td>Fejezetek az ürgék jogaiból</td><td>10</td><td>10</td></tr>",
                            "<tr><td>Fejezetek az ürgék jogaiból</td><td>10</td><td>10</td></tr>",
                            "<tr><td>Folyami gáttan</td><td>11</td><td>NULL</td></tr>",
                            "<tr><td>Ürgevitel</td><td>13</td><td>13</td></tr>",
                            "<tr><td>Ürgevitel</td><td>13</td><td>13</td></tr>",
                            "<tr><td>ü-business</td><td>16</td><td>16</td></tr>",
                            "<tr><td>Öntési gyakorlat</td><td>17</td><td>17</td></tr>",
                            "<tr><td>Öntési gyakorlat</td><td>17</td><td>17</td></tr>",
                            "<tr><td>Az öntés elmélete</td><td>18</td><td>18</td></tr>",
                            "<tr><td>Az öntés elmélete</td><td>18</td><td>18</td></tr>",
                            "<tr><td>Az öntés elmélete</td><td>18</td><td>18</td></tr>",
                            "<tr><td>ürgefőzés</td><td>19</td><td>19</td></tr>",
                            "</table>"
                        ]
                    }
                }
            ],
            "execution_count": 35
        },
        {
            "cell_type": "markdown",
            "source": [
                "5. <span style=\"background-color: rgb(255, 255, 255); color: rgb(36, 41, 47); font-family: -apple-system, BlinkMacSystemFont, &quot;Segoe UI&quot;, Helvetica, Arial, sans-serif, &quot;Apple Color Emoji&quot;, &quot;Segoe UI Emoji&quot;; font-size: 16px;\">Hány óra van összesen a 120-as teremben?</span>"
            ],
            "metadata": {
                "azdata_cell_guid": "9edbbaf9-c276-4898-9a01-e1b2993c089f"
            },
            "attachments": {}
        },
        {
            "cell_type": "code",
            "source": [
                ""
            ],
            "metadata": {
                "azdata_cell_guid": "5ad5fdcb-2878-4111-861a-833bcd50e935",
                "language": "sql"
            },
            "outputs": [],
            "execution_count": null
        },
        {
            "cell_type": "markdown",
            "source": [
                "**A 6-10 feladatokat halmazműveletek segítségével oldjuk meg, szintén a tanulmányi adatbázison**\n",
                "\n",
                "6. <span style=\"background-color:rgb(255, 255, 255);color:rgb(36, 41, 47);font-family:-apple-system, BlinkMacSystemFont, &quot;Segoe UI&quot;, Helvetica, Arial, sans-serif, &quot;Apple Color Emoji&quot;, &quot;Segoe UI Emoji&quot;;font-size:16px;font-weight:600;\">Jelenítsük meg azon tanárok azonosítóját és nevét, akik hétfői vagy keddi napokon tanítanak!</span>"
            ],
            "metadata": {
                "azdata_cell_guid": "5fe65c1c-2479-45ac-ad03-ec99d12eae21"
            },
            "attachments": {}
        },
        {
            "cell_type": "code",
            "source": [
                "SELECT okt.oktato_id,\r\n",
                "       okt.nev\r\n",
                "FROM Orak ora JOIN Napok nap ON ora.nap = nap.nap_id\r\n",
                "              JOIN Oktatok okt ON ora.tanar = okt.oktato_id\r\n",
                "WHERE nap.nap = 'Hétfő'\r\n",
                "\r\n",
                "UNION\r\n",
                "\r\n",
                "SELECT okt.oktato_id,\r\n",
                "       okt.nev\r\n",
                "FROM Orak ora JOIN Napok nap ON ora.nap = nap.nap_id\r\n",
                "              JOIN Oktatok okt ON ora.tanar = okt.oktato_id\r\n",
                "WHERE nap.nap = 'Kedd'"
            ],
            "metadata": {
                "azdata_cell_guid": "924f2dde-f1c2-4def-a7f9-dbf4bace7735",
                "language": "sql"
            },
            "outputs": [
                {
                    "output_type": "display_data",
                    "data": {
                        "text/html": "(17 rows affected)"
                    },
                    "metadata": {}
                },
                {
                    "output_type": "display_data",
                    "data": {
                        "text/html": "Total execution time: 00:00:00.007"
                    },
                    "metadata": {}
                },
                {
                    "output_type": "execute_result",
                    "metadata": {},
                    "execution_count": 33,
                    "data": {
                        "application/vnd.dataresource+json": {
                            "schema": {
                                "fields": [
                                    {
                                        "name": "oktato_id"
                                    },
                                    {
                                        "name": "nev"
                                    }
                                ]
                            },
                            "data": [
                                {
                                    "oktato_id": "1",
                                    "nev": "Kovács László"
                                },
                                {
                                    "oktato_id": "2",
                                    "nev": "Szentágotai Istvás"
                                },
                                {
                                    "oktato_id": "3",
                                    "nev": "Szerb László"
                                },
                                {
                                    "oktato_id": "4",
                                    "nev": "Ujfalussi István"
                                },
                                {
                                    "oktato_id": "5",
                                    "nev": "Balkán András"
                                },
                                {
                                    "oktato_id": "6",
                                    "nev": "Szép llonka"
                                },
                                {
                                    "oktato_id": "7",
                                    "nev": "Kiss János"
                                },
                                {
                                    "oktato_id": "8",
                                    "nev": "Pelikán József"
                                },
                                {
                                    "oktato_id": "9",
                                    "nev": "Farkasos Piroska"
                                },
                                {
                                    "oktato_id": "10",
                                    "nev": "Jogrerős Pál"
                                },
                                {
                                    "oktato_id": "12",
                                    "nev": "Varga Kata"
                                },
                                {
                                    "oktato_id": "14",
                                    "nev": "Szénási ászló"
                                },
                                {
                                    "oktato_id": "18",
                                    "nev": "Nógrádi Kata"
                                },
                                {
                                    "oktato_id": "20",
                                    "nev": "Kovács András"
                                },
                                {
                                    "oktato_id": "104",
                                    "nev": "Ludas Mátyás"
                                },
                                {
                                    "oktato_id": "108",
                                    "nev": "Róbert Gida"
                                },
                                {
                                    "oktato_id": "200",
                                    "nev": "Aranyi Mária"
                                }
                            ]
                        },
                        "text/html": [
                            "<table>",
                            "<tr><th>oktato_id</th><th>nev</th></tr>",
                            "<tr><td>1</td><td>Kovács László</td></tr>",
                            "<tr><td>2</td><td>Szentágotai Istvás</td></tr>",
                            "<tr><td>3</td><td>Szerb László</td></tr>",
                            "<tr><td>4</td><td>Ujfalussi István</td></tr>",
                            "<tr><td>5</td><td>Balkán András</td></tr>",
                            "<tr><td>6</td><td>Szép llonka</td></tr>",
                            "<tr><td>7</td><td>Kiss János</td></tr>",
                            "<tr><td>8</td><td>Pelikán József</td></tr>",
                            "<tr><td>9</td><td>Farkasos Piroska</td></tr>",
                            "<tr><td>10</td><td>Jogrerős Pál</td></tr>",
                            "<tr><td>12</td><td>Varga Kata</td></tr>",
                            "<tr><td>14</td><td>Szénási ászló</td></tr>",
                            "<tr><td>18</td><td>Nógrádi Kata</td></tr>",
                            "<tr><td>20</td><td>Kovács András</td></tr>",
                            "<tr><td>104</td><td>Ludas Mátyás</td></tr>",
                            "<tr><td>108</td><td>Róbert Gida</td></tr>",
                            "<tr><td>200</td><td>Aranyi Mária</td></tr>",
                            "</table>"
                        ]
                    }
                }
            ],
            "execution_count": 33
        },
        {
            "cell_type": "markdown",
            "source": [
                "7. <span style=\"background-color: rgb(255, 255, 255); color: rgb(36, 41, 47); font-family: -apple-system, BlinkMacSystemFont, &quot;Segoe UI&quot;, Helvetica, Arial, sans-serif, &quot;Apple Color Emoji&quot;, &quot;Segoe UI Emoji&quot;; font-size: 16px; font-weight: 600;\">Melyek azok a tantárgyak, amelyek esetén van óra a 8.00-kor kezdődő sávban, de nincs a 12.30-kor kezdődő sávban?</span>"
            ],
            "metadata": {
                "azdata_cell_guid": "3aeb6bf5-b111-40d5-92b2-9712ce335696"
            },
            "attachments": {}
        },
        {
            "cell_type": "code",
            "source": [
                ""
            ],
            "metadata": {
                "azdata_cell_guid": "3e89b651-f56f-4102-af52-30eb2bbe360d",
                "language": "sql"
            },
            "outputs": [],
            "execution_count": null
        },
        {
            "cell_type": "markdown",
            "source": [
                "8. <span style=\"background-color: rgb(255, 255, 255); color: rgb(36, 41, 47); font-family: -apple-system, BlinkMacSystemFont, &quot;Segoe UI&quot;, Helvetica, Arial, sans-serif, &quot;Apple Color Emoji&quot;, &quot;Segoe UI Emoji&quot;; font-size: 16px; font-weight: 600;\">Listázzuk azokat a termeket, amelyekben oktat Kovács László és van olyan tanóra a teremben, ahol a tantárgy nevében nem szerepel az 'ürge' szó!</span>"
            ],
            "metadata": {
                "azdata_cell_guid": "26a504dc-ff6a-439f-94c0-4580eca3eacf"
            },
            "attachments": {}
        },
        {
            "cell_type": "code",
            "source": [
                ""
            ],
            "metadata": {
                "azdata_cell_guid": "1cbb8aeb-78b5-4350-aa45-e3202fdab85b",
                "language": "sql"
            },
            "outputs": [],
            "execution_count": null
        },
        {
            "cell_type": "markdown",
            "source": [
                "9. <span style=\"font-weight: 600; color: rgb(36, 41, 47); font-family: -apple-system, BlinkMacSystemFont, &quot;Segoe UI&quot;, Helvetica, Arial, sans-serif, &quot;Apple Color Emoji&quot;, &quot;Segoe UI Emoji&quot;; font-size: 16px;\">Készítsünk listát arról, hogy melyik tanárnak hány órája van a (munka) hét elején (hétfőn), hét közben (kedd, szerda és csütörtök), illetve a hét végén (péntek)!</span>\n",
                "\n",
                "1. Jelenítsük meg a tanár azonosítóját, nevét, az időszakot (hét eleje - hét közben - hét vége), valamint az óraszámot!\n",
                "2. A három megjelölt időszakot külön kérdezzük le, majd fűzzük össze a lekérdezések eredményeit!\n",
                "3. Rendezzük a listát az oktató neve, azon belül időszak szerint!"
            ],
            "metadata": {
                "azdata_cell_guid": "435e2860-2dd5-4877-90f4-34a43baeb53c"
            },
            "attachments": {}
        },
        {
            "cell_type": "code",
            "source": [
                ""
            ],
            "metadata": {
                "azdata_cell_guid": "ce846351-ddbe-4d8e-b8fb-2a92c73ac80b",
                "language": "sql"
            },
            "outputs": [],
            "execution_count": null
        },
        {
            "cell_type": "markdown",
            "source": [
                "10. <span style=\"background-color: rgb(255, 255, 255); color: rgb(36, 41, 47); font-family: -apple-system, BlinkMacSystemFont, &quot;Segoe UI&quot;, Helvetica, Arial, sans-serif, &quot;Apple Color Emoji&quot;, &quot;Segoe UI Emoji&quot;; font-size: 16px; font-weight: 600;\">Melyik napokon nincs órája Pelikán Józsefnek?</span>"
            ],
            "metadata": {
                "azdata_cell_guid": "217c5772-afe2-4a7c-b913-e3a3e09d6411"
            },
            "attachments": {}
        },
        {
            "cell_type": "code",
            "source": [
                "--összes nap\r\n",
                "SELECT nap\r\n",
                "FROM Napok\r\n",
                "\r\n",
                "EXCEPT\r\n",
                "\r\n",
                "--amikor van órája PJ-nek\r\n",
                "SELECT nap.nap\r\n",
                "FROM Orak ora JOIN Napok nap ON ora.nap = nap.nap_id\r\n",
                "              JOIN Oktatok okt ON ora.tanar = okt.oktato_id\r\n",
                "WHERE okt.nev = 'Pelikán József'"
            ],
            "metadata": {
                "azdata_cell_guid": "a9cc0926-3dbd-4ed8-8179-1c39d64a0762",
                "language": "sql"
            },
            "outputs": [
                {
                    "output_type": "display_data",
                    "data": {
                        "text/html": "(3 rows affected)"
                    },
                    "metadata": {}
                },
                {
                    "output_type": "display_data",
                    "data": {
                        "text/html": "Total execution time: 00:00:00.016"
                    },
                    "metadata": {}
                },
                {
                    "output_type": "execute_result",
                    "metadata": {},
                    "execution_count": 38,
                    "data": {
                        "application/vnd.dataresource+json": {
                            "schema": {
                                "fields": [
                                    {
                                        "name": "nap"
                                    }
                                ]
                            },
                            "data": [
                                {
                                    "nap": "Csütörtök"
                                },
                                {
                                    "nap": "Péntek"
                                },
                                {
                                    "nap": "Szerda"
                                }
                            ]
                        },
                        "text/html": [
                            "<table>",
                            "<tr><th>nap</th></tr>",
                            "<tr><td>Csütörtök</td></tr>",
                            "<tr><td>Péntek</td></tr>",
                            "<tr><td>Szerda</td></tr>",
                            "</table>"
                        ]
                    }
                }
            ],
            "execution_count": 38
        },
        {
            "cell_type": "markdown",
            "source": [
                "**A 11-15 feladatok gyakorlásra szolgálnak a közelgő zh-ra :-)**\n",
                "\n",
                "11. _Készítsünk listát az oktatók adatairól!_\n",
                "\n",
                "1. Az oktatók titulusa és neve összefűzve jelenjen meg, közöttük szóközzel!\n",
                "2. Ha valakinek nincs titulusa, akkor csak a neve jelenjen meg, szóköz nélkül!\n",
                "3. A listát rendezzük a beosztás kódja, azon belül a státusz kódja szerint növekvő sorrendbe!\n",
                "4. Az oszlopokat nevezzük el értelemszerűen!"
            ],
            "metadata": {
                "azdata_cell_guid": "d2340f5f-1614-473c-b937-85740d67f7c1"
            },
            "attachments": {}
        },
        {
            "cell_type": "code",
            "source": [
                ""
            ],
            "metadata": {
                "azdata_cell_guid": "e99c2c53-898f-4787-b0e6-182d106dc16f",
                "language": "sql"
            },
            "outputs": [
                {
                    "output_type": "display_data",
                    "data": {
                        "text/html": "(335 rows affected)"
                    },
                    "metadata": {}
                },
                {
                    "output_type": "display_data",
                    "data": {
                        "text/html": "Total execution time: 00:00:00.009"
                    },
                    "metadata": {}
                },
                {
                    "output_type": "execute_result",
                    "metadata": {},
                    "execution_count": 36,
                    "data": {
                        "application/vnd.dataresource+json": {
                            "schema": {
                                "fields": [
                                    {
                                        "name": "nap_id"
                                    },
                                    {
                                        "name": "nap"
                                    },
                                    {
                                        "name": "ora_id"
                                    },
                                    {
                                        "name": "tanar"
                                    },
                                    {
                                        "name": "nap"
                                    },
                                    {
                                        "name": "Sav"
                                    },
                                    {
                                        "name": "targy"
                                    },
                                    {
                                        "name": "terem"
                                    }
                                ]
                            },
                            "data": [
                                {
                                    "nap_id": "1",
                                    "nap": "3",
                                    "ora_id": "159",
                                    "tanar": "4",
                                    "Sav": "1",
                                    "targy": "1",
                                    "terem": "1"
                                },
                                {
                                    "nap_id": "1",
                                    "nap": "2",
                                    "ora_id": "160",
                                    "tanar": "8",
                                    "Sav": "5",
                                    "targy": "1",
                                    "terem": "2"
                                },
                                {
                                    "nap_id": "1",
                                    "nap": "1",
                                    "ora_id": "161",
                                    "tanar": "8",
                                    "Sav": "2",
                                    "targy": "1",
                                    "terem": "2"
                                },
                                {
                                    "nap_id": "1",
                                    "nap": "1",
                                    "ora_id": "162",
                                    "tanar": "20",
                                    "Sav": "4",
                                    "targy": "1",
                                    "terem": "3"
                                },
                                {
                                    "nap_id": "1",
                                    "nap": "3",
                                    "ora_id": "163",
                                    "tanar": "3",
                                    "Sav": "2",
                                    "targy": "1",
                                    "terem": "4"
                                },
                                {
                                    "nap_id": "1",
                                    "nap": "2",
                                    "ora_id": "164",
                                    "tanar": "7",
                                    "Sav": "3",
                                    "targy": "1",
                                    "terem": "3"
                                },
                                {
                                    "nap_id": "1",
                                    "nap": "2",
                                    "ora_id": "165",
                                    "tanar": "3",
                                    "Sav": "3",
                                    "targy": "1",
                                    "terem": "3"
                                },
                                {
                                    "nap_id": "1",
                                    "nap": "2",
                                    "ora_id": "166",
                                    "tanar": "3",
                                    "Sav": "4",
                                    "targy": "1",
                                    "terem": "3"
                                },
                                {
                                    "nap_id": "1",
                                    "nap": "1",
                                    "ora_id": "167",
                                    "tanar": "2",
                                    "Sav": "4",
                                    "targy": "1",
                                    "terem": "4"
                                },
                                {
                                    "nap_id": "1",
                                    "nap": "4",
                                    "ora_id": "168",
                                    "tanar": "4",
                                    "Sav": "3",
                                    "targy": "1",
                                    "terem": "5"
                                },
                                {
                                    "nap_id": "1",
                                    "nap": "1",
                                    "ora_id": "169",
                                    "tanar": "20",
                                    "Sav": "2",
                                    "targy": "1",
                                    "terem": "6"
                                },
                                {
                                    "nap_id": "1",
                                    "nap": "1",
                                    "ora_id": "170",
                                    "tanar": "104",
                                    "Sav": "2",
                                    "targy": "1",
                                    "terem": "4"
                                },
                                {
                                    "nap_id": "1",
                                    "nap": "2",
                                    "ora_id": "171",
                                    "tanar": "14",
                                    "Sav": "2",
                                    "targy": "1",
                                    "terem": "8"
                                },
                                {
                                    "nap_id": "1",
                                    "nap": "2",
                                    "ora_id": "172",
                                    "tanar": "7",
                                    "Sav": "2",
                                    "targy": "1",
                                    "terem": "3"
                                },
                                {
                                    "nap_id": "1",
                                    "nap": "4",
                                    "ora_id": "173",
                                    "tanar": "20",
                                    "Sav": "3",
                                    "targy": "1",
                                    "terem": "3"
                                },
                                {
                                    "nap_id": "1",
                                    "nap": "4",
                                    "ora_id": "174",
                                    "tanar": "104",
                                    "Sav": "3",
                                    "targy": "1",
                                    "terem": "7"
                                },
                                {
                                    "nap_id": "1",
                                    "nap": "4",
                                    "ora_id": "175",
                                    "tanar": "14",
                                    "Sav": "4",
                                    "targy": "1",
                                    "terem": "4"
                                },
                                {
                                    "nap_id": "1",
                                    "nap": "4",
                                    "ora_id": "176",
                                    "tanar": "20",
                                    "Sav": "4",
                                    "targy": "1",
                                    "terem": "2"
                                },
                                {
                                    "nap_id": "1",
                                    "nap": "4",
                                    "ora_id": "177",
                                    "tanar": "2",
                                    "Sav": "5",
                                    "targy": "1",
                                    "terem": "3"
                                },
                                {
                                    "nap_id": "1",
                                    "nap": "4",
                                    "ora_id": "178",
                                    "tanar": "111",
                                    "Sav": "5",
                                    "targy": "1",
                                    "terem": "8"
                                },
                                {
                                    "nap_id": "1",
                                    "nap": "4",
                                    "ora_id": "179",
                                    "tanar": "2",
                                    "Sav": "7",
                                    "targy": "1",
                                    "terem": "4"
                                },
                                {
                                    "nap_id": "1",
                                    "nap": "4",
                                    "ora_id": "180",
                                    "tanar": "111",
                                    "Sav": "7",
                                    "targy": "1",
                                    "terem": "3"
                                },
                                {
                                    "nap_id": "1",
                                    "nap": "5",
                                    "ora_id": "181",
                                    "tanar": "2",
                                    "Sav": "1",
                                    "targy": "1",
                                    "terem": "2"
                                },
                                {
                                    "nap_id": "1",
                                    "nap": "5",
                                    "ora_id": "182",
                                    "tanar": "111",
                                    "Sav": "1",
                                    "targy": "1",
                                    "terem": "7"
                                },
                                {
                                    "nap_id": "1",
                                    "nap": "5",
                                    "ora_id": "183",
                                    "tanar": "2",
                                    "Sav": "2",
                                    "targy": "1",
                                    "terem": "8"
                                },
                                {
                                    "nap_id": "1",
                                    "nap": "5",
                                    "ora_id": "184",
                                    "tanar": "111",
                                    "Sav": "2",
                                    "targy": "1",
                                    "terem": "6"
                                },
                                {
                                    "nap_id": "1",
                                    "nap": "4",
                                    "ora_id": "185",
                                    "tanar": "2",
                                    "Sav": "3",
                                    "targy": "1",
                                    "terem": "4"
                                },
                                {
                                    "nap_id": "1",
                                    "nap": "2",
                                    "ora_id": "186",
                                    "tanar": "18",
                                    "Sav": "4",
                                    "targy": "16",
                                    "terem": "7"
                                },
                                {
                                    "nap_id": "1",
                                    "nap": "3",
                                    "ora_id": "187",
                                    "tanar": "5",
                                    "Sav": "2",
                                    "targy": "2",
                                    "terem": "5"
                                },
                                {
                                    "nap_id": "1",
                                    "nap": "4",
                                    "ora_id": "188",
                                    "tanar": "9",
                                    "Sav": "7",
                                    "targy": "2",
                                    "terem": "13"
                                },
                                {
                                    "nap_id": "1",
                                    "nap": "4",
                                    "ora_id": "189",
                                    "tanar": "9",
                                    "Sav": "2",
                                    "targy": "2",
                                    "terem": "13"
                                },
                                {
                                    "nap_id": "1",
                                    "nap": "5",
                                    "ora_id": "190",
                                    "tanar": "9",
                                    "Sav": "3",
                                    "targy": "2",
                                    "terem": "14"
                                },
                                {
                                    "nap_id": "1",
                                    "nap": "1",
                                    "ora_id": "191",
                                    "tanar": "12",
                                    "Sav": "5",
                                    "targy": "5",
                                    "terem": "8"
                                },
                                {
                                    "nap_id": "1",
                                    "nap": "1",
                                    "ora_id": "192",
                                    "tanar": "12",
                                    "Sav": "7",
                                    "targy": "5",
                                    "terem": "3"
                                },
                                {
                                    "nap_id": "1",
                                    "nap": "1",
                                    "ora_id": "193",
                                    "tanar": "9",
                                    "Sav": "5",
                                    "targy": "5",
                                    "terem": "5"
                                },
                                {
                                    "nap_id": "1",
                                    "nap": "1",
                                    "ora_id": "194",
                                    "tanar": "9",
                                    "Sav": "7",
                                    "targy": "5",
                                    "terem": "11"
                                },
                                {
                                    "nap_id": "1",
                                    "nap": "1",
                                    "ora_id": "195",
                                    "tanar": "5",
                                    "Sav": "5",
                                    "targy": "5",
                                    "terem": "12"
                                },
                                {
                                    "nap_id": "1",
                                    "nap": "1",
                                    "ora_id": "196",
                                    "tanar": "5",
                                    "Sav": "7",
                                    "targy": "5",
                                    "terem": "6"
                                },
                                {
                                    "nap_id": "1",
                                    "nap": "4",
                                    "ora_id": "197",
                                    "tanar": "9",
                                    "Sav": "1",
                                    "targy": "5",
                                    "terem": "16"
                                },
                                {
                                    "nap_id": "1",
                                    "nap": "3",
                                    "ora_id": "198",
                                    "tanar": "9",
                                    "Sav": "2",
                                    "targy": "5",
                                    "terem": "3"
                                },
                                {
                                    "nap_id": "1",
                                    "nap": "4",
                                    "ora_id": "199",
                                    "tanar": "300",
                                    "Sav": "1",
                                    "targy": "5",
                                    "terem": "6"
                                },
                                {
                                    "nap_id": "1",
                                    "nap": "4",
                                    "ora_id": "200",
                                    "tanar": "300",
                                    "Sav": "2",
                                    "targy": "5",
                                    "terem": "8"
                                },
                                {
                                    "nap_id": "1",
                                    "nap": "4",
                                    "ora_id": "201",
                                    "tanar": "301",
                                    "Sav": "4",
                                    "targy": "17",
                                    "terem": "14"
                                },
                                {
                                    "nap_id": "1",
                                    "nap": "4",
                                    "ora_id": "202",
                                    "tanar": "301",
                                    "Sav": "5",
                                    "targy": "17",
                                    "terem": "15"
                                },
                                {
                                    "nap_id": "1",
                                    "nap": "1",
                                    "ora_id": "203",
                                    "tanar": "200",
                                    "Sav": "4",
                                    "targy": "4",
                                    "terem": "10"
                                },
                                {
                                    "nap_id": "1",
                                    "nap": "2",
                                    "ora_id": "204",
                                    "tanar": "108",
                                    "Sav": "5",
                                    "targy": "4",
                                    "terem": "4"
                                },
                                {
                                    "nap_id": "1",
                                    "nap": "1",
                                    "ora_id": "205",
                                    "tanar": "4",
                                    "Sav": "4",
                                    "targy": "18",
                                    "terem": "8"
                                },
                                {
                                    "nap_id": "1",
                                    "nap": "2",
                                    "ora_id": "206",
                                    "tanar": "12",
                                    "Sav": "1",
                                    "targy": "18",
                                    "terem": "10"
                                },
                                {
                                    "nap_id": "1",
                                    "nap": "4",
                                    "ora_id": "207",
                                    "tanar": "12",
                                    "Sav": "4",
                                    "targy": "18",
                                    "terem": "7"
                                },
                                {
                                    "nap_id": "1",
                                    "nap": "1",
                                    "ora_id": "208",
                                    "tanar": "10",
                                    "Sav": "1",
                                    "targy": "13",
                                    "terem": "13"
                                },
                                {
                                    "nap_id": "1",
                                    "nap": "1",
                                    "ora_id": "209",
                                    "tanar": "10",
                                    "Sav": "2",
                                    "targy": "13",
                                    "terem": "13"
                                },
                                {
                                    "nap_id": "1",
                                    "nap": "1",
                                    "ora_id": "210",
                                    "tanar": "6",
                                    "Sav": "7",
                                    "targy": "8",
                                    "terem": "14"
                                },
                                {
                                    "nap_id": "1",
                                    "nap": "1",
                                    "ora_id": "211",
                                    "tanar": "6",
                                    "Sav": "8",
                                    "targy": "8",
                                    "terem": "5"
                                },
                                {
                                    "nap_id": "1",
                                    "nap": "1",
                                    "ora_id": "212",
                                    "tanar": "7",
                                    "Sav": "9",
                                    "targy": "8",
                                    "terem": "4"
                                },
                                {
                                    "nap_id": "1",
                                    "nap": "1",
                                    "ora_id": "213",
                                    "tanar": "7",
                                    "Sav": "10",
                                    "targy": "8",
                                    "terem": "6"
                                },
                                {
                                    "nap_id": "1",
                                    "nap": "1",
                                    "ora_id": "214",
                                    "tanar": "8",
                                    "Sav": "3",
                                    "targy": "3",
                                    "terem": "7"
                                },
                                {
                                    "nap_id": "1",
                                    "nap": "1",
                                    "ora_id": "215",
                                    "tanar": "8",
                                    "Sav": "4",
                                    "targy": "3",
                                    "terem": "9"
                                },
                                {
                                    "nap_id": "1",
                                    "nap": "1",
                                    "ora_id": "216",
                                    "tanar": "6",
                                    "Sav": "3",
                                    "targy": "3",
                                    "terem": "6"
                                },
                                {
                                    "nap_id": "1",
                                    "nap": "1",
                                    "ora_id": "217",
                                    "tanar": "6",
                                    "Sav": "4",
                                    "targy": "3",
                                    "terem": "5"
                                },
                                {
                                    "nap_id": "1",
                                    "nap": "2",
                                    "ora_id": "218",
                                    "tanar": "8",
                                    "Sav": "7",
                                    "targy": "3",
                                    "terem": "2"
                                },
                                {
                                    "nap_id": "1",
                                    "nap": "2",
                                    "ora_id": "219",
                                    "tanar": "8",
                                    "Sav": "8",
                                    "targy": "3",
                                    "terem": "7"
                                },
                                {
                                    "nap_id": "1",
                                    "nap": "2",
                                    "ora_id": "220",
                                    "tanar": "1",
                                    "Sav": "3",
                                    "targy": "10",
                                    "terem": "3"
                                },
                                {
                                    "nap_id": "1",
                                    "nap": "3",
                                    "ora_id": "221",
                                    "tanar": "1",
                                    "Sav": "3",
                                    "targy": "10",
                                    "terem": "13"
                                },
                                {
                                    "nap_id": "1",
                                    "nap": "4",
                                    "ora_id": "222",
                                    "tanar": "1",
                                    "Sav": "5",
                                    "targy": "10",
                                    "terem": "12"
                                },
                                {
                                    "nap_id": "1",
                                    "nap": "5",
                                    "ora_id": "223",
                                    "tanar": "1",
                                    "Sav": "1",
                                    "targy": "10",
                                    "terem": "10"
                                },
                                {
                                    "nap_id": "1",
                                    "nap": "3",
                                    "ora_id": "226",
                                    "tanar": "2",
                                    "Sav": "3",
                                    "targy": "19",
                                    "terem": "1"
                                },
                                {
                                    "nap_id": "1",
                                    "nap": "2",
                                    "ora_id": "227",
                                    "tanar": "2",
                                    "Sav": "5",
                                    "targy": "4",
                                    "terem": "12"
                                },
                                {
                                    "nap_id": "2",
                                    "nap": "3",
                                    "ora_id": "159",
                                    "tanar": "4",
                                    "Sav": "1",
                                    "targy": "1",
                                    "terem": "1"
                                },
                                {
                                    "nap_id": "2",
                                    "nap": "2",
                                    "ora_id": "160",
                                    "tanar": "8",
                                    "Sav": "5",
                                    "targy": "1",
                                    "terem": "2"
                                },
                                {
                                    "nap_id": "2",
                                    "nap": "1",
                                    "ora_id": "161",
                                    "tanar": "8",
                                    "Sav": "2",
                                    "targy": "1",
                                    "terem": "2"
                                },
                                {
                                    "nap_id": "2",
                                    "nap": "1",
                                    "ora_id": "162",
                                    "tanar": "20",
                                    "Sav": "4",
                                    "targy": "1",
                                    "terem": "3"
                                },
                                {
                                    "nap_id": "2",
                                    "nap": "3",
                                    "ora_id": "163",
                                    "tanar": "3",
                                    "Sav": "2",
                                    "targy": "1",
                                    "terem": "4"
                                },
                                {
                                    "nap_id": "2",
                                    "nap": "2",
                                    "ora_id": "164",
                                    "tanar": "7",
                                    "Sav": "3",
                                    "targy": "1",
                                    "terem": "3"
                                },
                                {
                                    "nap_id": "2",
                                    "nap": "2",
                                    "ora_id": "165",
                                    "tanar": "3",
                                    "Sav": "3",
                                    "targy": "1",
                                    "terem": "3"
                                },
                                {
                                    "nap_id": "2",
                                    "nap": "2",
                                    "ora_id": "166",
                                    "tanar": "3",
                                    "Sav": "4",
                                    "targy": "1",
                                    "terem": "3"
                                },
                                {
                                    "nap_id": "2",
                                    "nap": "1",
                                    "ora_id": "167",
                                    "tanar": "2",
                                    "Sav": "4",
                                    "targy": "1",
                                    "terem": "4"
                                },
                                {
                                    "nap_id": "2",
                                    "nap": "4",
                                    "ora_id": "168",
                                    "tanar": "4",
                                    "Sav": "3",
                                    "targy": "1",
                                    "terem": "5"
                                },
                                {
                                    "nap_id": "2",
                                    "nap": "1",
                                    "ora_id": "169",
                                    "tanar": "20",
                                    "Sav": "2",
                                    "targy": "1",
                                    "terem": "6"
                                },
                                {
                                    "nap_id": "2",
                                    "nap": "1",
                                    "ora_id": "170",
                                    "tanar": "104",
                                    "Sav": "2",
                                    "targy": "1",
                                    "terem": "4"
                                },
                                {
                                    "nap_id": "2",
                                    "nap": "2",
                                    "ora_id": "171",
                                    "tanar": "14",
                                    "Sav": "2",
                                    "targy": "1",
                                    "terem": "8"
                                },
                                {
                                    "nap_id": "2",
                                    "nap": "2",
                                    "ora_id": "172",
                                    "tanar": "7",
                                    "Sav": "2",
                                    "targy": "1",
                                    "terem": "3"
                                },
                                {
                                    "nap_id": "2",
                                    "nap": "4",
                                    "ora_id": "173",
                                    "tanar": "20",
                                    "Sav": "3",
                                    "targy": "1",
                                    "terem": "3"
                                },
                                {
                                    "nap_id": "2",
                                    "nap": "4",
                                    "ora_id": "174",
                                    "tanar": "104",
                                    "Sav": "3",
                                    "targy": "1",
                                    "terem": "7"
                                },
                                {
                                    "nap_id": "2",
                                    "nap": "4",
                                    "ora_id": "175",
                                    "tanar": "14",
                                    "Sav": "4",
                                    "targy": "1",
                                    "terem": "4"
                                },
                                {
                                    "nap_id": "2",
                                    "nap": "4",
                                    "ora_id": "176",
                                    "tanar": "20",
                                    "Sav": "4",
                                    "targy": "1",
                                    "terem": "2"
                                },
                                {
                                    "nap_id": "2",
                                    "nap": "4",
                                    "ora_id": "177",
                                    "tanar": "2",
                                    "Sav": "5",
                                    "targy": "1",
                                    "terem": "3"
                                },
                                {
                                    "nap_id": "2",
                                    "nap": "4",
                                    "ora_id": "178",
                                    "tanar": "111",
                                    "Sav": "5",
                                    "targy": "1",
                                    "terem": "8"
                                },
                                {
                                    "nap_id": "2",
                                    "nap": "4",
                                    "ora_id": "179",
                                    "tanar": "2",
                                    "Sav": "7",
                                    "targy": "1",
                                    "terem": "4"
                                },
                                {
                                    "nap_id": "2",
                                    "nap": "4",
                                    "ora_id": "180",
                                    "tanar": "111",
                                    "Sav": "7",
                                    "targy": "1",
                                    "terem": "3"
                                },
                                {
                                    "nap_id": "2",
                                    "nap": "5",
                                    "ora_id": "181",
                                    "tanar": "2",
                                    "Sav": "1",
                                    "targy": "1",
                                    "terem": "2"
                                },
                                {
                                    "nap_id": "2",
                                    "nap": "5",
                                    "ora_id": "182",
                                    "tanar": "111",
                                    "Sav": "1",
                                    "targy": "1",
                                    "terem": "7"
                                },
                                {
                                    "nap_id": "2",
                                    "nap": "5",
                                    "ora_id": "183",
                                    "tanar": "2",
                                    "Sav": "2",
                                    "targy": "1",
                                    "terem": "8"
                                },
                                {
                                    "nap_id": "2",
                                    "nap": "5",
                                    "ora_id": "184",
                                    "tanar": "111",
                                    "Sav": "2",
                                    "targy": "1",
                                    "terem": "6"
                                },
                                {
                                    "nap_id": "2",
                                    "nap": "4",
                                    "ora_id": "185",
                                    "tanar": "2",
                                    "Sav": "3",
                                    "targy": "1",
                                    "terem": "4"
                                },
                                {
                                    "nap_id": "2",
                                    "nap": "2",
                                    "ora_id": "186",
                                    "tanar": "18",
                                    "Sav": "4",
                                    "targy": "16",
                                    "terem": "7"
                                },
                                {
                                    "nap_id": "2",
                                    "nap": "3",
                                    "ora_id": "187",
                                    "tanar": "5",
                                    "Sav": "2",
                                    "targy": "2",
                                    "terem": "5"
                                },
                                {
                                    "nap_id": "2",
                                    "nap": "4",
                                    "ora_id": "188",
                                    "tanar": "9",
                                    "Sav": "7",
                                    "targy": "2",
                                    "terem": "13"
                                },
                                {
                                    "nap_id": "2",
                                    "nap": "4",
                                    "ora_id": "189",
                                    "tanar": "9",
                                    "Sav": "2",
                                    "targy": "2",
                                    "terem": "13"
                                },
                                {
                                    "nap_id": "2",
                                    "nap": "5",
                                    "ora_id": "190",
                                    "tanar": "9",
                                    "Sav": "3",
                                    "targy": "2",
                                    "terem": "14"
                                },
                                {
                                    "nap_id": "2",
                                    "nap": "1",
                                    "ora_id": "191",
                                    "tanar": "12",
                                    "Sav": "5",
                                    "targy": "5",
                                    "terem": "8"
                                },
                                {
                                    "nap_id": "2",
                                    "nap": "1",
                                    "ora_id": "192",
                                    "tanar": "12",
                                    "Sav": "7",
                                    "targy": "5",
                                    "terem": "3"
                                },
                                {
                                    "nap_id": "2",
                                    "nap": "1",
                                    "ora_id": "193",
                                    "tanar": "9",
                                    "Sav": "5",
                                    "targy": "5",
                                    "terem": "5"
                                },
                                {
                                    "nap_id": "2",
                                    "nap": "1",
                                    "ora_id": "194",
                                    "tanar": "9",
                                    "Sav": "7",
                                    "targy": "5",
                                    "terem": "11"
                                },
                                {
                                    "nap_id": "2",
                                    "nap": "1",
                                    "ora_id": "195",
                                    "tanar": "5",
                                    "Sav": "5",
                                    "targy": "5",
                                    "terem": "12"
                                },
                                {
                                    "nap_id": "2",
                                    "nap": "1",
                                    "ora_id": "196",
                                    "tanar": "5",
                                    "Sav": "7",
                                    "targy": "5",
                                    "terem": "6"
                                },
                                {
                                    "nap_id": "2",
                                    "nap": "4",
                                    "ora_id": "197",
                                    "tanar": "9",
                                    "Sav": "1",
                                    "targy": "5",
                                    "terem": "16"
                                },
                                {
                                    "nap_id": "2",
                                    "nap": "3",
                                    "ora_id": "198",
                                    "tanar": "9",
                                    "Sav": "2",
                                    "targy": "5",
                                    "terem": "3"
                                },
                                {
                                    "nap_id": "2",
                                    "nap": "4",
                                    "ora_id": "199",
                                    "tanar": "300",
                                    "Sav": "1",
                                    "targy": "5",
                                    "terem": "6"
                                },
                                {
                                    "nap_id": "2",
                                    "nap": "4",
                                    "ora_id": "200",
                                    "tanar": "300",
                                    "Sav": "2",
                                    "targy": "5",
                                    "terem": "8"
                                },
                                {
                                    "nap_id": "2",
                                    "nap": "4",
                                    "ora_id": "201",
                                    "tanar": "301",
                                    "Sav": "4",
                                    "targy": "17",
                                    "terem": "14"
                                },
                                {
                                    "nap_id": "2",
                                    "nap": "4",
                                    "ora_id": "202",
                                    "tanar": "301",
                                    "Sav": "5",
                                    "targy": "17",
                                    "terem": "15"
                                },
                                {
                                    "nap_id": "2",
                                    "nap": "1",
                                    "ora_id": "203",
                                    "tanar": "200",
                                    "Sav": "4",
                                    "targy": "4",
                                    "terem": "10"
                                },
                                {
                                    "nap_id": "2",
                                    "nap": "2",
                                    "ora_id": "204",
                                    "tanar": "108",
                                    "Sav": "5",
                                    "targy": "4",
                                    "terem": "4"
                                },
                                {
                                    "nap_id": "2",
                                    "nap": "1",
                                    "ora_id": "205",
                                    "tanar": "4",
                                    "Sav": "4",
                                    "targy": "18",
                                    "terem": "8"
                                },
                                {
                                    "nap_id": "2",
                                    "nap": "2",
                                    "ora_id": "206",
                                    "tanar": "12",
                                    "Sav": "1",
                                    "targy": "18",
                                    "terem": "10"
                                },
                                {
                                    "nap_id": "2",
                                    "nap": "4",
                                    "ora_id": "207",
                                    "tanar": "12",
                                    "Sav": "4",
                                    "targy": "18",
                                    "terem": "7"
                                },
                                {
                                    "nap_id": "2",
                                    "nap": "1",
                                    "ora_id": "208",
                                    "tanar": "10",
                                    "Sav": "1",
                                    "targy": "13",
                                    "terem": "13"
                                },
                                {
                                    "nap_id": "2",
                                    "nap": "1",
                                    "ora_id": "209",
                                    "tanar": "10",
                                    "Sav": "2",
                                    "targy": "13",
                                    "terem": "13"
                                },
                                {
                                    "nap_id": "2",
                                    "nap": "1",
                                    "ora_id": "210",
                                    "tanar": "6",
                                    "Sav": "7",
                                    "targy": "8",
                                    "terem": "14"
                                },
                                {
                                    "nap_id": "2",
                                    "nap": "1",
                                    "ora_id": "211",
                                    "tanar": "6",
                                    "Sav": "8",
                                    "targy": "8",
                                    "terem": "5"
                                },
                                {
                                    "nap_id": "2",
                                    "nap": "1",
                                    "ora_id": "212",
                                    "tanar": "7",
                                    "Sav": "9",
                                    "targy": "8",
                                    "terem": "4"
                                },
                                {
                                    "nap_id": "2",
                                    "nap": "1",
                                    "ora_id": "213",
                                    "tanar": "7",
                                    "Sav": "10",
                                    "targy": "8",
                                    "terem": "6"
                                },
                                {
                                    "nap_id": "2",
                                    "nap": "1",
                                    "ora_id": "214",
                                    "tanar": "8",
                                    "Sav": "3",
                                    "targy": "3",
                                    "terem": "7"
                                },
                                {
                                    "nap_id": "2",
                                    "nap": "1",
                                    "ora_id": "215",
                                    "tanar": "8",
                                    "Sav": "4",
                                    "targy": "3",
                                    "terem": "9"
                                },
                                {
                                    "nap_id": "2",
                                    "nap": "1",
                                    "ora_id": "216",
                                    "tanar": "6",
                                    "Sav": "3",
                                    "targy": "3",
                                    "terem": "6"
                                },
                                {
                                    "nap_id": "2",
                                    "nap": "1",
                                    "ora_id": "217",
                                    "tanar": "6",
                                    "Sav": "4",
                                    "targy": "3",
                                    "terem": "5"
                                },
                                {
                                    "nap_id": "2",
                                    "nap": "2",
                                    "ora_id": "218",
                                    "tanar": "8",
                                    "Sav": "7",
                                    "targy": "3",
                                    "terem": "2"
                                },
                                {
                                    "nap_id": "2",
                                    "nap": "2",
                                    "ora_id": "219",
                                    "tanar": "8",
                                    "Sav": "8",
                                    "targy": "3",
                                    "terem": "7"
                                },
                                {
                                    "nap_id": "2",
                                    "nap": "2",
                                    "ora_id": "220",
                                    "tanar": "1",
                                    "Sav": "3",
                                    "targy": "10",
                                    "terem": "3"
                                },
                                {
                                    "nap_id": "2",
                                    "nap": "3",
                                    "ora_id": "221",
                                    "tanar": "1",
                                    "Sav": "3",
                                    "targy": "10",
                                    "terem": "13"
                                },
                                {
                                    "nap_id": "2",
                                    "nap": "4",
                                    "ora_id": "222",
                                    "tanar": "1",
                                    "Sav": "5",
                                    "targy": "10",
                                    "terem": "12"
                                },
                                {
                                    "nap_id": "2",
                                    "nap": "5",
                                    "ora_id": "223",
                                    "tanar": "1",
                                    "Sav": "1",
                                    "targy": "10",
                                    "terem": "10"
                                },
                                {
                                    "nap_id": "2",
                                    "nap": "3",
                                    "ora_id": "226",
                                    "tanar": "2",
                                    "Sav": "3",
                                    "targy": "19",
                                    "terem": "1"
                                },
                                {
                                    "nap_id": "2",
                                    "nap": "2",
                                    "ora_id": "227",
                                    "tanar": "2",
                                    "Sav": "5",
                                    "targy": "4",
                                    "terem": "12"
                                },
                                {
                                    "nap_id": "3",
                                    "nap": "3",
                                    "ora_id": "159",
                                    "tanar": "4",
                                    "Sav": "1",
                                    "targy": "1",
                                    "terem": "1"
                                },
                                {
                                    "nap_id": "3",
                                    "nap": "2",
                                    "ora_id": "160",
                                    "tanar": "8",
                                    "Sav": "5",
                                    "targy": "1",
                                    "terem": "2"
                                },
                                {
                                    "nap_id": "3",
                                    "nap": "1",
                                    "ora_id": "161",
                                    "tanar": "8",
                                    "Sav": "2",
                                    "targy": "1",
                                    "terem": "2"
                                },
                                {
                                    "nap_id": "3",
                                    "nap": "1",
                                    "ora_id": "162",
                                    "tanar": "20",
                                    "Sav": "4",
                                    "targy": "1",
                                    "terem": "3"
                                },
                                {
                                    "nap_id": "3",
                                    "nap": "3",
                                    "ora_id": "163",
                                    "tanar": "3",
                                    "Sav": "2",
                                    "targy": "1",
                                    "terem": "4"
                                },
                                {
                                    "nap_id": "3",
                                    "nap": "2",
                                    "ora_id": "164",
                                    "tanar": "7",
                                    "Sav": "3",
                                    "targy": "1",
                                    "terem": "3"
                                },
                                {
                                    "nap_id": "3",
                                    "nap": "2",
                                    "ora_id": "165",
                                    "tanar": "3",
                                    "Sav": "3",
                                    "targy": "1",
                                    "terem": "3"
                                },
                                {
                                    "nap_id": "3",
                                    "nap": "2",
                                    "ora_id": "166",
                                    "tanar": "3",
                                    "Sav": "4",
                                    "targy": "1",
                                    "terem": "3"
                                },
                                {
                                    "nap_id": "3",
                                    "nap": "1",
                                    "ora_id": "167",
                                    "tanar": "2",
                                    "Sav": "4",
                                    "targy": "1",
                                    "terem": "4"
                                },
                                {
                                    "nap_id": "3",
                                    "nap": "4",
                                    "ora_id": "168",
                                    "tanar": "4",
                                    "Sav": "3",
                                    "targy": "1",
                                    "terem": "5"
                                },
                                {
                                    "nap_id": "3",
                                    "nap": "1",
                                    "ora_id": "169",
                                    "tanar": "20",
                                    "Sav": "2",
                                    "targy": "1",
                                    "terem": "6"
                                },
                                {
                                    "nap_id": "3",
                                    "nap": "1",
                                    "ora_id": "170",
                                    "tanar": "104",
                                    "Sav": "2",
                                    "targy": "1",
                                    "terem": "4"
                                },
                                {
                                    "nap_id": "3",
                                    "nap": "2",
                                    "ora_id": "171",
                                    "tanar": "14",
                                    "Sav": "2",
                                    "targy": "1",
                                    "terem": "8"
                                },
                                {
                                    "nap_id": "3",
                                    "nap": "2",
                                    "ora_id": "172",
                                    "tanar": "7",
                                    "Sav": "2",
                                    "targy": "1",
                                    "terem": "3"
                                },
                                {
                                    "nap_id": "3",
                                    "nap": "4",
                                    "ora_id": "173",
                                    "tanar": "20",
                                    "Sav": "3",
                                    "targy": "1",
                                    "terem": "3"
                                },
                                {
                                    "nap_id": "3",
                                    "nap": "4",
                                    "ora_id": "174",
                                    "tanar": "104",
                                    "Sav": "3",
                                    "targy": "1",
                                    "terem": "7"
                                },
                                {
                                    "nap_id": "3",
                                    "nap": "4",
                                    "ora_id": "175",
                                    "tanar": "14",
                                    "Sav": "4",
                                    "targy": "1",
                                    "terem": "4"
                                },
                                {
                                    "nap_id": "3",
                                    "nap": "4",
                                    "ora_id": "176",
                                    "tanar": "20",
                                    "Sav": "4",
                                    "targy": "1",
                                    "terem": "2"
                                },
                                {
                                    "nap_id": "3",
                                    "nap": "4",
                                    "ora_id": "177",
                                    "tanar": "2",
                                    "Sav": "5",
                                    "targy": "1",
                                    "terem": "3"
                                },
                                {
                                    "nap_id": "3",
                                    "nap": "4",
                                    "ora_id": "178",
                                    "tanar": "111",
                                    "Sav": "5",
                                    "targy": "1",
                                    "terem": "8"
                                },
                                {
                                    "nap_id": "3",
                                    "nap": "4",
                                    "ora_id": "179",
                                    "tanar": "2",
                                    "Sav": "7",
                                    "targy": "1",
                                    "terem": "4"
                                },
                                {
                                    "nap_id": "3",
                                    "nap": "4",
                                    "ora_id": "180",
                                    "tanar": "111",
                                    "Sav": "7",
                                    "targy": "1",
                                    "terem": "3"
                                },
                                {
                                    "nap_id": "3",
                                    "nap": "5",
                                    "ora_id": "181",
                                    "tanar": "2",
                                    "Sav": "1",
                                    "targy": "1",
                                    "terem": "2"
                                },
                                {
                                    "nap_id": "3",
                                    "nap": "5",
                                    "ora_id": "182",
                                    "tanar": "111",
                                    "Sav": "1",
                                    "targy": "1",
                                    "terem": "7"
                                },
                                {
                                    "nap_id": "3",
                                    "nap": "5",
                                    "ora_id": "183",
                                    "tanar": "2",
                                    "Sav": "2",
                                    "targy": "1",
                                    "terem": "8"
                                },
                                {
                                    "nap_id": "3",
                                    "nap": "5",
                                    "ora_id": "184",
                                    "tanar": "111",
                                    "Sav": "2",
                                    "targy": "1",
                                    "terem": "6"
                                },
                                {
                                    "nap_id": "3",
                                    "nap": "4",
                                    "ora_id": "185",
                                    "tanar": "2",
                                    "Sav": "3",
                                    "targy": "1",
                                    "terem": "4"
                                },
                                {
                                    "nap_id": "3",
                                    "nap": "2",
                                    "ora_id": "186",
                                    "tanar": "18",
                                    "Sav": "4",
                                    "targy": "16",
                                    "terem": "7"
                                },
                                {
                                    "nap_id": "3",
                                    "nap": "3",
                                    "ora_id": "187",
                                    "tanar": "5",
                                    "Sav": "2",
                                    "targy": "2",
                                    "terem": "5"
                                },
                                {
                                    "nap_id": "3",
                                    "nap": "4",
                                    "ora_id": "188",
                                    "tanar": "9",
                                    "Sav": "7",
                                    "targy": "2",
                                    "terem": "13"
                                },
                                {
                                    "nap_id": "3",
                                    "nap": "4",
                                    "ora_id": "189",
                                    "tanar": "9",
                                    "Sav": "2",
                                    "targy": "2",
                                    "terem": "13"
                                },
                                {
                                    "nap_id": "3",
                                    "nap": "5",
                                    "ora_id": "190",
                                    "tanar": "9",
                                    "Sav": "3",
                                    "targy": "2",
                                    "terem": "14"
                                },
                                {
                                    "nap_id": "3",
                                    "nap": "1",
                                    "ora_id": "191",
                                    "tanar": "12",
                                    "Sav": "5",
                                    "targy": "5",
                                    "terem": "8"
                                },
                                {
                                    "nap_id": "3",
                                    "nap": "1",
                                    "ora_id": "192",
                                    "tanar": "12",
                                    "Sav": "7",
                                    "targy": "5",
                                    "terem": "3"
                                },
                                {
                                    "nap_id": "3",
                                    "nap": "1",
                                    "ora_id": "193",
                                    "tanar": "9",
                                    "Sav": "5",
                                    "targy": "5",
                                    "terem": "5"
                                },
                                {
                                    "nap_id": "3",
                                    "nap": "1",
                                    "ora_id": "194",
                                    "tanar": "9",
                                    "Sav": "7",
                                    "targy": "5",
                                    "terem": "11"
                                },
                                {
                                    "nap_id": "3",
                                    "nap": "1",
                                    "ora_id": "195",
                                    "tanar": "5",
                                    "Sav": "5",
                                    "targy": "5",
                                    "terem": "12"
                                },
                                {
                                    "nap_id": "3",
                                    "nap": "1",
                                    "ora_id": "196",
                                    "tanar": "5",
                                    "Sav": "7",
                                    "targy": "5",
                                    "terem": "6"
                                },
                                {
                                    "nap_id": "3",
                                    "nap": "4",
                                    "ora_id": "197",
                                    "tanar": "9",
                                    "Sav": "1",
                                    "targy": "5",
                                    "terem": "16"
                                },
                                {
                                    "nap_id": "3",
                                    "nap": "3",
                                    "ora_id": "198",
                                    "tanar": "9",
                                    "Sav": "2",
                                    "targy": "5",
                                    "terem": "3"
                                },
                                {
                                    "nap_id": "3",
                                    "nap": "4",
                                    "ora_id": "199",
                                    "tanar": "300",
                                    "Sav": "1",
                                    "targy": "5",
                                    "terem": "6"
                                },
                                {
                                    "nap_id": "3",
                                    "nap": "4",
                                    "ora_id": "200",
                                    "tanar": "300",
                                    "Sav": "2",
                                    "targy": "5",
                                    "terem": "8"
                                },
                                {
                                    "nap_id": "3",
                                    "nap": "4",
                                    "ora_id": "201",
                                    "tanar": "301",
                                    "Sav": "4",
                                    "targy": "17",
                                    "terem": "14"
                                },
                                {
                                    "nap_id": "3",
                                    "nap": "4",
                                    "ora_id": "202",
                                    "tanar": "301",
                                    "Sav": "5",
                                    "targy": "17",
                                    "terem": "15"
                                },
                                {
                                    "nap_id": "3",
                                    "nap": "1",
                                    "ora_id": "203",
                                    "tanar": "200",
                                    "Sav": "4",
                                    "targy": "4",
                                    "terem": "10"
                                },
                                {
                                    "nap_id": "3",
                                    "nap": "2",
                                    "ora_id": "204",
                                    "tanar": "108",
                                    "Sav": "5",
                                    "targy": "4",
                                    "terem": "4"
                                },
                                {
                                    "nap_id": "3",
                                    "nap": "1",
                                    "ora_id": "205",
                                    "tanar": "4",
                                    "Sav": "4",
                                    "targy": "18",
                                    "terem": "8"
                                },
                                {
                                    "nap_id": "3",
                                    "nap": "2",
                                    "ora_id": "206",
                                    "tanar": "12",
                                    "Sav": "1",
                                    "targy": "18",
                                    "terem": "10"
                                },
                                {
                                    "nap_id": "3",
                                    "nap": "4",
                                    "ora_id": "207",
                                    "tanar": "12",
                                    "Sav": "4",
                                    "targy": "18",
                                    "terem": "7"
                                },
                                {
                                    "nap_id": "3",
                                    "nap": "1",
                                    "ora_id": "208",
                                    "tanar": "10",
                                    "Sav": "1",
                                    "targy": "13",
                                    "terem": "13"
                                },
                                {
                                    "nap_id": "3",
                                    "nap": "1",
                                    "ora_id": "209",
                                    "tanar": "10",
                                    "Sav": "2",
                                    "targy": "13",
                                    "terem": "13"
                                },
                                {
                                    "nap_id": "3",
                                    "nap": "1",
                                    "ora_id": "210",
                                    "tanar": "6",
                                    "Sav": "7",
                                    "targy": "8",
                                    "terem": "14"
                                },
                                {
                                    "nap_id": "3",
                                    "nap": "1",
                                    "ora_id": "211",
                                    "tanar": "6",
                                    "Sav": "8",
                                    "targy": "8",
                                    "terem": "5"
                                },
                                {
                                    "nap_id": "3",
                                    "nap": "1",
                                    "ora_id": "212",
                                    "tanar": "7",
                                    "Sav": "9",
                                    "targy": "8",
                                    "terem": "4"
                                },
                                {
                                    "nap_id": "3",
                                    "nap": "1",
                                    "ora_id": "213",
                                    "tanar": "7",
                                    "Sav": "10",
                                    "targy": "8",
                                    "terem": "6"
                                },
                                {
                                    "nap_id": "3",
                                    "nap": "1",
                                    "ora_id": "214",
                                    "tanar": "8",
                                    "Sav": "3",
                                    "targy": "3",
                                    "terem": "7"
                                },
                                {
                                    "nap_id": "3",
                                    "nap": "1",
                                    "ora_id": "215",
                                    "tanar": "8",
                                    "Sav": "4",
                                    "targy": "3",
                                    "terem": "9"
                                },
                                {
                                    "nap_id": "3",
                                    "nap": "1",
                                    "ora_id": "216",
                                    "tanar": "6",
                                    "Sav": "3",
                                    "targy": "3",
                                    "terem": "6"
                                },
                                {
                                    "nap_id": "3",
                                    "nap": "1",
                                    "ora_id": "217",
                                    "tanar": "6",
                                    "Sav": "4",
                                    "targy": "3",
                                    "terem": "5"
                                },
                                {
                                    "nap_id": "3",
                                    "nap": "2",
                                    "ora_id": "218",
                                    "tanar": "8",
                                    "Sav": "7",
                                    "targy": "3",
                                    "terem": "2"
                                },
                                {
                                    "nap_id": "3",
                                    "nap": "2",
                                    "ora_id": "219",
                                    "tanar": "8",
                                    "Sav": "8",
                                    "targy": "3",
                                    "terem": "7"
                                },
                                {
                                    "nap_id": "3",
                                    "nap": "2",
                                    "ora_id": "220",
                                    "tanar": "1",
                                    "Sav": "3",
                                    "targy": "10",
                                    "terem": "3"
                                },
                                {
                                    "nap_id": "3",
                                    "nap": "3",
                                    "ora_id": "221",
                                    "tanar": "1",
                                    "Sav": "3",
                                    "targy": "10",
                                    "terem": "13"
                                },
                                {
                                    "nap_id": "3",
                                    "nap": "4",
                                    "ora_id": "222",
                                    "tanar": "1",
                                    "Sav": "5",
                                    "targy": "10",
                                    "terem": "12"
                                },
                                {
                                    "nap_id": "3",
                                    "nap": "5",
                                    "ora_id": "223",
                                    "tanar": "1",
                                    "Sav": "1",
                                    "targy": "10",
                                    "terem": "10"
                                },
                                {
                                    "nap_id": "3",
                                    "nap": "3",
                                    "ora_id": "226",
                                    "tanar": "2",
                                    "Sav": "3",
                                    "targy": "19",
                                    "terem": "1"
                                },
                                {
                                    "nap_id": "3",
                                    "nap": "2",
                                    "ora_id": "227",
                                    "tanar": "2",
                                    "Sav": "5",
                                    "targy": "4",
                                    "terem": "12"
                                },
                                {
                                    "nap_id": "4",
                                    "nap": "3",
                                    "ora_id": "159",
                                    "tanar": "4",
                                    "Sav": "1",
                                    "targy": "1",
                                    "terem": "1"
                                },
                                {
                                    "nap_id": "4",
                                    "nap": "2",
                                    "ora_id": "160",
                                    "tanar": "8",
                                    "Sav": "5",
                                    "targy": "1",
                                    "terem": "2"
                                },
                                {
                                    "nap_id": "4",
                                    "nap": "1",
                                    "ora_id": "161",
                                    "tanar": "8",
                                    "Sav": "2",
                                    "targy": "1",
                                    "terem": "2"
                                },
                                {
                                    "nap_id": "4",
                                    "nap": "1",
                                    "ora_id": "162",
                                    "tanar": "20",
                                    "Sav": "4",
                                    "targy": "1",
                                    "terem": "3"
                                },
                                {
                                    "nap_id": "4",
                                    "nap": "3",
                                    "ora_id": "163",
                                    "tanar": "3",
                                    "Sav": "2",
                                    "targy": "1",
                                    "terem": "4"
                                },
                                {
                                    "nap_id": "4",
                                    "nap": "2",
                                    "ora_id": "164",
                                    "tanar": "7",
                                    "Sav": "3",
                                    "targy": "1",
                                    "terem": "3"
                                },
                                {
                                    "nap_id": "4",
                                    "nap": "2",
                                    "ora_id": "165",
                                    "tanar": "3",
                                    "Sav": "3",
                                    "targy": "1",
                                    "terem": "3"
                                },
                                {
                                    "nap_id": "4",
                                    "nap": "2",
                                    "ora_id": "166",
                                    "tanar": "3",
                                    "Sav": "4",
                                    "targy": "1",
                                    "terem": "3"
                                },
                                {
                                    "nap_id": "4",
                                    "nap": "1",
                                    "ora_id": "167",
                                    "tanar": "2",
                                    "Sav": "4",
                                    "targy": "1",
                                    "terem": "4"
                                },
                                {
                                    "nap_id": "4",
                                    "nap": "4",
                                    "ora_id": "168",
                                    "tanar": "4",
                                    "Sav": "3",
                                    "targy": "1",
                                    "terem": "5"
                                },
                                {
                                    "nap_id": "4",
                                    "nap": "1",
                                    "ora_id": "169",
                                    "tanar": "20",
                                    "Sav": "2",
                                    "targy": "1",
                                    "terem": "6"
                                },
                                {
                                    "nap_id": "4",
                                    "nap": "1",
                                    "ora_id": "170",
                                    "tanar": "104",
                                    "Sav": "2",
                                    "targy": "1",
                                    "terem": "4"
                                },
                                {
                                    "nap_id": "4",
                                    "nap": "2",
                                    "ora_id": "171",
                                    "tanar": "14",
                                    "Sav": "2",
                                    "targy": "1",
                                    "terem": "8"
                                },
                                {
                                    "nap_id": "4",
                                    "nap": "2",
                                    "ora_id": "172",
                                    "tanar": "7",
                                    "Sav": "2",
                                    "targy": "1",
                                    "terem": "3"
                                },
                                {
                                    "nap_id": "4",
                                    "nap": "4",
                                    "ora_id": "173",
                                    "tanar": "20",
                                    "Sav": "3",
                                    "targy": "1",
                                    "terem": "3"
                                },
                                {
                                    "nap_id": "4",
                                    "nap": "4",
                                    "ora_id": "174",
                                    "tanar": "104",
                                    "Sav": "3",
                                    "targy": "1",
                                    "terem": "7"
                                },
                                {
                                    "nap_id": "4",
                                    "nap": "4",
                                    "ora_id": "175",
                                    "tanar": "14",
                                    "Sav": "4",
                                    "targy": "1",
                                    "terem": "4"
                                },
                                {
                                    "nap_id": "4",
                                    "nap": "4",
                                    "ora_id": "176",
                                    "tanar": "20",
                                    "Sav": "4",
                                    "targy": "1",
                                    "terem": "2"
                                },
                                {
                                    "nap_id": "4",
                                    "nap": "4",
                                    "ora_id": "177",
                                    "tanar": "2",
                                    "Sav": "5",
                                    "targy": "1",
                                    "terem": "3"
                                },
                                {
                                    "nap_id": "4",
                                    "nap": "4",
                                    "ora_id": "178",
                                    "tanar": "111",
                                    "Sav": "5",
                                    "targy": "1",
                                    "terem": "8"
                                },
                                {
                                    "nap_id": "4",
                                    "nap": "4",
                                    "ora_id": "179",
                                    "tanar": "2",
                                    "Sav": "7",
                                    "targy": "1",
                                    "terem": "4"
                                },
                                {
                                    "nap_id": "4",
                                    "nap": "4",
                                    "ora_id": "180",
                                    "tanar": "111",
                                    "Sav": "7",
                                    "targy": "1",
                                    "terem": "3"
                                },
                                {
                                    "nap_id": "4",
                                    "nap": "5",
                                    "ora_id": "181",
                                    "tanar": "2",
                                    "Sav": "1",
                                    "targy": "1",
                                    "terem": "2"
                                },
                                {
                                    "nap_id": "4",
                                    "nap": "5",
                                    "ora_id": "182",
                                    "tanar": "111",
                                    "Sav": "1",
                                    "targy": "1",
                                    "terem": "7"
                                },
                                {
                                    "nap_id": "4",
                                    "nap": "5",
                                    "ora_id": "183",
                                    "tanar": "2",
                                    "Sav": "2",
                                    "targy": "1",
                                    "terem": "8"
                                },
                                {
                                    "nap_id": "4",
                                    "nap": "5",
                                    "ora_id": "184",
                                    "tanar": "111",
                                    "Sav": "2",
                                    "targy": "1",
                                    "terem": "6"
                                },
                                {
                                    "nap_id": "4",
                                    "nap": "4",
                                    "ora_id": "185",
                                    "tanar": "2",
                                    "Sav": "3",
                                    "targy": "1",
                                    "terem": "4"
                                },
                                {
                                    "nap_id": "4",
                                    "nap": "2",
                                    "ora_id": "186",
                                    "tanar": "18",
                                    "Sav": "4",
                                    "targy": "16",
                                    "terem": "7"
                                },
                                {
                                    "nap_id": "4",
                                    "nap": "3",
                                    "ora_id": "187",
                                    "tanar": "5",
                                    "Sav": "2",
                                    "targy": "2",
                                    "terem": "5"
                                },
                                {
                                    "nap_id": "4",
                                    "nap": "4",
                                    "ora_id": "188",
                                    "tanar": "9",
                                    "Sav": "7",
                                    "targy": "2",
                                    "terem": "13"
                                },
                                {
                                    "nap_id": "4",
                                    "nap": "4",
                                    "ora_id": "189",
                                    "tanar": "9",
                                    "Sav": "2",
                                    "targy": "2",
                                    "terem": "13"
                                },
                                {
                                    "nap_id": "4",
                                    "nap": "5",
                                    "ora_id": "190",
                                    "tanar": "9",
                                    "Sav": "3",
                                    "targy": "2",
                                    "terem": "14"
                                },
                                {
                                    "nap_id": "4",
                                    "nap": "1",
                                    "ora_id": "191",
                                    "tanar": "12",
                                    "Sav": "5",
                                    "targy": "5",
                                    "terem": "8"
                                },
                                {
                                    "nap_id": "4",
                                    "nap": "1",
                                    "ora_id": "192",
                                    "tanar": "12",
                                    "Sav": "7",
                                    "targy": "5",
                                    "terem": "3"
                                },
                                {
                                    "nap_id": "4",
                                    "nap": "1",
                                    "ora_id": "193",
                                    "tanar": "9",
                                    "Sav": "5",
                                    "targy": "5",
                                    "terem": "5"
                                },
                                {
                                    "nap_id": "4",
                                    "nap": "1",
                                    "ora_id": "194",
                                    "tanar": "9",
                                    "Sav": "7",
                                    "targy": "5",
                                    "terem": "11"
                                },
                                {
                                    "nap_id": "4",
                                    "nap": "1",
                                    "ora_id": "195",
                                    "tanar": "5",
                                    "Sav": "5",
                                    "targy": "5",
                                    "terem": "12"
                                },
                                {
                                    "nap_id": "4",
                                    "nap": "1",
                                    "ora_id": "196",
                                    "tanar": "5",
                                    "Sav": "7",
                                    "targy": "5",
                                    "terem": "6"
                                },
                                {
                                    "nap_id": "4",
                                    "nap": "4",
                                    "ora_id": "197",
                                    "tanar": "9",
                                    "Sav": "1",
                                    "targy": "5",
                                    "terem": "16"
                                },
                                {
                                    "nap_id": "4",
                                    "nap": "3",
                                    "ora_id": "198",
                                    "tanar": "9",
                                    "Sav": "2",
                                    "targy": "5",
                                    "terem": "3"
                                },
                                {
                                    "nap_id": "4",
                                    "nap": "4",
                                    "ora_id": "199",
                                    "tanar": "300",
                                    "Sav": "1",
                                    "targy": "5",
                                    "terem": "6"
                                },
                                {
                                    "nap_id": "4",
                                    "nap": "4",
                                    "ora_id": "200",
                                    "tanar": "300",
                                    "Sav": "2",
                                    "targy": "5",
                                    "terem": "8"
                                },
                                {
                                    "nap_id": "4",
                                    "nap": "4",
                                    "ora_id": "201",
                                    "tanar": "301",
                                    "Sav": "4",
                                    "targy": "17",
                                    "terem": "14"
                                },
                                {
                                    "nap_id": "4",
                                    "nap": "4",
                                    "ora_id": "202",
                                    "tanar": "301",
                                    "Sav": "5",
                                    "targy": "17",
                                    "terem": "15"
                                },
                                {
                                    "nap_id": "4",
                                    "nap": "1",
                                    "ora_id": "203",
                                    "tanar": "200",
                                    "Sav": "4",
                                    "targy": "4",
                                    "terem": "10"
                                },
                                {
                                    "nap_id": "4",
                                    "nap": "2",
                                    "ora_id": "204",
                                    "tanar": "108",
                                    "Sav": "5",
                                    "targy": "4",
                                    "terem": "4"
                                },
                                {
                                    "nap_id": "4",
                                    "nap": "1",
                                    "ora_id": "205",
                                    "tanar": "4",
                                    "Sav": "4",
                                    "targy": "18",
                                    "terem": "8"
                                },
                                {
                                    "nap_id": "4",
                                    "nap": "2",
                                    "ora_id": "206",
                                    "tanar": "12",
                                    "Sav": "1",
                                    "targy": "18",
                                    "terem": "10"
                                },
                                {
                                    "nap_id": "4",
                                    "nap": "4",
                                    "ora_id": "207",
                                    "tanar": "12",
                                    "Sav": "4",
                                    "targy": "18",
                                    "terem": "7"
                                },
                                {
                                    "nap_id": "4",
                                    "nap": "1",
                                    "ora_id": "208",
                                    "tanar": "10",
                                    "Sav": "1",
                                    "targy": "13",
                                    "terem": "13"
                                },
                                {
                                    "nap_id": "4",
                                    "nap": "1",
                                    "ora_id": "209",
                                    "tanar": "10",
                                    "Sav": "2",
                                    "targy": "13",
                                    "terem": "13"
                                },
                                {
                                    "nap_id": "4",
                                    "nap": "1",
                                    "ora_id": "210",
                                    "tanar": "6",
                                    "Sav": "7",
                                    "targy": "8",
                                    "terem": "14"
                                },
                                {
                                    "nap_id": "4",
                                    "nap": "1",
                                    "ora_id": "211",
                                    "tanar": "6",
                                    "Sav": "8",
                                    "targy": "8",
                                    "terem": "5"
                                },
                                {
                                    "nap_id": "4",
                                    "nap": "1",
                                    "ora_id": "212",
                                    "tanar": "7",
                                    "Sav": "9",
                                    "targy": "8",
                                    "terem": "4"
                                },
                                {
                                    "nap_id": "4",
                                    "nap": "1",
                                    "ora_id": "213",
                                    "tanar": "7",
                                    "Sav": "10",
                                    "targy": "8",
                                    "terem": "6"
                                },
                                {
                                    "nap_id": "4",
                                    "nap": "1",
                                    "ora_id": "214",
                                    "tanar": "8",
                                    "Sav": "3",
                                    "targy": "3",
                                    "terem": "7"
                                },
                                {
                                    "nap_id": "4",
                                    "nap": "1",
                                    "ora_id": "215",
                                    "tanar": "8",
                                    "Sav": "4",
                                    "targy": "3",
                                    "terem": "9"
                                },
                                {
                                    "nap_id": "4",
                                    "nap": "1",
                                    "ora_id": "216",
                                    "tanar": "6",
                                    "Sav": "3",
                                    "targy": "3",
                                    "terem": "6"
                                },
                                {
                                    "nap_id": "4",
                                    "nap": "1",
                                    "ora_id": "217",
                                    "tanar": "6",
                                    "Sav": "4",
                                    "targy": "3",
                                    "terem": "5"
                                },
                                {
                                    "nap_id": "4",
                                    "nap": "2",
                                    "ora_id": "218",
                                    "tanar": "8",
                                    "Sav": "7",
                                    "targy": "3",
                                    "terem": "2"
                                },
                                {
                                    "nap_id": "4",
                                    "nap": "2",
                                    "ora_id": "219",
                                    "tanar": "8",
                                    "Sav": "8",
                                    "targy": "3",
                                    "terem": "7"
                                },
                                {
                                    "nap_id": "4",
                                    "nap": "2",
                                    "ora_id": "220",
                                    "tanar": "1",
                                    "Sav": "3",
                                    "targy": "10",
                                    "terem": "3"
                                },
                                {
                                    "nap_id": "4",
                                    "nap": "3",
                                    "ora_id": "221",
                                    "tanar": "1",
                                    "Sav": "3",
                                    "targy": "10",
                                    "terem": "13"
                                },
                                {
                                    "nap_id": "4",
                                    "nap": "4",
                                    "ora_id": "222",
                                    "tanar": "1",
                                    "Sav": "5",
                                    "targy": "10",
                                    "terem": "12"
                                },
                                {
                                    "nap_id": "4",
                                    "nap": "5",
                                    "ora_id": "223",
                                    "tanar": "1",
                                    "Sav": "1",
                                    "targy": "10",
                                    "terem": "10"
                                },
                                {
                                    "nap_id": "4",
                                    "nap": "3",
                                    "ora_id": "226",
                                    "tanar": "2",
                                    "Sav": "3",
                                    "targy": "19",
                                    "terem": "1"
                                },
                                {
                                    "nap_id": "4",
                                    "nap": "2",
                                    "ora_id": "227",
                                    "tanar": "2",
                                    "Sav": "5",
                                    "targy": "4",
                                    "terem": "12"
                                },
                                {
                                    "nap_id": "5",
                                    "nap": "3",
                                    "ora_id": "159",
                                    "tanar": "4",
                                    "Sav": "1",
                                    "targy": "1",
                                    "terem": "1"
                                },
                                {
                                    "nap_id": "5",
                                    "nap": "2",
                                    "ora_id": "160",
                                    "tanar": "8",
                                    "Sav": "5",
                                    "targy": "1",
                                    "terem": "2"
                                },
                                {
                                    "nap_id": "5",
                                    "nap": "1",
                                    "ora_id": "161",
                                    "tanar": "8",
                                    "Sav": "2",
                                    "targy": "1",
                                    "terem": "2"
                                },
                                {
                                    "nap_id": "5",
                                    "nap": "1",
                                    "ora_id": "162",
                                    "tanar": "20",
                                    "Sav": "4",
                                    "targy": "1",
                                    "terem": "3"
                                },
                                {
                                    "nap_id": "5",
                                    "nap": "3",
                                    "ora_id": "163",
                                    "tanar": "3",
                                    "Sav": "2",
                                    "targy": "1",
                                    "terem": "4"
                                },
                                {
                                    "nap_id": "5",
                                    "nap": "2",
                                    "ora_id": "164",
                                    "tanar": "7",
                                    "Sav": "3",
                                    "targy": "1",
                                    "terem": "3"
                                },
                                {
                                    "nap_id": "5",
                                    "nap": "2",
                                    "ora_id": "165",
                                    "tanar": "3",
                                    "Sav": "3",
                                    "targy": "1",
                                    "terem": "3"
                                },
                                {
                                    "nap_id": "5",
                                    "nap": "2",
                                    "ora_id": "166",
                                    "tanar": "3",
                                    "Sav": "4",
                                    "targy": "1",
                                    "terem": "3"
                                },
                                {
                                    "nap_id": "5",
                                    "nap": "1",
                                    "ora_id": "167",
                                    "tanar": "2",
                                    "Sav": "4",
                                    "targy": "1",
                                    "terem": "4"
                                },
                                {
                                    "nap_id": "5",
                                    "nap": "4",
                                    "ora_id": "168",
                                    "tanar": "4",
                                    "Sav": "3",
                                    "targy": "1",
                                    "terem": "5"
                                },
                                {
                                    "nap_id": "5",
                                    "nap": "1",
                                    "ora_id": "169",
                                    "tanar": "20",
                                    "Sav": "2",
                                    "targy": "1",
                                    "terem": "6"
                                },
                                {
                                    "nap_id": "5",
                                    "nap": "1",
                                    "ora_id": "170",
                                    "tanar": "104",
                                    "Sav": "2",
                                    "targy": "1",
                                    "terem": "4"
                                },
                                {
                                    "nap_id": "5",
                                    "nap": "2",
                                    "ora_id": "171",
                                    "tanar": "14",
                                    "Sav": "2",
                                    "targy": "1",
                                    "terem": "8"
                                },
                                {
                                    "nap_id": "5",
                                    "nap": "2",
                                    "ora_id": "172",
                                    "tanar": "7",
                                    "Sav": "2",
                                    "targy": "1",
                                    "terem": "3"
                                },
                                {
                                    "nap_id": "5",
                                    "nap": "4",
                                    "ora_id": "173",
                                    "tanar": "20",
                                    "Sav": "3",
                                    "targy": "1",
                                    "terem": "3"
                                },
                                {
                                    "nap_id": "5",
                                    "nap": "4",
                                    "ora_id": "174",
                                    "tanar": "104",
                                    "Sav": "3",
                                    "targy": "1",
                                    "terem": "7"
                                },
                                {
                                    "nap_id": "5",
                                    "nap": "4",
                                    "ora_id": "175",
                                    "tanar": "14",
                                    "Sav": "4",
                                    "targy": "1",
                                    "terem": "4"
                                },
                                {
                                    "nap_id": "5",
                                    "nap": "4",
                                    "ora_id": "176",
                                    "tanar": "20",
                                    "Sav": "4",
                                    "targy": "1",
                                    "terem": "2"
                                },
                                {
                                    "nap_id": "5",
                                    "nap": "4",
                                    "ora_id": "177",
                                    "tanar": "2",
                                    "Sav": "5",
                                    "targy": "1",
                                    "terem": "3"
                                },
                                {
                                    "nap_id": "5",
                                    "nap": "4",
                                    "ora_id": "178",
                                    "tanar": "111",
                                    "Sav": "5",
                                    "targy": "1",
                                    "terem": "8"
                                },
                                {
                                    "nap_id": "5",
                                    "nap": "4",
                                    "ora_id": "179",
                                    "tanar": "2",
                                    "Sav": "7",
                                    "targy": "1",
                                    "terem": "4"
                                },
                                {
                                    "nap_id": "5",
                                    "nap": "4",
                                    "ora_id": "180",
                                    "tanar": "111",
                                    "Sav": "7",
                                    "targy": "1",
                                    "terem": "3"
                                },
                                {
                                    "nap_id": "5",
                                    "nap": "5",
                                    "ora_id": "181",
                                    "tanar": "2",
                                    "Sav": "1",
                                    "targy": "1",
                                    "terem": "2"
                                },
                                {
                                    "nap_id": "5",
                                    "nap": "5",
                                    "ora_id": "182",
                                    "tanar": "111",
                                    "Sav": "1",
                                    "targy": "1",
                                    "terem": "7"
                                },
                                {
                                    "nap_id": "5",
                                    "nap": "5",
                                    "ora_id": "183",
                                    "tanar": "2",
                                    "Sav": "2",
                                    "targy": "1",
                                    "terem": "8"
                                },
                                {
                                    "nap_id": "5",
                                    "nap": "5",
                                    "ora_id": "184",
                                    "tanar": "111",
                                    "Sav": "2",
                                    "targy": "1",
                                    "terem": "6"
                                },
                                {
                                    "nap_id": "5",
                                    "nap": "4",
                                    "ora_id": "185",
                                    "tanar": "2",
                                    "Sav": "3",
                                    "targy": "1",
                                    "terem": "4"
                                },
                                {
                                    "nap_id": "5",
                                    "nap": "2",
                                    "ora_id": "186",
                                    "tanar": "18",
                                    "Sav": "4",
                                    "targy": "16",
                                    "terem": "7"
                                },
                                {
                                    "nap_id": "5",
                                    "nap": "3",
                                    "ora_id": "187",
                                    "tanar": "5",
                                    "Sav": "2",
                                    "targy": "2",
                                    "terem": "5"
                                },
                                {
                                    "nap_id": "5",
                                    "nap": "4",
                                    "ora_id": "188",
                                    "tanar": "9",
                                    "Sav": "7",
                                    "targy": "2",
                                    "terem": "13"
                                },
                                {
                                    "nap_id": "5",
                                    "nap": "4",
                                    "ora_id": "189",
                                    "tanar": "9",
                                    "Sav": "2",
                                    "targy": "2",
                                    "terem": "13"
                                },
                                {
                                    "nap_id": "5",
                                    "nap": "5",
                                    "ora_id": "190",
                                    "tanar": "9",
                                    "Sav": "3",
                                    "targy": "2",
                                    "terem": "14"
                                },
                                {
                                    "nap_id": "5",
                                    "nap": "1",
                                    "ora_id": "191",
                                    "tanar": "12",
                                    "Sav": "5",
                                    "targy": "5",
                                    "terem": "8"
                                },
                                {
                                    "nap_id": "5",
                                    "nap": "1",
                                    "ora_id": "192",
                                    "tanar": "12",
                                    "Sav": "7",
                                    "targy": "5",
                                    "terem": "3"
                                },
                                {
                                    "nap_id": "5",
                                    "nap": "1",
                                    "ora_id": "193",
                                    "tanar": "9",
                                    "Sav": "5",
                                    "targy": "5",
                                    "terem": "5"
                                },
                                {
                                    "nap_id": "5",
                                    "nap": "1",
                                    "ora_id": "194",
                                    "tanar": "9",
                                    "Sav": "7",
                                    "targy": "5",
                                    "terem": "11"
                                },
                                {
                                    "nap_id": "5",
                                    "nap": "1",
                                    "ora_id": "195",
                                    "tanar": "5",
                                    "Sav": "5",
                                    "targy": "5",
                                    "terem": "12"
                                },
                                {
                                    "nap_id": "5",
                                    "nap": "1",
                                    "ora_id": "196",
                                    "tanar": "5",
                                    "Sav": "7",
                                    "targy": "5",
                                    "terem": "6"
                                },
                                {
                                    "nap_id": "5",
                                    "nap": "4",
                                    "ora_id": "197",
                                    "tanar": "9",
                                    "Sav": "1",
                                    "targy": "5",
                                    "terem": "16"
                                },
                                {
                                    "nap_id": "5",
                                    "nap": "3",
                                    "ora_id": "198",
                                    "tanar": "9",
                                    "Sav": "2",
                                    "targy": "5",
                                    "terem": "3"
                                },
                                {
                                    "nap_id": "5",
                                    "nap": "4",
                                    "ora_id": "199",
                                    "tanar": "300",
                                    "Sav": "1",
                                    "targy": "5",
                                    "terem": "6"
                                },
                                {
                                    "nap_id": "5",
                                    "nap": "4",
                                    "ora_id": "200",
                                    "tanar": "300",
                                    "Sav": "2",
                                    "targy": "5",
                                    "terem": "8"
                                },
                                {
                                    "nap_id": "5",
                                    "nap": "4",
                                    "ora_id": "201",
                                    "tanar": "301",
                                    "Sav": "4",
                                    "targy": "17",
                                    "terem": "14"
                                },
                                {
                                    "nap_id": "5",
                                    "nap": "4",
                                    "ora_id": "202",
                                    "tanar": "301",
                                    "Sav": "5",
                                    "targy": "17",
                                    "terem": "15"
                                },
                                {
                                    "nap_id": "5",
                                    "nap": "1",
                                    "ora_id": "203",
                                    "tanar": "200",
                                    "Sav": "4",
                                    "targy": "4",
                                    "terem": "10"
                                },
                                {
                                    "nap_id": "5",
                                    "nap": "2",
                                    "ora_id": "204",
                                    "tanar": "108",
                                    "Sav": "5",
                                    "targy": "4",
                                    "terem": "4"
                                },
                                {
                                    "nap_id": "5",
                                    "nap": "1",
                                    "ora_id": "205",
                                    "tanar": "4",
                                    "Sav": "4",
                                    "targy": "18",
                                    "terem": "8"
                                },
                                {
                                    "nap_id": "5",
                                    "nap": "2",
                                    "ora_id": "206",
                                    "tanar": "12",
                                    "Sav": "1",
                                    "targy": "18",
                                    "terem": "10"
                                },
                                {
                                    "nap_id": "5",
                                    "nap": "4",
                                    "ora_id": "207",
                                    "tanar": "12",
                                    "Sav": "4",
                                    "targy": "18",
                                    "terem": "7"
                                },
                                {
                                    "nap_id": "5",
                                    "nap": "1",
                                    "ora_id": "208",
                                    "tanar": "10",
                                    "Sav": "1",
                                    "targy": "13",
                                    "terem": "13"
                                },
                                {
                                    "nap_id": "5",
                                    "nap": "1",
                                    "ora_id": "209",
                                    "tanar": "10",
                                    "Sav": "2",
                                    "targy": "13",
                                    "terem": "13"
                                },
                                {
                                    "nap_id": "5",
                                    "nap": "1",
                                    "ora_id": "210",
                                    "tanar": "6",
                                    "Sav": "7",
                                    "targy": "8",
                                    "terem": "14"
                                },
                                {
                                    "nap_id": "5",
                                    "nap": "1",
                                    "ora_id": "211",
                                    "tanar": "6",
                                    "Sav": "8",
                                    "targy": "8",
                                    "terem": "5"
                                },
                                {
                                    "nap_id": "5",
                                    "nap": "1",
                                    "ora_id": "212",
                                    "tanar": "7",
                                    "Sav": "9",
                                    "targy": "8",
                                    "terem": "4"
                                },
                                {
                                    "nap_id": "5",
                                    "nap": "1",
                                    "ora_id": "213",
                                    "tanar": "7",
                                    "Sav": "10",
                                    "targy": "8",
                                    "terem": "6"
                                },
                                {
                                    "nap_id": "5",
                                    "nap": "1",
                                    "ora_id": "214",
                                    "tanar": "8",
                                    "Sav": "3",
                                    "targy": "3",
                                    "terem": "7"
                                },
                                {
                                    "nap_id": "5",
                                    "nap": "1",
                                    "ora_id": "215",
                                    "tanar": "8",
                                    "Sav": "4",
                                    "targy": "3",
                                    "terem": "9"
                                },
                                {
                                    "nap_id": "5",
                                    "nap": "1",
                                    "ora_id": "216",
                                    "tanar": "6",
                                    "Sav": "3",
                                    "targy": "3",
                                    "terem": "6"
                                },
                                {
                                    "nap_id": "5",
                                    "nap": "1",
                                    "ora_id": "217",
                                    "tanar": "6",
                                    "Sav": "4",
                                    "targy": "3",
                                    "terem": "5"
                                },
                                {
                                    "nap_id": "5",
                                    "nap": "2",
                                    "ora_id": "218",
                                    "tanar": "8",
                                    "Sav": "7",
                                    "targy": "3",
                                    "terem": "2"
                                },
                                {
                                    "nap_id": "5",
                                    "nap": "2",
                                    "ora_id": "219",
                                    "tanar": "8",
                                    "Sav": "8",
                                    "targy": "3",
                                    "terem": "7"
                                },
                                {
                                    "nap_id": "5",
                                    "nap": "2",
                                    "ora_id": "220",
                                    "tanar": "1",
                                    "Sav": "3",
                                    "targy": "10",
                                    "terem": "3"
                                },
                                {
                                    "nap_id": "5",
                                    "nap": "3",
                                    "ora_id": "221",
                                    "tanar": "1",
                                    "Sav": "3",
                                    "targy": "10",
                                    "terem": "13"
                                },
                                {
                                    "nap_id": "5",
                                    "nap": "4",
                                    "ora_id": "222",
                                    "tanar": "1",
                                    "Sav": "5",
                                    "targy": "10",
                                    "terem": "12"
                                },
                                {
                                    "nap_id": "5",
                                    "nap": "5",
                                    "ora_id": "223",
                                    "tanar": "1",
                                    "Sav": "1",
                                    "targy": "10",
                                    "terem": "10"
                                },
                                {
                                    "nap_id": "5",
                                    "nap": "3",
                                    "ora_id": "226",
                                    "tanar": "2",
                                    "Sav": "3",
                                    "targy": "19",
                                    "terem": "1"
                                },
                                {
                                    "nap_id": "5",
                                    "nap": "2",
                                    "ora_id": "227",
                                    "tanar": "2",
                                    "Sav": "5",
                                    "targy": "4",
                                    "terem": "12"
                                }
                            ]
                        },
                        "text/html": [
                            "<table>",
                            "<tr><th>nap_id</th><th>nap</th><th>ora_id</th><th>tanar</th><th>nap</th><th>Sav</th><th>targy</th><th>terem</th></tr>",
                            "<tr><td>1</td><td>Hétfő</td><td>159</td><td>4</td><td>3</td><td>1</td><td>1</td><td>1</td></tr>",
                            "<tr><td>1</td><td>Hétfő</td><td>160</td><td>8</td><td>2</td><td>5</td><td>1</td><td>2</td></tr>",
                            "<tr><td>1</td><td>Hétfő</td><td>161</td><td>8</td><td>1</td><td>2</td><td>1</td><td>2</td></tr>",
                            "<tr><td>1</td><td>Hétfő</td><td>162</td><td>20</td><td>1</td><td>4</td><td>1</td><td>3</td></tr>",
                            "<tr><td>1</td><td>Hétfő</td><td>163</td><td>3</td><td>3</td><td>2</td><td>1</td><td>4</td></tr>",
                            "<tr><td>1</td><td>Hétfő</td><td>164</td><td>7</td><td>2</td><td>3</td><td>1</td><td>3</td></tr>",
                            "<tr><td>1</td><td>Hétfő</td><td>165</td><td>3</td><td>2</td><td>3</td><td>1</td><td>3</td></tr>",
                            "<tr><td>1</td><td>Hétfő</td><td>166</td><td>3</td><td>2</td><td>4</td><td>1</td><td>3</td></tr>",
                            "<tr><td>1</td><td>Hétfő</td><td>167</td><td>2</td><td>1</td><td>4</td><td>1</td><td>4</td></tr>",
                            "<tr><td>1</td><td>Hétfő</td><td>168</td><td>4</td><td>4</td><td>3</td><td>1</td><td>5</td></tr>",
                            "<tr><td>1</td><td>Hétfő</td><td>169</td><td>20</td><td>1</td><td>2</td><td>1</td><td>6</td></tr>",
                            "<tr><td>1</td><td>Hétfő</td><td>170</td><td>104</td><td>1</td><td>2</td><td>1</td><td>4</td></tr>",
                            "<tr><td>1</td><td>Hétfő</td><td>171</td><td>14</td><td>2</td><td>2</td><td>1</td><td>8</td></tr>",
                            "<tr><td>1</td><td>Hétfő</td><td>172</td><td>7</td><td>2</td><td>2</td><td>1</td><td>3</td></tr>",
                            "<tr><td>1</td><td>Hétfő</td><td>173</td><td>20</td><td>4</td><td>3</td><td>1</td><td>3</td></tr>",
                            "<tr><td>1</td><td>Hétfő</td><td>174</td><td>104</td><td>4</td><td>3</td><td>1</td><td>7</td></tr>",
                            "<tr><td>1</td><td>Hétfő</td><td>175</td><td>14</td><td>4</td><td>4</td><td>1</td><td>4</td></tr>",
                            "<tr><td>1</td><td>Hétfő</td><td>176</td><td>20</td><td>4</td><td>4</td><td>1</td><td>2</td></tr>",
                            "<tr><td>1</td><td>Hétfő</td><td>177</td><td>2</td><td>4</td><td>5</td><td>1</td><td>3</td></tr>",
                            "<tr><td>1</td><td>Hétfő</td><td>178</td><td>111</td><td>4</td><td>5</td><td>1</td><td>8</td></tr>",
                            "<tr><td>1</td><td>Hétfő</td><td>179</td><td>2</td><td>4</td><td>7</td><td>1</td><td>4</td></tr>",
                            "<tr><td>1</td><td>Hétfő</td><td>180</td><td>111</td><td>4</td><td>7</td><td>1</td><td>3</td></tr>",
                            "<tr><td>1</td><td>Hétfő</td><td>181</td><td>2</td><td>5</td><td>1</td><td>1</td><td>2</td></tr>",
                            "<tr><td>1</td><td>Hétfő</td><td>182</td><td>111</td><td>5</td><td>1</td><td>1</td><td>7</td></tr>",
                            "<tr><td>1</td><td>Hétfő</td><td>183</td><td>2</td><td>5</td><td>2</td><td>1</td><td>8</td></tr>",
                            "<tr><td>1</td><td>Hétfő</td><td>184</td><td>111</td><td>5</td><td>2</td><td>1</td><td>6</td></tr>",
                            "<tr><td>1</td><td>Hétfő</td><td>185</td><td>2</td><td>4</td><td>3</td><td>1</td><td>4</td></tr>",
                            "<tr><td>1</td><td>Hétfő</td><td>186</td><td>18</td><td>2</td><td>4</td><td>16</td><td>7</td></tr>",
                            "<tr><td>1</td><td>Hétfő</td><td>187</td><td>5</td><td>3</td><td>2</td><td>2</td><td>5</td></tr>",
                            "<tr><td>1</td><td>Hétfő</td><td>188</td><td>9</td><td>4</td><td>7</td><td>2</td><td>13</td></tr>",
                            "<tr><td>1</td><td>Hétfő</td><td>189</td><td>9</td><td>4</td><td>2</td><td>2</td><td>13</td></tr>",
                            "<tr><td>1</td><td>Hétfő</td><td>190</td><td>9</td><td>5</td><td>3</td><td>2</td><td>14</td></tr>",
                            "<tr><td>1</td><td>Hétfő</td><td>191</td><td>12</td><td>1</td><td>5</td><td>5</td><td>8</td></tr>",
                            "<tr><td>1</td><td>Hétfő</td><td>192</td><td>12</td><td>1</td><td>7</td><td>5</td><td>3</td></tr>",
                            "<tr><td>1</td><td>Hétfő</td><td>193</td><td>9</td><td>1</td><td>5</td><td>5</td><td>5</td></tr>",
                            "<tr><td>1</td><td>Hétfő</td><td>194</td><td>9</td><td>1</td><td>7</td><td>5</td><td>11</td></tr>",
                            "<tr><td>1</td><td>Hétfő</td><td>195</td><td>5</td><td>1</td><td>5</td><td>5</td><td>12</td></tr>",
                            "<tr><td>1</td><td>Hétfő</td><td>196</td><td>5</td><td>1</td><td>7</td><td>5</td><td>6</td></tr>",
                            "<tr><td>1</td><td>Hétfő</td><td>197</td><td>9</td><td>4</td><td>1</td><td>5</td><td>16</td></tr>",
                            "<tr><td>1</td><td>Hétfő</td><td>198</td><td>9</td><td>3</td><td>2</td><td>5</td><td>3</td></tr>",
                            "<tr><td>1</td><td>Hétfő</td><td>199</td><td>300</td><td>4</td><td>1</td><td>5</td><td>6</td></tr>",
                            "<tr><td>1</td><td>Hétfő</td><td>200</td><td>300</td><td>4</td><td>2</td><td>5</td><td>8</td></tr>",
                            "<tr><td>1</td><td>Hétfő</td><td>201</td><td>301</td><td>4</td><td>4</td><td>17</td><td>14</td></tr>",
                            "<tr><td>1</td><td>Hétfő</td><td>202</td><td>301</td><td>4</td><td>5</td><td>17</td><td>15</td></tr>",
                            "<tr><td>1</td><td>Hétfő</td><td>203</td><td>200</td><td>1</td><td>4</td><td>4</td><td>10</td></tr>",
                            "<tr><td>1</td><td>Hétfő</td><td>204</td><td>108</td><td>2</td><td>5</td><td>4</td><td>4</td></tr>",
                            "<tr><td>1</td><td>Hétfő</td><td>205</td><td>4</td><td>1</td><td>4</td><td>18</td><td>8</td></tr>",
                            "<tr><td>1</td><td>Hétfő</td><td>206</td><td>12</td><td>2</td><td>1</td><td>18</td><td>10</td></tr>",
                            "<tr><td>1</td><td>Hétfő</td><td>207</td><td>12</td><td>4</td><td>4</td><td>18</td><td>7</td></tr>",
                            "<tr><td>1</td><td>Hétfő</td><td>208</td><td>10</td><td>1</td><td>1</td><td>13</td><td>13</td></tr>",
                            "<tr><td>1</td><td>Hétfő</td><td>209</td><td>10</td><td>1</td><td>2</td><td>13</td><td>13</td></tr>",
                            "<tr><td>1</td><td>Hétfő</td><td>210</td><td>6</td><td>1</td><td>7</td><td>8</td><td>14</td></tr>",
                            "<tr><td>1</td><td>Hétfő</td><td>211</td><td>6</td><td>1</td><td>8</td><td>8</td><td>5</td></tr>",
                            "<tr><td>1</td><td>Hétfő</td><td>212</td><td>7</td><td>1</td><td>9</td><td>8</td><td>4</td></tr>",
                            "<tr><td>1</td><td>Hétfő</td><td>213</td><td>7</td><td>1</td><td>10</td><td>8</td><td>6</td></tr>",
                            "<tr><td>1</td><td>Hétfő</td><td>214</td><td>8</td><td>1</td><td>3</td><td>3</td><td>7</td></tr>",
                            "<tr><td>1</td><td>Hétfő</td><td>215</td><td>8</td><td>1</td><td>4</td><td>3</td><td>9</td></tr>",
                            "<tr><td>1</td><td>Hétfő</td><td>216</td><td>6</td><td>1</td><td>3</td><td>3</td><td>6</td></tr>",
                            "<tr><td>1</td><td>Hétfő</td><td>217</td><td>6</td><td>1</td><td>4</td><td>3</td><td>5</td></tr>",
                            "<tr><td>1</td><td>Hétfő</td><td>218</td><td>8</td><td>2</td><td>7</td><td>3</td><td>2</td></tr>",
                            "<tr><td>1</td><td>Hétfő</td><td>219</td><td>8</td><td>2</td><td>8</td><td>3</td><td>7</td></tr>",
                            "<tr><td>1</td><td>Hétfő</td><td>220</td><td>1</td><td>2</td><td>3</td><td>10</td><td>3</td></tr>",
                            "<tr><td>1</td><td>Hétfő</td><td>221</td><td>1</td><td>3</td><td>3</td><td>10</td><td>13</td></tr>",
                            "<tr><td>1</td><td>Hétfő</td><td>222</td><td>1</td><td>4</td><td>5</td><td>10</td><td>12</td></tr>",
                            "<tr><td>1</td><td>Hétfő</td><td>223</td><td>1</td><td>5</td><td>1</td><td>10</td><td>10</td></tr>",
                            "<tr><td>1</td><td>Hétfő</td><td>226</td><td>2</td><td>3</td><td>3</td><td>19</td><td>1</td></tr>",
                            "<tr><td>1</td><td>Hétfő</td><td>227</td><td>2</td><td>2</td><td>5</td><td>4</td><td>12</td></tr>",
                            "<tr><td>2</td><td>Kedd</td><td>159</td><td>4</td><td>3</td><td>1</td><td>1</td><td>1</td></tr>",
                            "<tr><td>2</td><td>Kedd</td><td>160</td><td>8</td><td>2</td><td>5</td><td>1</td><td>2</td></tr>",
                            "<tr><td>2</td><td>Kedd</td><td>161</td><td>8</td><td>1</td><td>2</td><td>1</td><td>2</td></tr>",
                            "<tr><td>2</td><td>Kedd</td><td>162</td><td>20</td><td>1</td><td>4</td><td>1</td><td>3</td></tr>",
                            "<tr><td>2</td><td>Kedd</td><td>163</td><td>3</td><td>3</td><td>2</td><td>1</td><td>4</td></tr>",
                            "<tr><td>2</td><td>Kedd</td><td>164</td><td>7</td><td>2</td><td>3</td><td>1</td><td>3</td></tr>",
                            "<tr><td>2</td><td>Kedd</td><td>165</td><td>3</td><td>2</td><td>3</td><td>1</td><td>3</td></tr>",
                            "<tr><td>2</td><td>Kedd</td><td>166</td><td>3</td><td>2</td><td>4</td><td>1</td><td>3</td></tr>",
                            "<tr><td>2</td><td>Kedd</td><td>167</td><td>2</td><td>1</td><td>4</td><td>1</td><td>4</td></tr>",
                            "<tr><td>2</td><td>Kedd</td><td>168</td><td>4</td><td>4</td><td>3</td><td>1</td><td>5</td></tr>",
                            "<tr><td>2</td><td>Kedd</td><td>169</td><td>20</td><td>1</td><td>2</td><td>1</td><td>6</td></tr>",
                            "<tr><td>2</td><td>Kedd</td><td>170</td><td>104</td><td>1</td><td>2</td><td>1</td><td>4</td></tr>",
                            "<tr><td>2</td><td>Kedd</td><td>171</td><td>14</td><td>2</td><td>2</td><td>1</td><td>8</td></tr>",
                            "<tr><td>2</td><td>Kedd</td><td>172</td><td>7</td><td>2</td><td>2</td><td>1</td><td>3</td></tr>",
                            "<tr><td>2</td><td>Kedd</td><td>173</td><td>20</td><td>4</td><td>3</td><td>1</td><td>3</td></tr>",
                            "<tr><td>2</td><td>Kedd</td><td>174</td><td>104</td><td>4</td><td>3</td><td>1</td><td>7</td></tr>",
                            "<tr><td>2</td><td>Kedd</td><td>175</td><td>14</td><td>4</td><td>4</td><td>1</td><td>4</td></tr>",
                            "<tr><td>2</td><td>Kedd</td><td>176</td><td>20</td><td>4</td><td>4</td><td>1</td><td>2</td></tr>",
                            "<tr><td>2</td><td>Kedd</td><td>177</td><td>2</td><td>4</td><td>5</td><td>1</td><td>3</td></tr>",
                            "<tr><td>2</td><td>Kedd</td><td>178</td><td>111</td><td>4</td><td>5</td><td>1</td><td>8</td></tr>",
                            "<tr><td>2</td><td>Kedd</td><td>179</td><td>2</td><td>4</td><td>7</td><td>1</td><td>4</td></tr>",
                            "<tr><td>2</td><td>Kedd</td><td>180</td><td>111</td><td>4</td><td>7</td><td>1</td><td>3</td></tr>",
                            "<tr><td>2</td><td>Kedd</td><td>181</td><td>2</td><td>5</td><td>1</td><td>1</td><td>2</td></tr>",
                            "<tr><td>2</td><td>Kedd</td><td>182</td><td>111</td><td>5</td><td>1</td><td>1</td><td>7</td></tr>",
                            "<tr><td>2</td><td>Kedd</td><td>183</td><td>2</td><td>5</td><td>2</td><td>1</td><td>8</td></tr>",
                            "<tr><td>2</td><td>Kedd</td><td>184</td><td>111</td><td>5</td><td>2</td><td>1</td><td>6</td></tr>",
                            "<tr><td>2</td><td>Kedd</td><td>185</td><td>2</td><td>4</td><td>3</td><td>1</td><td>4</td></tr>",
                            "<tr><td>2</td><td>Kedd</td><td>186</td><td>18</td><td>2</td><td>4</td><td>16</td><td>7</td></tr>",
                            "<tr><td>2</td><td>Kedd</td><td>187</td><td>5</td><td>3</td><td>2</td><td>2</td><td>5</td></tr>",
                            "<tr><td>2</td><td>Kedd</td><td>188</td><td>9</td><td>4</td><td>7</td><td>2</td><td>13</td></tr>",
                            "<tr><td>2</td><td>Kedd</td><td>189</td><td>9</td><td>4</td><td>2</td><td>2</td><td>13</td></tr>",
                            "<tr><td>2</td><td>Kedd</td><td>190</td><td>9</td><td>5</td><td>3</td><td>2</td><td>14</td></tr>",
                            "<tr><td>2</td><td>Kedd</td><td>191</td><td>12</td><td>1</td><td>5</td><td>5</td><td>8</td></tr>",
                            "<tr><td>2</td><td>Kedd</td><td>192</td><td>12</td><td>1</td><td>7</td><td>5</td><td>3</td></tr>",
                            "<tr><td>2</td><td>Kedd</td><td>193</td><td>9</td><td>1</td><td>5</td><td>5</td><td>5</td></tr>",
                            "<tr><td>2</td><td>Kedd</td><td>194</td><td>9</td><td>1</td><td>7</td><td>5</td><td>11</td></tr>",
                            "<tr><td>2</td><td>Kedd</td><td>195</td><td>5</td><td>1</td><td>5</td><td>5</td><td>12</td></tr>",
                            "<tr><td>2</td><td>Kedd</td><td>196</td><td>5</td><td>1</td><td>7</td><td>5</td><td>6</td></tr>",
                            "<tr><td>2</td><td>Kedd</td><td>197</td><td>9</td><td>4</td><td>1</td><td>5</td><td>16</td></tr>",
                            "<tr><td>2</td><td>Kedd</td><td>198</td><td>9</td><td>3</td><td>2</td><td>5</td><td>3</td></tr>",
                            "<tr><td>2</td><td>Kedd</td><td>199</td><td>300</td><td>4</td><td>1</td><td>5</td><td>6</td></tr>",
                            "<tr><td>2</td><td>Kedd</td><td>200</td><td>300</td><td>4</td><td>2</td><td>5</td><td>8</td></tr>",
                            "<tr><td>2</td><td>Kedd</td><td>201</td><td>301</td><td>4</td><td>4</td><td>17</td><td>14</td></tr>",
                            "<tr><td>2</td><td>Kedd</td><td>202</td><td>301</td><td>4</td><td>5</td><td>17</td><td>15</td></tr>",
                            "<tr><td>2</td><td>Kedd</td><td>203</td><td>200</td><td>1</td><td>4</td><td>4</td><td>10</td></tr>",
                            "<tr><td>2</td><td>Kedd</td><td>204</td><td>108</td><td>2</td><td>5</td><td>4</td><td>4</td></tr>",
                            "<tr><td>2</td><td>Kedd</td><td>205</td><td>4</td><td>1</td><td>4</td><td>18</td><td>8</td></tr>",
                            "<tr><td>2</td><td>Kedd</td><td>206</td><td>12</td><td>2</td><td>1</td><td>18</td><td>10</td></tr>",
                            "<tr><td>2</td><td>Kedd</td><td>207</td><td>12</td><td>4</td><td>4</td><td>18</td><td>7</td></tr>",
                            "<tr><td>2</td><td>Kedd</td><td>208</td><td>10</td><td>1</td><td>1</td><td>13</td><td>13</td></tr>",
                            "<tr><td>2</td><td>Kedd</td><td>209</td><td>10</td><td>1</td><td>2</td><td>13</td><td>13</td></tr>",
                            "<tr><td>2</td><td>Kedd</td><td>210</td><td>6</td><td>1</td><td>7</td><td>8</td><td>14</td></tr>",
                            "<tr><td>2</td><td>Kedd</td><td>211</td><td>6</td><td>1</td><td>8</td><td>8</td><td>5</td></tr>",
                            "<tr><td>2</td><td>Kedd</td><td>212</td><td>7</td><td>1</td><td>9</td><td>8</td><td>4</td></tr>",
                            "<tr><td>2</td><td>Kedd</td><td>213</td><td>7</td><td>1</td><td>10</td><td>8</td><td>6</td></tr>",
                            "<tr><td>2</td><td>Kedd</td><td>214</td><td>8</td><td>1</td><td>3</td><td>3</td><td>7</td></tr>",
                            "<tr><td>2</td><td>Kedd</td><td>215</td><td>8</td><td>1</td><td>4</td><td>3</td><td>9</td></tr>",
                            "<tr><td>2</td><td>Kedd</td><td>216</td><td>6</td><td>1</td><td>3</td><td>3</td><td>6</td></tr>",
                            "<tr><td>2</td><td>Kedd</td><td>217</td><td>6</td><td>1</td><td>4</td><td>3</td><td>5</td></tr>",
                            "<tr><td>2</td><td>Kedd</td><td>218</td><td>8</td><td>2</td><td>7</td><td>3</td><td>2</td></tr>",
                            "<tr><td>2</td><td>Kedd</td><td>219</td><td>8</td><td>2</td><td>8</td><td>3</td><td>7</td></tr>",
                            "<tr><td>2</td><td>Kedd</td><td>220</td><td>1</td><td>2</td><td>3</td><td>10</td><td>3</td></tr>",
                            "<tr><td>2</td><td>Kedd</td><td>221</td><td>1</td><td>3</td><td>3</td><td>10</td><td>13</td></tr>",
                            "<tr><td>2</td><td>Kedd</td><td>222</td><td>1</td><td>4</td><td>5</td><td>10</td><td>12</td></tr>",
                            "<tr><td>2</td><td>Kedd</td><td>223</td><td>1</td><td>5</td><td>1</td><td>10</td><td>10</td></tr>",
                            "<tr><td>2</td><td>Kedd</td><td>226</td><td>2</td><td>3</td><td>3</td><td>19</td><td>1</td></tr>",
                            "<tr><td>2</td><td>Kedd</td><td>227</td><td>2</td><td>2</td><td>5</td><td>4</td><td>12</td></tr>",
                            "<tr><td>3</td><td>Szerda</td><td>159</td><td>4</td><td>3</td><td>1</td><td>1</td><td>1</td></tr>",
                            "<tr><td>3</td><td>Szerda</td><td>160</td><td>8</td><td>2</td><td>5</td><td>1</td><td>2</td></tr>",
                            "<tr><td>3</td><td>Szerda</td><td>161</td><td>8</td><td>1</td><td>2</td><td>1</td><td>2</td></tr>",
                            "<tr><td>3</td><td>Szerda</td><td>162</td><td>20</td><td>1</td><td>4</td><td>1</td><td>3</td></tr>",
                            "<tr><td>3</td><td>Szerda</td><td>163</td><td>3</td><td>3</td><td>2</td><td>1</td><td>4</td></tr>",
                            "<tr><td>3</td><td>Szerda</td><td>164</td><td>7</td><td>2</td><td>3</td><td>1</td><td>3</td></tr>",
                            "<tr><td>3</td><td>Szerda</td><td>165</td><td>3</td><td>2</td><td>3</td><td>1</td><td>3</td></tr>",
                            "<tr><td>3</td><td>Szerda</td><td>166</td><td>3</td><td>2</td><td>4</td><td>1</td><td>3</td></tr>",
                            "<tr><td>3</td><td>Szerda</td><td>167</td><td>2</td><td>1</td><td>4</td><td>1</td><td>4</td></tr>",
                            "<tr><td>3</td><td>Szerda</td><td>168</td><td>4</td><td>4</td><td>3</td><td>1</td><td>5</td></tr>",
                            "<tr><td>3</td><td>Szerda</td><td>169</td><td>20</td><td>1</td><td>2</td><td>1</td><td>6</td></tr>",
                            "<tr><td>3</td><td>Szerda</td><td>170</td><td>104</td><td>1</td><td>2</td><td>1</td><td>4</td></tr>",
                            "<tr><td>3</td><td>Szerda</td><td>171</td><td>14</td><td>2</td><td>2</td><td>1</td><td>8</td></tr>",
                            "<tr><td>3</td><td>Szerda</td><td>172</td><td>7</td><td>2</td><td>2</td><td>1</td><td>3</td></tr>",
                            "<tr><td>3</td><td>Szerda</td><td>173</td><td>20</td><td>4</td><td>3</td><td>1</td><td>3</td></tr>",
                            "<tr><td>3</td><td>Szerda</td><td>174</td><td>104</td><td>4</td><td>3</td><td>1</td><td>7</td></tr>",
                            "<tr><td>3</td><td>Szerda</td><td>175</td><td>14</td><td>4</td><td>4</td><td>1</td><td>4</td></tr>",
                            "<tr><td>3</td><td>Szerda</td><td>176</td><td>20</td><td>4</td><td>4</td><td>1</td><td>2</td></tr>",
                            "<tr><td>3</td><td>Szerda</td><td>177</td><td>2</td><td>4</td><td>5</td><td>1</td><td>3</td></tr>",
                            "<tr><td>3</td><td>Szerda</td><td>178</td><td>111</td><td>4</td><td>5</td><td>1</td><td>8</td></tr>",
                            "<tr><td>3</td><td>Szerda</td><td>179</td><td>2</td><td>4</td><td>7</td><td>1</td><td>4</td></tr>",
                            "<tr><td>3</td><td>Szerda</td><td>180</td><td>111</td><td>4</td><td>7</td><td>1</td><td>3</td></tr>",
                            "<tr><td>3</td><td>Szerda</td><td>181</td><td>2</td><td>5</td><td>1</td><td>1</td><td>2</td></tr>",
                            "<tr><td>3</td><td>Szerda</td><td>182</td><td>111</td><td>5</td><td>1</td><td>1</td><td>7</td></tr>",
                            "<tr><td>3</td><td>Szerda</td><td>183</td><td>2</td><td>5</td><td>2</td><td>1</td><td>8</td></tr>",
                            "<tr><td>3</td><td>Szerda</td><td>184</td><td>111</td><td>5</td><td>2</td><td>1</td><td>6</td></tr>",
                            "<tr><td>3</td><td>Szerda</td><td>185</td><td>2</td><td>4</td><td>3</td><td>1</td><td>4</td></tr>",
                            "<tr><td>3</td><td>Szerda</td><td>186</td><td>18</td><td>2</td><td>4</td><td>16</td><td>7</td></tr>",
                            "<tr><td>3</td><td>Szerda</td><td>187</td><td>5</td><td>3</td><td>2</td><td>2</td><td>5</td></tr>",
                            "<tr><td>3</td><td>Szerda</td><td>188</td><td>9</td><td>4</td><td>7</td><td>2</td><td>13</td></tr>",
                            "<tr><td>3</td><td>Szerda</td><td>189</td><td>9</td><td>4</td><td>2</td><td>2</td><td>13</td></tr>",
                            "<tr><td>3</td><td>Szerda</td><td>190</td><td>9</td><td>5</td><td>3</td><td>2</td><td>14</td></tr>",
                            "<tr><td>3</td><td>Szerda</td><td>191</td><td>12</td><td>1</td><td>5</td><td>5</td><td>8</td></tr>",
                            "<tr><td>3</td><td>Szerda</td><td>192</td><td>12</td><td>1</td><td>7</td><td>5</td><td>3</td></tr>",
                            "<tr><td>3</td><td>Szerda</td><td>193</td><td>9</td><td>1</td><td>5</td><td>5</td><td>5</td></tr>",
                            "<tr><td>3</td><td>Szerda</td><td>194</td><td>9</td><td>1</td><td>7</td><td>5</td><td>11</td></tr>",
                            "<tr><td>3</td><td>Szerda</td><td>195</td><td>5</td><td>1</td><td>5</td><td>5</td><td>12</td></tr>",
                            "<tr><td>3</td><td>Szerda</td><td>196</td><td>5</td><td>1</td><td>7</td><td>5</td><td>6</td></tr>",
                            "<tr><td>3</td><td>Szerda</td><td>197</td><td>9</td><td>4</td><td>1</td><td>5</td><td>16</td></tr>",
                            "<tr><td>3</td><td>Szerda</td><td>198</td><td>9</td><td>3</td><td>2</td><td>5</td><td>3</td></tr>",
                            "<tr><td>3</td><td>Szerda</td><td>199</td><td>300</td><td>4</td><td>1</td><td>5</td><td>6</td></tr>",
                            "<tr><td>3</td><td>Szerda</td><td>200</td><td>300</td><td>4</td><td>2</td><td>5</td><td>8</td></tr>",
                            "<tr><td>3</td><td>Szerda</td><td>201</td><td>301</td><td>4</td><td>4</td><td>17</td><td>14</td></tr>",
                            "<tr><td>3</td><td>Szerda</td><td>202</td><td>301</td><td>4</td><td>5</td><td>17</td><td>15</td></tr>",
                            "<tr><td>3</td><td>Szerda</td><td>203</td><td>200</td><td>1</td><td>4</td><td>4</td><td>10</td></tr>",
                            "<tr><td>3</td><td>Szerda</td><td>204</td><td>108</td><td>2</td><td>5</td><td>4</td><td>4</td></tr>",
                            "<tr><td>3</td><td>Szerda</td><td>205</td><td>4</td><td>1</td><td>4</td><td>18</td><td>8</td></tr>",
                            "<tr><td>3</td><td>Szerda</td><td>206</td><td>12</td><td>2</td><td>1</td><td>18</td><td>10</td></tr>",
                            "<tr><td>3</td><td>Szerda</td><td>207</td><td>12</td><td>4</td><td>4</td><td>18</td><td>7</td></tr>",
                            "<tr><td>3</td><td>Szerda</td><td>208</td><td>10</td><td>1</td><td>1</td><td>13</td><td>13</td></tr>",
                            "<tr><td>3</td><td>Szerda</td><td>209</td><td>10</td><td>1</td><td>2</td><td>13</td><td>13</td></tr>",
                            "<tr><td>3</td><td>Szerda</td><td>210</td><td>6</td><td>1</td><td>7</td><td>8</td><td>14</td></tr>",
                            "<tr><td>3</td><td>Szerda</td><td>211</td><td>6</td><td>1</td><td>8</td><td>8</td><td>5</td></tr>",
                            "<tr><td>3</td><td>Szerda</td><td>212</td><td>7</td><td>1</td><td>9</td><td>8</td><td>4</td></tr>",
                            "<tr><td>3</td><td>Szerda</td><td>213</td><td>7</td><td>1</td><td>10</td><td>8</td><td>6</td></tr>",
                            "<tr><td>3</td><td>Szerda</td><td>214</td><td>8</td><td>1</td><td>3</td><td>3</td><td>7</td></tr>",
                            "<tr><td>3</td><td>Szerda</td><td>215</td><td>8</td><td>1</td><td>4</td><td>3</td><td>9</td></tr>",
                            "<tr><td>3</td><td>Szerda</td><td>216</td><td>6</td><td>1</td><td>3</td><td>3</td><td>6</td></tr>",
                            "<tr><td>3</td><td>Szerda</td><td>217</td><td>6</td><td>1</td><td>4</td><td>3</td><td>5</td></tr>",
                            "<tr><td>3</td><td>Szerda</td><td>218</td><td>8</td><td>2</td><td>7</td><td>3</td><td>2</td></tr>",
                            "<tr><td>3</td><td>Szerda</td><td>219</td><td>8</td><td>2</td><td>8</td><td>3</td><td>7</td></tr>",
                            "<tr><td>3</td><td>Szerda</td><td>220</td><td>1</td><td>2</td><td>3</td><td>10</td><td>3</td></tr>",
                            "<tr><td>3</td><td>Szerda</td><td>221</td><td>1</td><td>3</td><td>3</td><td>10</td><td>13</td></tr>",
                            "<tr><td>3</td><td>Szerda</td><td>222</td><td>1</td><td>4</td><td>5</td><td>10</td><td>12</td></tr>",
                            "<tr><td>3</td><td>Szerda</td><td>223</td><td>1</td><td>5</td><td>1</td><td>10</td><td>10</td></tr>",
                            "<tr><td>3</td><td>Szerda</td><td>226</td><td>2</td><td>3</td><td>3</td><td>19</td><td>1</td></tr>",
                            "<tr><td>3</td><td>Szerda</td><td>227</td><td>2</td><td>2</td><td>5</td><td>4</td><td>12</td></tr>",
                            "<tr><td>4</td><td>Csütörtök</td><td>159</td><td>4</td><td>3</td><td>1</td><td>1</td><td>1</td></tr>",
                            "<tr><td>4</td><td>Csütörtök</td><td>160</td><td>8</td><td>2</td><td>5</td><td>1</td><td>2</td></tr>",
                            "<tr><td>4</td><td>Csütörtök</td><td>161</td><td>8</td><td>1</td><td>2</td><td>1</td><td>2</td></tr>",
                            "<tr><td>4</td><td>Csütörtök</td><td>162</td><td>20</td><td>1</td><td>4</td><td>1</td><td>3</td></tr>",
                            "<tr><td>4</td><td>Csütörtök</td><td>163</td><td>3</td><td>3</td><td>2</td><td>1</td><td>4</td></tr>",
                            "<tr><td>4</td><td>Csütörtök</td><td>164</td><td>7</td><td>2</td><td>3</td><td>1</td><td>3</td></tr>",
                            "<tr><td>4</td><td>Csütörtök</td><td>165</td><td>3</td><td>2</td><td>3</td><td>1</td><td>3</td></tr>",
                            "<tr><td>4</td><td>Csütörtök</td><td>166</td><td>3</td><td>2</td><td>4</td><td>1</td><td>3</td></tr>",
                            "<tr><td>4</td><td>Csütörtök</td><td>167</td><td>2</td><td>1</td><td>4</td><td>1</td><td>4</td></tr>",
                            "<tr><td>4</td><td>Csütörtök</td><td>168</td><td>4</td><td>4</td><td>3</td><td>1</td><td>5</td></tr>",
                            "<tr><td>4</td><td>Csütörtök</td><td>169</td><td>20</td><td>1</td><td>2</td><td>1</td><td>6</td></tr>",
                            "<tr><td>4</td><td>Csütörtök</td><td>170</td><td>104</td><td>1</td><td>2</td><td>1</td><td>4</td></tr>",
                            "<tr><td>4</td><td>Csütörtök</td><td>171</td><td>14</td><td>2</td><td>2</td><td>1</td><td>8</td></tr>",
                            "<tr><td>4</td><td>Csütörtök</td><td>172</td><td>7</td><td>2</td><td>2</td><td>1</td><td>3</td></tr>",
                            "<tr><td>4</td><td>Csütörtök</td><td>173</td><td>20</td><td>4</td><td>3</td><td>1</td><td>3</td></tr>",
                            "<tr><td>4</td><td>Csütörtök</td><td>174</td><td>104</td><td>4</td><td>3</td><td>1</td><td>7</td></tr>",
                            "<tr><td>4</td><td>Csütörtök</td><td>175</td><td>14</td><td>4</td><td>4</td><td>1</td><td>4</td></tr>",
                            "<tr><td>4</td><td>Csütörtök</td><td>176</td><td>20</td><td>4</td><td>4</td><td>1</td><td>2</td></tr>",
                            "<tr><td>4</td><td>Csütörtök</td><td>177</td><td>2</td><td>4</td><td>5</td><td>1</td><td>3</td></tr>",
                            "<tr><td>4</td><td>Csütörtök</td><td>178</td><td>111</td><td>4</td><td>5</td><td>1</td><td>8</td></tr>",
                            "<tr><td>4</td><td>Csütörtök</td><td>179</td><td>2</td><td>4</td><td>7</td><td>1</td><td>4</td></tr>",
                            "<tr><td>4</td><td>Csütörtök</td><td>180</td><td>111</td><td>4</td><td>7</td><td>1</td><td>3</td></tr>",
                            "<tr><td>4</td><td>Csütörtök</td><td>181</td><td>2</td><td>5</td><td>1</td><td>1</td><td>2</td></tr>",
                            "<tr><td>4</td><td>Csütörtök</td><td>182</td><td>111</td><td>5</td><td>1</td><td>1</td><td>7</td></tr>",
                            "<tr><td>4</td><td>Csütörtök</td><td>183</td><td>2</td><td>5</td><td>2</td><td>1</td><td>8</td></tr>",
                            "<tr><td>4</td><td>Csütörtök</td><td>184</td><td>111</td><td>5</td><td>2</td><td>1</td><td>6</td></tr>",
                            "<tr><td>4</td><td>Csütörtök</td><td>185</td><td>2</td><td>4</td><td>3</td><td>1</td><td>4</td></tr>",
                            "<tr><td>4</td><td>Csütörtök</td><td>186</td><td>18</td><td>2</td><td>4</td><td>16</td><td>7</td></tr>",
                            "<tr><td>4</td><td>Csütörtök</td><td>187</td><td>5</td><td>3</td><td>2</td><td>2</td><td>5</td></tr>",
                            "<tr><td>4</td><td>Csütörtök</td><td>188</td><td>9</td><td>4</td><td>7</td><td>2</td><td>13</td></tr>",
                            "<tr><td>4</td><td>Csütörtök</td><td>189</td><td>9</td><td>4</td><td>2</td><td>2</td><td>13</td></tr>",
                            "<tr><td>4</td><td>Csütörtök</td><td>190</td><td>9</td><td>5</td><td>3</td><td>2</td><td>14</td></tr>",
                            "<tr><td>4</td><td>Csütörtök</td><td>191</td><td>12</td><td>1</td><td>5</td><td>5</td><td>8</td></tr>",
                            "<tr><td>4</td><td>Csütörtök</td><td>192</td><td>12</td><td>1</td><td>7</td><td>5</td><td>3</td></tr>",
                            "<tr><td>4</td><td>Csütörtök</td><td>193</td><td>9</td><td>1</td><td>5</td><td>5</td><td>5</td></tr>",
                            "<tr><td>4</td><td>Csütörtök</td><td>194</td><td>9</td><td>1</td><td>7</td><td>5</td><td>11</td></tr>",
                            "<tr><td>4</td><td>Csütörtök</td><td>195</td><td>5</td><td>1</td><td>5</td><td>5</td><td>12</td></tr>",
                            "<tr><td>4</td><td>Csütörtök</td><td>196</td><td>5</td><td>1</td><td>7</td><td>5</td><td>6</td></tr>",
                            "<tr><td>4</td><td>Csütörtök</td><td>197</td><td>9</td><td>4</td><td>1</td><td>5</td><td>16</td></tr>",
                            "<tr><td>4</td><td>Csütörtök</td><td>198</td><td>9</td><td>3</td><td>2</td><td>5</td><td>3</td></tr>",
                            "<tr><td>4</td><td>Csütörtök</td><td>199</td><td>300</td><td>4</td><td>1</td><td>5</td><td>6</td></tr>",
                            "<tr><td>4</td><td>Csütörtök</td><td>200</td><td>300</td><td>4</td><td>2</td><td>5</td><td>8</td></tr>",
                            "<tr><td>4</td><td>Csütörtök</td><td>201</td><td>301</td><td>4</td><td>4</td><td>17</td><td>14</td></tr>",
                            "<tr><td>4</td><td>Csütörtök</td><td>202</td><td>301</td><td>4</td><td>5</td><td>17</td><td>15</td></tr>",
                            "<tr><td>4</td><td>Csütörtök</td><td>203</td><td>200</td><td>1</td><td>4</td><td>4</td><td>10</td></tr>",
                            "<tr><td>4</td><td>Csütörtök</td><td>204</td><td>108</td><td>2</td><td>5</td><td>4</td><td>4</td></tr>",
                            "<tr><td>4</td><td>Csütörtök</td><td>205</td><td>4</td><td>1</td><td>4</td><td>18</td><td>8</td></tr>",
                            "<tr><td>4</td><td>Csütörtök</td><td>206</td><td>12</td><td>2</td><td>1</td><td>18</td><td>10</td></tr>",
                            "<tr><td>4</td><td>Csütörtök</td><td>207</td><td>12</td><td>4</td><td>4</td><td>18</td><td>7</td></tr>",
                            "<tr><td>4</td><td>Csütörtök</td><td>208</td><td>10</td><td>1</td><td>1</td><td>13</td><td>13</td></tr>",
                            "<tr><td>4</td><td>Csütörtök</td><td>209</td><td>10</td><td>1</td><td>2</td><td>13</td><td>13</td></tr>",
                            "<tr><td>4</td><td>Csütörtök</td><td>210</td><td>6</td><td>1</td><td>7</td><td>8</td><td>14</td></tr>",
                            "<tr><td>4</td><td>Csütörtök</td><td>211</td><td>6</td><td>1</td><td>8</td><td>8</td><td>5</td></tr>",
                            "<tr><td>4</td><td>Csütörtök</td><td>212</td><td>7</td><td>1</td><td>9</td><td>8</td><td>4</td></tr>",
                            "<tr><td>4</td><td>Csütörtök</td><td>213</td><td>7</td><td>1</td><td>10</td><td>8</td><td>6</td></tr>",
                            "<tr><td>4</td><td>Csütörtök</td><td>214</td><td>8</td><td>1</td><td>3</td><td>3</td><td>7</td></tr>",
                            "<tr><td>4</td><td>Csütörtök</td><td>215</td><td>8</td><td>1</td><td>4</td><td>3</td><td>9</td></tr>",
                            "<tr><td>4</td><td>Csütörtök</td><td>216</td><td>6</td><td>1</td><td>3</td><td>3</td><td>6</td></tr>",
                            "<tr><td>4</td><td>Csütörtök</td><td>217</td><td>6</td><td>1</td><td>4</td><td>3</td><td>5</td></tr>",
                            "<tr><td>4</td><td>Csütörtök</td><td>218</td><td>8</td><td>2</td><td>7</td><td>3</td><td>2</td></tr>",
                            "<tr><td>4</td><td>Csütörtök</td><td>219</td><td>8</td><td>2</td><td>8</td><td>3</td><td>7</td></tr>",
                            "<tr><td>4</td><td>Csütörtök</td><td>220</td><td>1</td><td>2</td><td>3</td><td>10</td><td>3</td></tr>",
                            "<tr><td>4</td><td>Csütörtök</td><td>221</td><td>1</td><td>3</td><td>3</td><td>10</td><td>13</td></tr>",
                            "<tr><td>4</td><td>Csütörtök</td><td>222</td><td>1</td><td>4</td><td>5</td><td>10</td><td>12</td></tr>",
                            "<tr><td>4</td><td>Csütörtök</td><td>223</td><td>1</td><td>5</td><td>1</td><td>10</td><td>10</td></tr>",
                            "<tr><td>4</td><td>Csütörtök</td><td>226</td><td>2</td><td>3</td><td>3</td><td>19</td><td>1</td></tr>",
                            "<tr><td>4</td><td>Csütörtök</td><td>227</td><td>2</td><td>2</td><td>5</td><td>4</td><td>12</td></tr>",
                            "<tr><td>5</td><td>Péntek</td><td>159</td><td>4</td><td>3</td><td>1</td><td>1</td><td>1</td></tr>",
                            "<tr><td>5</td><td>Péntek</td><td>160</td><td>8</td><td>2</td><td>5</td><td>1</td><td>2</td></tr>",
                            "<tr><td>5</td><td>Péntek</td><td>161</td><td>8</td><td>1</td><td>2</td><td>1</td><td>2</td></tr>",
                            "<tr><td>5</td><td>Péntek</td><td>162</td><td>20</td><td>1</td><td>4</td><td>1</td><td>3</td></tr>",
                            "<tr><td>5</td><td>Péntek</td><td>163</td><td>3</td><td>3</td><td>2</td><td>1</td><td>4</td></tr>",
                            "<tr><td>5</td><td>Péntek</td><td>164</td><td>7</td><td>2</td><td>3</td><td>1</td><td>3</td></tr>",
                            "<tr><td>5</td><td>Péntek</td><td>165</td><td>3</td><td>2</td><td>3</td><td>1</td><td>3</td></tr>",
                            "<tr><td>5</td><td>Péntek</td><td>166</td><td>3</td><td>2</td><td>4</td><td>1</td><td>3</td></tr>",
                            "<tr><td>5</td><td>Péntek</td><td>167</td><td>2</td><td>1</td><td>4</td><td>1</td><td>4</td></tr>",
                            "<tr><td>5</td><td>Péntek</td><td>168</td><td>4</td><td>4</td><td>3</td><td>1</td><td>5</td></tr>",
                            "<tr><td>5</td><td>Péntek</td><td>169</td><td>20</td><td>1</td><td>2</td><td>1</td><td>6</td></tr>",
                            "<tr><td>5</td><td>Péntek</td><td>170</td><td>104</td><td>1</td><td>2</td><td>1</td><td>4</td></tr>",
                            "<tr><td>5</td><td>Péntek</td><td>171</td><td>14</td><td>2</td><td>2</td><td>1</td><td>8</td></tr>",
                            "<tr><td>5</td><td>Péntek</td><td>172</td><td>7</td><td>2</td><td>2</td><td>1</td><td>3</td></tr>",
                            "<tr><td>5</td><td>Péntek</td><td>173</td><td>20</td><td>4</td><td>3</td><td>1</td><td>3</td></tr>",
                            "<tr><td>5</td><td>Péntek</td><td>174</td><td>104</td><td>4</td><td>3</td><td>1</td><td>7</td></tr>",
                            "<tr><td>5</td><td>Péntek</td><td>175</td><td>14</td><td>4</td><td>4</td><td>1</td><td>4</td></tr>",
                            "<tr><td>5</td><td>Péntek</td><td>176</td><td>20</td><td>4</td><td>4</td><td>1</td><td>2</td></tr>",
                            "<tr><td>5</td><td>Péntek</td><td>177</td><td>2</td><td>4</td><td>5</td><td>1</td><td>3</td></tr>",
                            "<tr><td>5</td><td>Péntek</td><td>178</td><td>111</td><td>4</td><td>5</td><td>1</td><td>8</td></tr>",
                            "<tr><td>5</td><td>Péntek</td><td>179</td><td>2</td><td>4</td><td>7</td><td>1</td><td>4</td></tr>",
                            "<tr><td>5</td><td>Péntek</td><td>180</td><td>111</td><td>4</td><td>7</td><td>1</td><td>3</td></tr>",
                            "<tr><td>5</td><td>Péntek</td><td>181</td><td>2</td><td>5</td><td>1</td><td>1</td><td>2</td></tr>",
                            "<tr><td>5</td><td>Péntek</td><td>182</td><td>111</td><td>5</td><td>1</td><td>1</td><td>7</td></tr>",
                            "<tr><td>5</td><td>Péntek</td><td>183</td><td>2</td><td>5</td><td>2</td><td>1</td><td>8</td></tr>",
                            "<tr><td>5</td><td>Péntek</td><td>184</td><td>111</td><td>5</td><td>2</td><td>1</td><td>6</td></tr>",
                            "<tr><td>5</td><td>Péntek</td><td>185</td><td>2</td><td>4</td><td>3</td><td>1</td><td>4</td></tr>",
                            "<tr><td>5</td><td>Péntek</td><td>186</td><td>18</td><td>2</td><td>4</td><td>16</td><td>7</td></tr>",
                            "<tr><td>5</td><td>Péntek</td><td>187</td><td>5</td><td>3</td><td>2</td><td>2</td><td>5</td></tr>",
                            "<tr><td>5</td><td>Péntek</td><td>188</td><td>9</td><td>4</td><td>7</td><td>2</td><td>13</td></tr>",
                            "<tr><td>5</td><td>Péntek</td><td>189</td><td>9</td><td>4</td><td>2</td><td>2</td><td>13</td></tr>",
                            "<tr><td>5</td><td>Péntek</td><td>190</td><td>9</td><td>5</td><td>3</td><td>2</td><td>14</td></tr>",
                            "<tr><td>5</td><td>Péntek</td><td>191</td><td>12</td><td>1</td><td>5</td><td>5</td><td>8</td></tr>",
                            "<tr><td>5</td><td>Péntek</td><td>192</td><td>12</td><td>1</td><td>7</td><td>5</td><td>3</td></tr>",
                            "<tr><td>5</td><td>Péntek</td><td>193</td><td>9</td><td>1</td><td>5</td><td>5</td><td>5</td></tr>",
                            "<tr><td>5</td><td>Péntek</td><td>194</td><td>9</td><td>1</td><td>7</td><td>5</td><td>11</td></tr>",
                            "<tr><td>5</td><td>Péntek</td><td>195</td><td>5</td><td>1</td><td>5</td><td>5</td><td>12</td></tr>",
                            "<tr><td>5</td><td>Péntek</td><td>196</td><td>5</td><td>1</td><td>7</td><td>5</td><td>6</td></tr>",
                            "<tr><td>5</td><td>Péntek</td><td>197</td><td>9</td><td>4</td><td>1</td><td>5</td><td>16</td></tr>",
                            "<tr><td>5</td><td>Péntek</td><td>198</td><td>9</td><td>3</td><td>2</td><td>5</td><td>3</td></tr>",
                            "<tr><td>5</td><td>Péntek</td><td>199</td><td>300</td><td>4</td><td>1</td><td>5</td><td>6</td></tr>",
                            "<tr><td>5</td><td>Péntek</td><td>200</td><td>300</td><td>4</td><td>2</td><td>5</td><td>8</td></tr>",
                            "<tr><td>5</td><td>Péntek</td><td>201</td><td>301</td><td>4</td><td>4</td><td>17</td><td>14</td></tr>",
                            "<tr><td>5</td><td>Péntek</td><td>202</td><td>301</td><td>4</td><td>5</td><td>17</td><td>15</td></tr>",
                            "<tr><td>5</td><td>Péntek</td><td>203</td><td>200</td><td>1</td><td>4</td><td>4</td><td>10</td></tr>",
                            "<tr><td>5</td><td>Péntek</td><td>204</td><td>108</td><td>2</td><td>5</td><td>4</td><td>4</td></tr>",
                            "<tr><td>5</td><td>Péntek</td><td>205</td><td>4</td><td>1</td><td>4</td><td>18</td><td>8</td></tr>",
                            "<tr><td>5</td><td>Péntek</td><td>206</td><td>12</td><td>2</td><td>1</td><td>18</td><td>10</td></tr>",
                            "<tr><td>5</td><td>Péntek</td><td>207</td><td>12</td><td>4</td><td>4</td><td>18</td><td>7</td></tr>",
                            "<tr><td>5</td><td>Péntek</td><td>208</td><td>10</td><td>1</td><td>1</td><td>13</td><td>13</td></tr>",
                            "<tr><td>5</td><td>Péntek</td><td>209</td><td>10</td><td>1</td><td>2</td><td>13</td><td>13</td></tr>",
                            "<tr><td>5</td><td>Péntek</td><td>210</td><td>6</td><td>1</td><td>7</td><td>8</td><td>14</td></tr>",
                            "<tr><td>5</td><td>Péntek</td><td>211</td><td>6</td><td>1</td><td>8</td><td>8</td><td>5</td></tr>",
                            "<tr><td>5</td><td>Péntek</td><td>212</td><td>7</td><td>1</td><td>9</td><td>8</td><td>4</td></tr>",
                            "<tr><td>5</td><td>Péntek</td><td>213</td><td>7</td><td>1</td><td>10</td><td>8</td><td>6</td></tr>",
                            "<tr><td>5</td><td>Péntek</td><td>214</td><td>8</td><td>1</td><td>3</td><td>3</td><td>7</td></tr>",
                            "<tr><td>5</td><td>Péntek</td><td>215</td><td>8</td><td>1</td><td>4</td><td>3</td><td>9</td></tr>",
                            "<tr><td>5</td><td>Péntek</td><td>216</td><td>6</td><td>1</td><td>3</td><td>3</td><td>6</td></tr>",
                            "<tr><td>5</td><td>Péntek</td><td>217</td><td>6</td><td>1</td><td>4</td><td>3</td><td>5</td></tr>",
                            "<tr><td>5</td><td>Péntek</td><td>218</td><td>8</td><td>2</td><td>7</td><td>3</td><td>2</td></tr>",
                            "<tr><td>5</td><td>Péntek</td><td>219</td><td>8</td><td>2</td><td>8</td><td>3</td><td>7</td></tr>",
                            "<tr><td>5</td><td>Péntek</td><td>220</td><td>1</td><td>2</td><td>3</td><td>10</td><td>3</td></tr>",
                            "<tr><td>5</td><td>Péntek</td><td>221</td><td>1</td><td>3</td><td>3</td><td>10</td><td>13</td></tr>",
                            "<tr><td>5</td><td>Péntek</td><td>222</td><td>1</td><td>4</td><td>5</td><td>10</td><td>12</td></tr>",
                            "<tr><td>5</td><td>Péntek</td><td>223</td><td>1</td><td>5</td><td>1</td><td>10</td><td>10</td></tr>",
                            "<tr><td>5</td><td>Péntek</td><td>226</td><td>2</td><td>3</td><td>3</td><td>19</td><td>1</td></tr>",
                            "<tr><td>5</td><td>Péntek</td><td>227</td><td>2</td><td>2</td><td>5</td><td>4</td><td>12</td></tr>",
                            "</table>"
                        ]
                    }
                }
            ],
            "execution_count": 36
        },
        {
            "cell_type": "markdown",
            "source": [
                "<span style=\"color: #09885a;\">12</span>. Készítsünk listát, amely megmutatja, hogy összesen hány tantárgy van kreditenkénti csoportosításban!\n",
                "\n",
                "  \n",
                "\n",
                "A listából hagyjuk ki azokat a tételeket, ahol ez a darabszám <span style=\"color: #09885a;\">1</span>!\n",
                "\n",
                "A Folyami gáttan tantárgyat ne vegyük figyelembe!\n",
                "\n",
                "A listát rendezzük darabszám szerint csökkenő sorrendbe!\n",
                "\n",
                "Az oszlopokat nevezzük el értelemszerűen!"
            ],
            "metadata": {
                "azdata_cell_guid": "a765e9d6-58b3-4171-872a-78f3118fd6e3"
            },
            "attachments": {}
        },
        {
            "cell_type": "code",
            "source": [
                ""
            ],
            "metadata": {
                "azdata_cell_guid": "422e8127-b652-4d3a-bfd7-9b1637b5781e",
                "language": "sql"
            },
            "outputs": [],
            "execution_count": null
        },
        {
            "cell_type": "markdown",
            "source": [
                "13. _Készítsünk listát az oktatók nevéről, a beosztásuk alapján elvárt és a tényleges óraszámukról!_\n",
                "\n",
                "1. Az oszlopok neve legyen 'Oktató neve', 'Elvárt óraszám' és 'Tényleges óraszám'\n",
                "2. Szűrjük a listát azokra az oktatókra, ahol az elvárt és a tényleges óraszám azonos"
            ],
            "metadata": {
                "azdata_cell_guid": "3f9237ae-f109-401c-acb9-31d75e73331b"
            },
            "attachments": {}
        },
        {
            "cell_type": "code",
            "source": [
                ""
            ],
            "metadata": {
                "azdata_cell_guid": "4b31bb89-cfbc-46b1-8639-85c462877786",
                "language": "sql"
            },
            "outputs": [],
            "execution_count": null
        },
        {
            "cell_type": "markdown",
            "source": [
                "14. _Készítsünk listát, amely megmutatja, hogy mely tantárgyból nincs óra egyáltalán!_\n",
                "\n",
                "1. Csak a tantárgy neve jelenjen meg!"
            ],
            "metadata": {
                "azdata_cell_guid": "f634e09a-85ef-4e70-8ec6-ef355dfddaa7"
            },
            "attachments": {}
        },
        {
            "cell_type": "code",
            "source": [
                ""
            ],
            "metadata": {
                "azdata_cell_guid": "88abc55b-2c78-495b-a72f-3f8f4eb5fe70",
                "language": "sql"
            },
            "outputs": [],
            "execution_count": null
        },
        {
            "cell_type": "markdown",
            "source": [
                "15. _Hány órájuk van az óraadóknak napi bontásban?_\n",
                "\n",
                "1. Csak a napok nevét és az óraszámot jelenítsük meg!\n",
                "2. Rendezzük a listát óraszám szerint növekvő sorrendbe!"
            ],
            "metadata": {
                "azdata_cell_guid": "4cbf2f0d-a65d-480a-8186-ccdb24498443"
            },
            "attachments": {}
        },
        {
            "cell_type": "code",
            "source": [
                ""
            ],
            "metadata": {
                "azdata_cell_guid": "c148aee8-bc85-40bf-b80a-a4898a6c05cb",
                "language": "sql"
            },
            "outputs": [],
            "execution_count": null
        }
    ]
}