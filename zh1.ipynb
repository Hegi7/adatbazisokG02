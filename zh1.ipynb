{
    "metadata": {
        "kernelspec": {
            "name": "SQL",
            "display_name": "SQL",
            "language": "sql"
        },
        "language_info": {
            "name": "sql",
            "version": ""
        }
    },
    "nbformat_minor": 2,
    "nbformat": 4,
    "cells": [
        {
            "cell_type": "code",
            "source": [
                "SELECT DATEDIFF(YEAR, SZUL_DAT, GETDATE()) AS 'Életkor',\r\n",
                "       COUNT(*) AS 'DB'\r\n",
                "FROM Vendeg\r\n",
                "WHERE DATEDIFF(YEAR, SZUL_DAT, GETDATE()) >= 18\r\n",
                "GROUP BY DATEDIFF(YEAR, SZUL_DAT, GETDATE())\r\n",
                "HAVING COUNT(*) >= 5"
            ],
            "metadata": {
                "azdata_cell_guid": "886395da-be57-4a18-8019-96704ea26ffe",
                "language": "sql"
            },
            "outputs": [
                {
                    "output_type": "display_data",
                    "data": {
                        "text/html": "(23 rows affected)"
                    },
                    "metadata": {}
                },
                {
                    "output_type": "display_data",
                    "data": {
                        "text/html": "Total execution time: 00:00:00.013"
                    },
                    "metadata": {}
                },
                {
                    "output_type": "execute_result",
                    "execution_count": 7,
                    "data": {
                        "application/vnd.dataresource+json": {
                            "schema": {
                                "fields": [
                                    {
                                        "name": "Életkor"
                                    },
                                    {
                                        "name": "DB"
                                    }
                                ]
                            },
                            "data": [
                                {
                                    "Életkor": "28",
                                    "DB": "12"
                                },
                                {
                                    "Életkor": "29",
                                    "DB": "7"
                                },
                                {
                                    "Életkor": "30",
                                    "DB": "6"
                                },
                                {
                                    "Életkor": "32",
                                    "DB": "5"
                                },
                                {
                                    "Életkor": "34",
                                    "DB": "6"
                                },
                                {
                                    "Életkor": "35",
                                    "DB": "8"
                                },
                                {
                                    "Életkor": "36",
                                    "DB": "7"
                                },
                                {
                                    "Életkor": "37",
                                    "DB": "6"
                                },
                                {
                                    "Életkor": "38",
                                    "DB": "5"
                                },
                                {
                                    "Életkor": "39",
                                    "DB": "9"
                                },
                                {
                                    "Életkor": "40",
                                    "DB": "6"
                                },
                                {
                                    "Életkor": "41",
                                    "DB": "8"
                                },
                                {
                                    "Életkor": "42",
                                    "DB": "8"
                                },
                                {
                                    "Életkor": "45",
                                    "DB": "7"
                                },
                                {
                                    "Életkor": "46",
                                    "DB": "7"
                                },
                                {
                                    "Életkor": "47",
                                    "DB": "7"
                                },
                                {
                                    "Életkor": "48",
                                    "DB": "5"
                                },
                                {
                                    "Életkor": "49",
                                    "DB": "7"
                                },
                                {
                                    "Életkor": "50",
                                    "DB": "10"
                                },
                                {
                                    "Életkor": "54",
                                    "DB": "5"
                                },
                                {
                                    "Életkor": "56",
                                    "DB": "8"
                                },
                                {
                                    "Életkor": "57",
                                    "DB": "7"
                                },
                                {
                                    "Életkor": "58",
                                    "DB": "8"
                                }
                            ]
                        },
                        "text/html": "<table><tr><th>Életkor</th><th>DB</th></tr><tr><td>28</td><td>12</td></tr><tr><td>29</td><td>7</td></tr><tr><td>30</td><td>6</td></tr><tr><td>32</td><td>5</td></tr><tr><td>34</td><td>6</td></tr><tr><td>35</td><td>8</td></tr><tr><td>36</td><td>7</td></tr><tr><td>37</td><td>6</td></tr><tr><td>38</td><td>5</td></tr><tr><td>39</td><td>9</td></tr><tr><td>40</td><td>6</td></tr><tr><td>41</td><td>8</td></tr><tr><td>42</td><td>8</td></tr><tr><td>45</td><td>7</td></tr><tr><td>46</td><td>7</td></tr><tr><td>47</td><td>7</td></tr><tr><td>48</td><td>5</td></tr><tr><td>49</td><td>7</td></tr><tr><td>50</td><td>10</td></tr><tr><td>54</td><td>5</td></tr><tr><td>56</td><td>8</td></tr><tr><td>57</td><td>7</td></tr><tr><td>58</td><td>8</td></tr></table>"
                    },
                    "metadata": {}
                }
            ],
            "execution_count": 7
        },
        {
            "cell_type": "code",
            "source": [
                "SELECT szo.SZOBA_ID AS 'Azonosító',\r\n",
                "       YEAR(fog.METTOL) AS 'Év',\r\n",
                "       COUNT(*) AS 'Foglalások száma'\r\n",
                "FROM Foglalas fog JOIN Szoba szo ON fog.SZOBA_FK = szo.SZOBA_ID\r\n",
                "WHERE szo.SZOBA_SZAMA / 2 <> 0\r\n",
                "GROUP BY szo.SZOBA_ID, YEAR(fog.METTOL)\r\n",
                "HAVING COUNT(*) > 10"
            ],
            "metadata": {
                "azdata_cell_guid": "fc4cdb3e-8d06-49aa-8a39-e5e0abca0590",
                "language": "sql"
            },
            "outputs": [
                {
                    "output_type": "display_data",
                    "data": {
                        "text/html": "(1 row affected)"
                    },
                    "metadata": {}
                },
                {
                    "output_type": "display_data",
                    "data": {
                        "text/html": "Total execution time: 00:00:00.019"
                    },
                    "metadata": {}
                },
                {
                    "output_type": "execute_result",
                    "metadata": {},
                    "execution_count": 12,
                    "data": {
                        "application/vnd.dataresource+json": {
                            "schema": {
                                "fields": [
                                    {
                                        "name": "Azonosító"
                                    },
                                    {
                                        "name": "Év"
                                    },
                                    {
                                        "name": "Foglalások száma"
                                    }
                                ]
                            },
                            "data": [
                                {
                                    "Azonosító": "58",
                                    "Év": "2016",
                                    "Foglalások száma": "12"
                                }
                            ]
                        },
                        "text/html": [
                            "<table>",
                            "<tr><th>Azonosító</th><th>Év</th><th>Foglalások száma</th></tr>",
                            "<tr><td>58</td><td>2016</td><td>12</td></tr>",
                            "</table>"
                        ]
                    }
                }
            ],
            "execution_count": 12
        }
    ]
}