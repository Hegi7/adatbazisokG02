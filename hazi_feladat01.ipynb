{
    "metadata": {
        "kernelspec": {
            "name": "SQL",
            "display_name": "SQL",
            "language": "sql"
        },
        "language_info": {
            "name": "sql",
            "version": ""
        }
    },
    "nbformat_minor": 2,
    "nbformat": 4,
    "cells": [
        {
            "cell_type": "markdown",
            "source": [
                "**LEIRAS oszlop**"
            ],
            "metadata": {
                "azdata_cell_guid": "f7665d83-7ae5-415c-bdcf-0a16ae976a1d"
            },
            "attachments": {}
        },
        {
            "cell_type": "code",
            "source": [
                "SELECT \r\n",
                "    COUNT(*) AS 'Összes sor',\r\n",
                "    SUM(CASE WHEN LEIRAS IS NULL THEN 1 ELSE 0 END) AS 'NULL értékek száma',\r\n",
                "    (100.0 * SUM(CASE WHEN LEIRAS IS NULL THEN 1 ELSE 0 END) / COUNT(*)) AS 'NULL értékek aránya százalékban'\r\n",
                "FROM TERMEK"
            ],
            "metadata": {
                "language": "sql",
                "azdata_cell_guid": "33112c48-6153-4be7-97dd-f135d1dbb2de"
            },
            "outputs": [
                {
                    "output_type": "display_data",
                    "data": {
                        "text/html": "(1 row affected)"
                    },
                    "metadata": {}
                },
                {
                    "output_type": "display_data",
                    "data": {
                        "text/html": "Total execution time: 00:00:00.021"
                    },
                    "metadata": {}
                },
                {
                    "output_type": "execute_result",
                    "execution_count": 12,
                    "data": {
                        "application/vnd.dataresource+json": {
                            "schema": {
                                "fields": [
                                    {
                                        "name": "Összes sor"
                                    },
                                    {
                                        "name": "NULL értékek száma"
                                    },
                                    {
                                        "name": "NULL értékek aránya százalékban"
                                    }
                                ]
                            },
                            "data": [
                                {
                                    "Összes sor": "551",
                                    "NULL értékek száma": "527",
                                    "NULL értékek aránya százalékban": "95.644283121597"
                                }
                            ]
                        },
                        "text/html": "<table><tr><th>Összes sor</th><th>NULL értékek száma</th><th>NULL értékek aránya százalékban</th></tr><tr><td>551</td><td>527</td><td>95.644283121597</td></tr></table>"
                    },
                    "metadata": {}
                }
            ],
            "execution_count": 12
        },
        {
            "cell_type": "code",
            "source": [
                "SELECT \r\n",
                "    COUNT(*) AS 'Nem null db',\r\n",
                "    MIN(LEN(LEIRAS)) AS 'Minimum hossz',\r\n",
                "    MAX(LEN(LEIRAS)) AS 'Maximum hossz',\r\n",
                "    AVG(LEN(LEIRAS) * 1.0) AS 'Átlag hossz'\r\n",
                "FROM TERMEK\r\n",
                "WHERE LEIRAS IS NOT NULL"
            ],
            "metadata": {
                "azdata_cell_guid": "18068d86-1f53-49b9-b6a0-e7b3387e3b14",
                "language": "sql"
            },
            "outputs": [
                {
                    "output_type": "display_data",
                    "data": {
                        "text/html": "(1 row affected)"
                    },
                    "metadata": {}
                },
                {
                    "output_type": "display_data",
                    "data": {
                        "text/html": "Total execution time: 00:00:00.020"
                    },
                    "metadata": {}
                },
                {
                    "output_type": "execute_result",
                    "metadata": {},
                    "execution_count": 4,
                    "data": {
                        "application/vnd.dataresource+json": {
                            "schema": {
                                "fields": [
                                    {
                                        "name": "Nem null db"
                                    },
                                    {
                                        "name": "Minimum hossz"
                                    },
                                    {
                                        "name": "Maximum hossz"
                                    },
                                    {
                                        "name": "Átlag hossz"
                                    }
                                ]
                            },
                            "data": [
                                {
                                    "Nem null db": "24",
                                    "Minimum hossz": "5",
                                    "Maximum hossz": "19",
                                    "Átlag hossz": "11.458333"
                                }
                            ]
                        },
                        "text/html": [
                            "<table>",
                            "<tr><th>Nem null db</th><th>Minimum hossz</th><th>Maximum hossz</th><th>Átlag hossz</th></tr>",
                            "<tr><td>24</td><td>5</td><td>19</td><td>11.458333</td></tr>",
                            "</table>"
                        ]
                    }
                }
            ],
            "execution_count": 4
        },
        {
            "cell_type": "markdown",
            "source": [
                "**LISTAAR oszlop**"
            ],
            "metadata": {
                "azdata_cell_guid": "2389ac5a-8c5c-434b-b572-740a8936cf9e"
            },
            "attachments": {}
        },
        {
            "cell_type": "code",
            "source": [
                "SELECT COUNT(*) AS 'NULL értékek'\r\n",
                "FROM TERMEK\r\n",
                "WHERE LISTAAR IS NULL"
            ],
            "metadata": {
                "azdata_cell_guid": "0c34e5c9-facc-4c48-bf11-932cb52a5f59",
                "language": "sql"
            },
            "outputs": [
                {
                    "output_type": "display_data",
                    "data": {
                        "text/html": "(1 row affected)"
                    },
                    "metadata": {}
                },
                {
                    "output_type": "display_data",
                    "data": {
                        "text/html": "Total execution time: 00:00:00.020"
                    },
                    "metadata": {}
                },
                {
                    "output_type": "execute_result",
                    "metadata": {},
                    "execution_count": 10,
                    "data": {
                        "application/vnd.dataresource+json": {
                            "schema": {
                                "fields": [
                                    {
                                        "name": "NULL értékek"
                                    }
                                ]
                            },
                            "data": [
                                {
                                    "NULL értékek": "0"
                                }
                            ]
                        },
                        "text/html": [
                            "<table>",
                            "<tr><th>NULL értékek</th></tr>",
                            "<tr><td>0</td></tr>",
                            "</table>"
                        ]
                    }
                }
            ],
            "execution_count": 10
        },
        {
            "cell_type": "code",
            "source": [
                "SELECT \r\n",
                "    COUNT(*) AS 'Darabszám',\r\n",
                "    MIN(LISTAAR) AS 'Minimum',\r\n",
                "    MAX(LISTAAR) AS 'Maximum',\r\n",
                "    AVG(LISTAAR) AS 'Átlag'\r\n",
                "FROM TERMEK\r\n",
                "WHERE LISTAAR IS NOT NULL"
            ],
            "metadata": {
                "azdata_cell_guid": "2276f5db-1f97-42d3-8e13-2212f1936259",
                "language": "sql"
            },
            "outputs": [
                {
                    "output_type": "display_data",
                    "data": {
                        "text/html": "(1 row affected)"
                    },
                    "metadata": {}
                },
                {
                    "output_type": "display_data",
                    "data": {
                        "text/html": "Total execution time: 00:00:00.016"
                    },
                    "metadata": {}
                },
                {
                    "output_type": "execute_result",
                    "metadata": {},
                    "execution_count": 24,
                    "data": {
                        "application/vnd.dataresource+json": {
                            "schema": {
                                "fields": [
                                    {
                                        "name": "Darabszám"
                                    },
                                    {
                                        "name": "Minimum"
                                    },
                                    {
                                        "name": "Maximum"
                                    },
                                    {
                                        "name": "Átlag"
                                    }
                                ]
                            },
                            "data": [
                                {
                                    "Darabszám": "551",
                                    "Minimum": "0",
                                    "Maximum": "46000",
                                    "Átlag": "786,2813067150635"
                                }
                            ]
                        },
                        "text/html": [
                            "<table>",
                            "<tr><th>Darabszám</th><th>Minimum</th><th>Maximum</th><th>Átlag</th></tr>",
                            "<tr><td>551</td><td>0</td><td>46000</td><td>786,2813067150635</td></tr>",
                            "</table>"
                        ]
                    }
                }
            ],
            "execution_count": 24
        },
        {
            "cell_type": "code",
            "source": [
                "SELECT \r\n",
                "    CASE \r\n",
                "        WHEN LISTAAR < 1000 THEN '0–999 Ft'\r\n",
                "        WHEN LISTAAR BETWEEN 1000 AND 1999 THEN '1000–1999 Ft'\r\n",
                "        WHEN LISTAAR BETWEEN 2000 AND 2999 THEN '2000–2999 Ft'\r\n",
                "        WHEN LISTAAR BETWEEN 3000 AND 3999 THEN '3000–3999 Ft'\r\n",
                "        WHEN LISTAAR BETWEEN 4000 AND 4999 THEN '4000–4999 Ft'\r\n",
                "        ELSE '5000+ Ft'\r\n",
                "    END AS 'Ár kategória',\r\n",
                "    COUNT(*) AS 'Termékek száma'\r\n",
                "FROM TERMEK\r\n",
                "GROUP BY \r\n",
                "    CASE \r\n",
                "        WHEN LISTAAR < 1000 THEN '0–999 Ft'\r\n",
                "        WHEN LISTAAR BETWEEN 1000 AND 1999 THEN '1000–1999 Ft'\r\n",
                "        WHEN LISTAAR BETWEEN 2000 AND 2999 THEN '2000–2999 Ft'\r\n",
                "        WHEN LISTAAR BETWEEN 3000 AND 3999 THEN '3000–3999 Ft'\r\n",
                "        WHEN LISTAAR BETWEEN 4000 AND 4999 THEN '4000–4999 Ft'\r\n",
                "        ELSE '5000+ Ft'\r\n",
                "    END"
            ],
            "metadata": {
                "language": "sql",
                "azdata_cell_guid": "f53c65ba-c577-4673-825b-20adc4a3f7d0"
            },
            "outputs": [
                {
                    "output_type": "display_data",
                    "data": {
                        "text/html": "(6 rows affected)"
                    },
                    "metadata": {}
                },
                {
                    "output_type": "display_data",
                    "data": {
                        "text/html": "Total execution time: 00:00:00.024"
                    },
                    "metadata": {}
                },
                {
                    "output_type": "execute_result",
                    "metadata": {},
                    "execution_count": 41,
                    "data": {
                        "application/vnd.dataresource+json": {
                            "schema": {
                                "fields": [
                                    {
                                        "name": "Ár kategória"
                                    },
                                    {
                                        "name": "Termékek száma"
                                    }
                                ]
                            },
                            "data": [
                                {
                                    "Ár kategória": "0–999 Ft",
                                    "Termékek száma": "511"
                                },
                                {
                                    "Ár kategória": "1000–1999 Ft",
                                    "Termékek száma": "14"
                                },
                                {
                                    "Ár kategória": "2000–2999 Ft",
                                    "Termékek száma": "1"
                                },
                                {
                                    "Ár kategória": "3000–3999 Ft",
                                    "Termékek száma": "2"
                                },
                                {
                                    "Ár kategória": "4000–4999 Ft",
                                    "Termékek száma": "3"
                                },
                                {
                                    "Ár kategória": "5000+ Ft",
                                    "Termékek száma": "20"
                                }
                            ]
                        },
                        "text/html": [
                            "<table>",
                            "<tr><th>Ár kategória</th><th>Termékek száma</th></tr>",
                            "<tr><td>0–999 Ft</td><td>511</td></tr>",
                            "<tr><td>1000–1999 Ft</td><td>14</td></tr>",
                            "<tr><td>2000–2999 Ft</td><td>1</td></tr>",
                            "<tr><td>3000–3999 Ft</td><td>2</td></tr>",
                            "<tr><td>4000–4999 Ft</td><td>3</td></tr>",
                            "<tr><td>5000+ Ft</td><td>20</td></tr>",
                            "</table>"
                        ]
                    }
                }
            ],
            "execution_count": 41
        },
        {
            "cell_type": "markdown",
            "source": [
                "**KESZLET oszlop**"
            ],
            "metadata": {
                "azdata_cell_guid": "6026fce3-da59-4210-b02d-10a858e1a0c3"
            },
            "attachments": {}
        },
        {
            "cell_type": "code",
            "source": [
                "SELECT COUNT(*) AS 'NULL értékek'\r\n",
                "FROM TERMEK\r\n",
                "WHERE KESZLET IS NULL"
            ],
            "metadata": {
                "azdata_cell_guid": "ce3c6337-fb11-40f2-802a-aa3c9c7f7077",
                "language": "sql"
            },
            "outputs": [
                {
                    "output_type": "display_data",
                    "data": {
                        "text/html": "(1 row affected)"
                    },
                    "metadata": {}
                },
                {
                    "output_type": "display_data",
                    "data": {
                        "text/html": "Total execution time: 00:00:00.013"
                    },
                    "metadata": {}
                },
                {
                    "output_type": "execute_result",
                    "metadata": {},
                    "execution_count": 26,
                    "data": {
                        "application/vnd.dataresource+json": {
                            "schema": {
                                "fields": [
                                    {
                                        "name": "NULL értékek"
                                    }
                                ]
                            },
                            "data": [
                                {
                                    "NULL értékek": "0"
                                }
                            ]
                        },
                        "text/html": [
                            "<table>",
                            "<tr><th>NULL értékek</th></tr>",
                            "<tr><td>0</td></tr>",
                            "</table>"
                        ]
                    }
                }
            ],
            "execution_count": 26
        },
        {
            "cell_type": "code",
            "source": [
                "SELECT \r\n",
                "    COUNT(*) AS 'Darabszám',\r\n",
                "    MIN(KESZLET) AS 'Minimum',\r\n",
                "    MAX(KESZLET) AS 'Maximum',\r\n",
                "    AVG(KESZLET) AS 'Átlag'\r\n",
                "FROM TERMEK\r\n",
                "WHERE KESZLET IS NOT NULL"
            ],
            "metadata": {
                "language": "sql",
                "azdata_cell_guid": "e3190767-b334-41fe-b59b-7cd02894e500"
            },
            "outputs": [
                {
                    "output_type": "display_data",
                    "data": {
                        "text/html": "(1 row affected)"
                    },
                    "metadata": {}
                },
                {
                    "output_type": "display_data",
                    "data": {
                        "text/html": "Total execution time: 00:00:00.017"
                    },
                    "metadata": {}
                },
                {
                    "output_type": "execute_result",
                    "metadata": {},
                    "execution_count": 30,
                    "data": {
                        "application/vnd.dataresource+json": {
                            "schema": {
                                "fields": [
                                    {
                                        "name": "Darabszám"
                                    },
                                    {
                                        "name": "Minimum"
                                    },
                                    {
                                        "name": "Maximum"
                                    },
                                    {
                                        "name": "Átlag"
                                    }
                                ]
                            },
                            "data": [
                                {
                                    "Darabszám": "551",
                                    "Minimum": "0",
                                    "Maximum": "50000",
                                    "Átlag": "1585,9909255898367"
                                }
                            ]
                        },
                        "text/html": [
                            "<table>",
                            "<tr><th>Darabszám</th><th>Minimum</th><th>Maximum</th><th>Átlag</th></tr>",
                            "<tr><td>551</td><td>0</td><td>50000</td><td>1585,9909255898367</td></tr>",
                            "</table>"
                        ]
                    }
                }
            ],
            "execution_count": 30
        },
        {
            "cell_type": "code",
            "source": [
                "--Kiugró értékek (3× átlag felett)\r\n",
                "\r\n",
                "SELECT \r\n",
                "    TERMEKKOD AS 'Termék kód', \r\n",
                "    KESZLET AS 'Készlet'\r\n",
                "FROM TERMEK\r\n",
                "WHERE KESZLET > 3 * (\r\n",
                "    SELECT AVG(KESZLET)\r\n",
                "    FROM TERMEK\r\n",
                ")\r\n",
                "ORDER BY 2"
            ],
            "metadata": {
                "language": "sql",
                "azdata_cell_guid": "3727a7ae-4097-4f9b-8fa8-5f1d5492c7e6"
            },
            "outputs": [
                {
                    "output_type": "display_data",
                    "data": {
                        "text/html": "(33 rows affected)"
                    },
                    "metadata": {}
                },
                {
                    "output_type": "display_data",
                    "data": {
                        "text/html": "Total execution time: 00:00:00.042"
                    },
                    "metadata": {}
                },
                {
                    "output_type": "execute_result",
                    "metadata": {},
                    "execution_count": 40,
                    "data": {
                        "application/vnd.dataresource+json": {
                            "schema": {
                                "fields": [
                                    {
                                        "name": "Termék kód"
                                    },
                                    {
                                        "name": "Készlet"
                                    }
                                ]
                            },
                            "data": [
                                {
                                    "Termék kód": "06080336T",
                                    "Készlet": "4900"
                                },
                                {
                                    "Termék kód": "08070480T",
                                    "Készlet": "5000"
                                },
                                {
                                    "Termék kód": "05010306T",
                                    "Készlet": "5000"
                                },
                                {
                                    "Termék kód": "04030287T",
                                    "Készlet": "5100"
                                },
                                {
                                    "Termék kód": "05010027T",
                                    "Készlet": "5900"
                                },
                                {
                                    "Termék kód": "07080163T",
                                    "Készlet": "6000"
                                },
                                {
                                    "Termék kód": "07080419T",
                                    "Készlet": "6000"
                                },
                                {
                                    "Termék kód": "04110273T",
                                    "Készlet": "6200"
                                },
                                {
                                    "Termék kód": "01020299T",
                                    "Készlet": "6600"
                                },
                                {
                                    "Termék kód": "02040292T",
                                    "Készlet": "6900"
                                },
                                {
                                    "Termék kód": "06040174T",
                                    "Készlet": "7000"
                                },
                                {
                                    "Termék kód": "07080468T",
                                    "Készlet": "7200"
                                },
                                {
                                    "Termék kód": "04040090T",
                                    "Készlet": "7700"
                                },
                                {
                                    "Termék kód": "03050458T",
                                    "Készlet": "8000"
                                },
                                {
                                    "Termék kód": "07080318T",
                                    "Készlet": "8000"
                                },
                                {
                                    "Termék kód": "07080467T",
                                    "Készlet": "8000"
                                },
                                {
                                    "Termék kód": "08070475T",
                                    "Készlet": "9000"
                                },
                                {
                                    "Termék kód": "02040293T",
                                    "Készlet": "9000"
                                },
                                {
                                    "Termék kód": "02080435T",
                                    "Készlet": "10000"
                                },
                                {
                                    "Termék kód": "02030044T",
                                    "Készlet": "10000"
                                },
                                {
                                    "Termék kód": "02040002T",
                                    "Készlet": "10000"
                                },
                                {
                                    "Termék kód": "04030236T",
                                    "Készlet": "10000"
                                },
                                {
                                    "Termék kód": "07080314T",
                                    "Készlet": "12000"
                                },
                                {
                                    "Termék kód": "07080313T",
                                    "Készlet": "12500"
                                },
                                {
                                    "Termék kód": "07080470T",
                                    "Készlet": "15000"
                                },
                                {
                                    "Termék kód": "07080311T",
                                    "Készlet": "22000"
                                },
                                {
                                    "Termék kód": "07080315T",
                                    "Készlet": "25000"
                                },
                                {
                                    "Termék kód": "03050080T",
                                    "Készlet": "26000"
                                },
                                {
                                    "Termék kód": "07080164T",
                                    "Készlet": "30000"
                                },
                                {
                                    "Termék kód": "07080469T",
                                    "Készlet": "35000"
                                },
                                {
                                    "Termék kód": "03050079T",
                                    "Készlet": "40000"
                                },
                                {
                                    "Termék kód": "03050457T",
                                    "Készlet": "50000"
                                },
                                {
                                    "Termék kód": "07080471T",
                                    "Készlet": "50000"
                                }
                            ]
                        },
                        "text/html": [
                            "<table>",
                            "<tr><th>Termék kód</th><th>Készlet</th></tr>",
                            "<tr><td>06080336T</td><td>4900</td></tr>",
                            "<tr><td>08070480T</td><td>5000</td></tr>",
                            "<tr><td>05010306T</td><td>5000</td></tr>",
                            "<tr><td>04030287T</td><td>5100</td></tr>",
                            "<tr><td>05010027T</td><td>5900</td></tr>",
                            "<tr><td>07080163T</td><td>6000</td></tr>",
                            "<tr><td>07080419T</td><td>6000</td></tr>",
                            "<tr><td>04110273T</td><td>6200</td></tr>",
                            "<tr><td>01020299T</td><td>6600</td></tr>",
                            "<tr><td>02040292T</td><td>6900</td></tr>",
                            "<tr><td>06040174T</td><td>7000</td></tr>",
                            "<tr><td>07080468T</td><td>7200</td></tr>",
                            "<tr><td>04040090T</td><td>7700</td></tr>",
                            "<tr><td>03050458T</td><td>8000</td></tr>",
                            "<tr><td>07080318T</td><td>8000</td></tr>",
                            "<tr><td>07080467T</td><td>8000</td></tr>",
                            "<tr><td>08070475T</td><td>9000</td></tr>",
                            "<tr><td>02040293T</td><td>9000</td></tr>",
                            "<tr><td>02080435T</td><td>10000</td></tr>",
                            "<tr><td>02030044T</td><td>10000</td></tr>",
                            "<tr><td>02040002T</td><td>10000</td></tr>",
                            "<tr><td>04030236T</td><td>10000</td></tr>",
                            "<tr><td>07080314T</td><td>12000</td></tr>",
                            "<tr><td>07080313T</td><td>12500</td></tr>",
                            "<tr><td>07080470T</td><td>15000</td></tr>",
                            "<tr><td>07080311T</td><td>22000</td></tr>",
                            "<tr><td>07080315T</td><td>25000</td></tr>",
                            "<tr><td>03050080T</td><td>26000</td></tr>",
                            "<tr><td>07080164T</td><td>30000</td></tr>",
                            "<tr><td>07080469T</td><td>35000</td></tr>",
                            "<tr><td>03050079T</td><td>40000</td></tr>",
                            "<tr><td>03050457T</td><td>50000</td></tr>",
                            "<tr><td>07080471T</td><td>50000</td></tr>",
                            "</table>"
                        ]
                    }
                }
            ],
            "execution_count": 40
        },
        {
            "cell_type": "markdown",
            "source": [
                "**RAKTAR\\_KOD oszlop**"
            ],
            "metadata": {
                "azdata_cell_guid": "58fe2af9-6c62-4196-b6ea-9452bba32d45"
            },
            "attachments": {}
        },
        {
            "cell_type": "code",
            "source": [
                "SELECT \r\n",
                "    RAKTAR_KOD AS 'Raktár kód', \r\n",
                "    COUNT(*) AS 'Termékek száma'\r\n",
                "FROM TERMEK\r\n",
                "GROUP BY RAKTAR_KOD"
            ],
            "metadata": {
                "language": "sql",
                "azdata_cell_guid": "222ecd45-ba20-4606-970c-caa4fe949e59"
            },
            "outputs": [
                {
                    "output_type": "display_data",
                    "data": {
                        "text/html": "(9 rows affected)"
                    },
                    "metadata": {}
                },
                {
                    "output_type": "display_data",
                    "data": {
                        "text/html": "Total execution time: 00:00:00.023"
                    },
                    "metadata": {}
                },
                {
                    "output_type": "execute_result",
                    "metadata": {},
                    "execution_count": 43,
                    "data": {
                        "application/vnd.dataresource+json": {
                            "schema": {
                                "fields": [
                                    {
                                        "name": "Raktár kód"
                                    },
                                    {
                                        "name": "Termékek száma"
                                    }
                                ]
                            },
                            "data": [
                                {
                                    "Raktár kód": "1",
                                    "Termékek száma": "11"
                                },
                                {
                                    "Raktár kód": "2",
                                    "Termékek száma": "5"
                                },
                                {
                                    "Raktár kód": "3",
                                    "Termékek száma": "14"
                                },
                                {
                                    "Raktár kód": "4",
                                    "Termékek száma": "4"
                                },
                                {
                                    "Raktár kód": "5",
                                    "Termékek száma": "86"
                                },
                                {
                                    "Raktár kód": "6",
                                    "Termékek száma": "106"
                                },
                                {
                                    "Raktár kód": "7",
                                    "Termékek száma": "100"
                                },
                                {
                                    "Raktár kód": "8",
                                    "Termékek száma": "123"
                                },
                                {
                                    "Raktár kód": "9",
                                    "Termékek száma": "102"
                                }
                            ]
                        },
                        "text/html": [
                            "<table>",
                            "<tr><th>Raktár kód</th><th>Termékek száma</th></tr>",
                            "<tr><td>1</td><td>11</td></tr>",
                            "<tr><td>2</td><td>5</td></tr>",
                            "<tr><td>3</td><td>14</td></tr>",
                            "<tr><td>4</td><td>4</td></tr>",
                            "<tr><td>5</td><td>86</td></tr>",
                            "<tr><td>6</td><td>106</td></tr>",
                            "<tr><td>7</td><td>100</td></tr>",
                            "<tr><td>8</td><td>123</td></tr>",
                            "<tr><td>9</td><td>102</td></tr>",
                            "</table>"
                        ]
                    }
                }
            ],
            "execution_count": 43
        }
    ]
}